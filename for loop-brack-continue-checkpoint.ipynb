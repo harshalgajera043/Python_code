{
 "cells": [
  {
   "cell_type": "code",
   "execution_count": 1,
   "id": "bd92ddd1-fe8a-4832-a32f-c2f1db6a8438",
   "metadata": {},
   "outputs": [
    {
     "name": "stdout",
     "output_type": "stream",
     "text": [
      "1\n",
      "2\n",
      "3\n",
      "4\n"
     ]
    }
   ],
   "source": [
    "i=0\n",
    "lst=[1,2,3,4,5,6,7,8,9,10]\n",
    "for i in lst:\n",
    "    if(i==5):\n",
    "        break\n",
    "        i=i+1\n",
    "    print(i)"
   ]
  },
  {
   "cell_type": "code",
   "execution_count": 2,
   "id": "06245dcc-eab6-40f9-a9b0-25bd8f6d9546",
   "metadata": {},
   "outputs": [
    {
     "name": "stdout",
     "output_type": "stream",
     "text": [
      "1\n",
      "2\n",
      "3\n",
      "4\n",
      "6\n",
      "7\n",
      "8\n",
      "9\n",
      "10\n"
     ]
    }
   ],
   "source": [
    "#continue\n",
    "i=0\n",
    "lst=[1,2,3,4,5,6,7,8,9,10]\n",
    "for i in lst:\n",
    "    if(i==5):\n",
    "        continue\n",
    "        i=i+1\n",
    "    print(i)"
   ]
  },
  {
   "cell_type": "code",
   "execution_count": 4,
   "id": "92aedb97-d879-4747-b60d-0b137182af52",
   "metadata": {},
   "outputs": [
    {
     "name": "stdout",
     "output_type": "stream",
     "text": [
      "0\n",
      "3\n",
      "2\n",
      "5\n",
      "4\n",
      "7\n",
      "6\n",
      "9\n",
      "8\n",
      "11\n"
     ]
    }
   ],
   "source": [
    "#for loop\n",
    "i=0\n",
    "lst=[1,2,3,4,5,6,7,8,9,10]\n",
    "\n",
    "for i in lst:\n",
    "    if(i%2==0):\n",
    "        i=i+1\n",
    "    else:\n",
    "        i=i-1\n",
    "    print(i)"
   ]
  },
  {
   "cell_type": "code",
   "execution_count": null,
   "id": "ad4addef-7bc6-4373-a84d-46edd45a3ed5",
   "metadata": {},
   "outputs": [],
   "source": []
  }
 ],
 "metadata": {
  "kernelspec": {
   "display_name": "Python 3 (ipykernel)",
   "language": "python",
   "name": "python3"
  },
  "language_info": {
   "codemirror_mode": {
    "name": "ipython",
    "version": 3
   },
   "file_extension": ".py",
   "mimetype": "text/x-python",
   "name": "python",
   "nbconvert_exporter": "python",
   "pygments_lexer": "ipython3",
   "version": "3.9.12"
  }
 },
 "nbformat": 4,
 "nbformat_minor": 5
}
