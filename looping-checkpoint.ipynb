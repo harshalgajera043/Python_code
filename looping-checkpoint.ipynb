{
 "cells": [
  {
   "cell_type": "code",
   "execution_count": 2,
   "id": "3c4a93e5-88cc-44aa-aeee-302686e44158",
   "metadata": {},
   "outputs": [
    {
     "name": "stdout",
     "output_type": "stream",
     "text": [
      "16\n"
     ]
    }
   ],
   "source": [
    "i=0\n",
    "while(i<=15):\n",
    "  i=i+1\n",
    "print(i)"
   ]
  },
  {
   "cell_type": "code",
   "execution_count": null,
   "id": "a7d4e107-5306-4d97-9e54-6f3d90115e49",
   "metadata": {},
   "outputs": [],
   "source": [
    "## sum of even and odd number using while loop and if-else condition\n",
    "i=0\n",
    "even_sum=0\n",
    "odd_sum=0\n",
    "while(i<=10):\n",
    "    if(i%2==0):\n",
    "        even_sum=even_sum+i\n",
    "    else:\n",
    "        odd_sum=odd_sum+i\n",
    "print(even_sum,odd_sum)\n",
    "print(\"even sum for the given loop is {} and odd sum for this loop is {}\".format(even_sum,odd_sum))"
   ]
  },
  {
   "cell_type": "code",
   "execution_count": null,
   "id": "5bec7811-9fb6-48e1-83a9-74f690ca10b0",
   "metadata": {},
   "outputs": [],
   "source": [
    "#for loop\n",
    "i=0\n",
    "lst=[1,2,3,4,5,6,7,8,9,10]\n",
    "\n",
    "for i in lst:\n",
    "    if(i%2==0):\n",
    "        i=i+1\n",
    "    print(i)"
   ]
  },
  {
   "cell_type": "code",
   "execution_count": null,
   "id": "64319c3e-bc7d-40b6-b6d8-6e529ca99984",
   "metadata": {},
   "outputs": [],
   "source": [
    "#break\n",
    "i=0\n",
    "lst=[1,2,3,4,5,6,7,8,9,10]\n",
    "for i in lst:\n",
    "    if(i==5):\n",
    "        break\n",
    "        i=i+1\n",
    "    print(i)"
   ]
  },
  {
   "cell_type": "code",
   "execution_count": null,
   "id": "d6006dbd-e17e-43c1-8341-316ae2f5f196",
   "metadata": {},
   "outputs": [],
   "source": [
    "#continue\n",
    "i=0\n",
    "lst=[1,2,3,4,5,6,7,8,9,10]\n",
    "for i in lst:\n",
    "    if(i==5):\n",
    "        continue\n",
    "        i=i+1\n",
    "    print(i)"
   ]
  },
  {
   "cell_type": "code",
   "execution_count": null,
   "id": "4a8066ae-c30e-43aa-bd0f-fa645fabc124",
   "metadata": {},
   "outputs": [],
   "source": []
  }
 ],
 "metadata": {
  "kernelspec": {
   "display_name": "Python 3 (ipykernel)",
   "language": "python",
   "name": "python3"
  },
  "language_info": {
   "codemirror_mode": {
    "name": "ipython",
    "version": 3
   },
   "file_extension": ".py",
   "mimetype": "text/x-python",
   "name": "python",
   "nbconvert_exporter": "python",
   "pygments_lexer": "ipython3",
   "version": "3.9.12"
  }
 },
 "nbformat": 4,
 "nbformat_minor": 5
}
