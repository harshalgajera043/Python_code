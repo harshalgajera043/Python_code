{
 "cells": [
  {
   "cell_type": "code",
   "execution_count": null,
   "id": "927da042-8499-436f-a3fa-e8600acba317",
   "metadata": {},
   "outputs": [],
   "source": []
  },
  {
   "cell_type": "code",
   "execution_count": 1,
   "id": "44da8ffe-e2ca-4b7e-96ed-6b3690998d86",
   "metadata": {},
   "outputs": [
    {
     "data": {
      "text/plain": [
       "'harshal harshal harshal harshal harshal harshal harshal harshal harshal harshal '"
      ]
     },
     "execution_count": 1,
     "metadata": {},
     "output_type": "execute_result"
    }
   ],
   "source": [
    "10 * \"harshal \""
   ]
  },
  {
   "cell_type": "code",
   "execution_count": 2,
   "id": "37cf46c3-187f-4577-8ece-20c5cc2de3ef",
   "metadata": {},
   "outputs": [],
   "source": [
    "a = 1;\n",
    "b = 2;\n",
    "c = 3;"
   ]
  },
  {
   "cell_type": "code",
   "execution_count": 3,
   "id": "3cfe89fe-d485-4fd6-b175-bccedfdca7d0",
   "metadata": {},
   "outputs": [
    {
     "data": {
      "text/plain": [
       "1"
      ]
     },
     "execution_count": 3,
     "metadata": {},
     "output_type": "execute_result"
    }
   ],
   "source": [
    "a"
   ]
  },
  {
   "cell_type": "code",
   "execution_count": 4,
   "id": "8623f778-6ef8-42db-94eb-d53e26ed4a4b",
   "metadata": {},
   "outputs": [
    {
     "data": {
      "text/plain": [
       "3"
      ]
     },
     "execution_count": 4,
     "metadata": {},
     "output_type": "execute_result"
    }
   ],
   "source": [
    "a+b"
   ]
  },
  {
   "cell_type": "code",
   "execution_count": 5,
   "id": "24ee3ff2-a175-4a13-b594-857e0094bc6e",
   "metadata": {},
   "outputs": [],
   "source": [
    "a=b"
   ]
  },
  {
   "cell_type": "code",
   "execution_count": null,
   "id": "7d0810ab-0c00-4123-87b8-e5774ae87d52",
   "metadata": {},
   "outputs": [],
   "source": []
  },
  {
   "cell_type": "code",
   "execution_count": 6,
   "id": "5454e544-1ae3-43c7-8862-1f892a6e3c13",
   "metadata": {},
   "outputs": [
    {
     "data": {
      "text/plain": [
       "2"
      ]
     },
     "execution_count": 6,
     "metadata": {},
     "output_type": "execute_result"
    }
   ],
   "source": [
    "a"
   ]
  },
  {
   "cell_type": "code",
   "execution_count": 7,
   "id": "7726c21e-13b2-4cf1-823d-d9c6d86f0fc8",
   "metadata": {},
   "outputs": [
    {
     "data": {
      "text/plain": [
       "2"
      ]
     },
     "execution_count": 7,
     "metadata": {},
     "output_type": "execute_result"
    }
   ],
   "source": [
    "b"
   ]
  },
  {
   "cell_type": "code",
   "execution_count": 8,
   "id": "ace04570-f356-4c1d-b9b9-67c2d51021df",
   "metadata": {},
   "outputs": [
    {
     "data": {
      "text/plain": [
       "4"
      ]
     },
     "execution_count": 8,
     "metadata": {},
     "output_type": "execute_result"
    }
   ],
   "source": [
    "a+b"
   ]
  },
  {
   "cell_type": "code",
   "execution_count": 9,
   "id": "7b1eff58-187a-43a9-9032-469de427cd66",
   "metadata": {},
   "outputs": [
    {
     "data": {
      "text/plain": [
       "3"
      ]
     },
     "execution_count": 9,
     "metadata": {},
     "output_type": "execute_result"
    }
   ],
   "source": [
    "c"
   ]
  },
  {
   "cell_type": "code",
   "execution_count": 10,
   "id": "df25131d-3642-43b3-8829-144c0ebb311c",
   "metadata": {},
   "outputs": [
    {
     "data": {
      "text/plain": [
       "100"
      ]
     },
     "execution_count": 10,
     "metadata": {},
     "output_type": "execute_result"
    }
   ],
   "source": [
    "10 **2"
   ]
  },
  {
   "cell_type": "code",
   "execution_count": 11,
   "id": "a8ba4afe-030b-4e69-bced-5f6d7a49fd18",
   "metadata": {},
   "outputs": [
    {
     "ename": "SyntaxError",
     "evalue": "invalid syntax (961984467.py, line 1)",
     "output_type": "error",
     "traceback": [
      "\u001b[1;36m  Input \u001b[1;32mIn [11]\u001b[1;36m\u001b[0m\n\u001b[1;33m    19 ***3\u001b[0m\n\u001b[1;37m         ^\u001b[0m\n\u001b[1;31mSyntaxError\u001b[0m\u001b[1;31m:\u001b[0m invalid syntax\n"
     ]
    }
   ],
   "source": [
    "19 ***3"
   ]
  },
  {
   "cell_type": "code",
   "execution_count": 12,
   "id": "fbd8d1fc-ee33-44b2-9147-048cbd62db5b",
   "metadata": {},
   "outputs": [
    {
     "data": {
      "text/plain": [
       "361"
      ]
     },
     "execution_count": 12,
     "metadata": {},
     "output_type": "execute_result"
    }
   ],
   "source": [
    "19 **2"
   ]
  },
  {
   "cell_type": "code",
   "execution_count": 13,
   "id": "43193687-3c31-4abd-9948-f2504f453818",
   "metadata": {},
   "outputs": [
    {
     "data": {
      "text/plain": [
       "int"
      ]
     },
     "execution_count": 13,
     "metadata": {},
     "output_type": "execute_result"
    }
   ],
   "source": [
    "type (a)"
   ]
  },
  {
   "cell_type": "code",
   "execution_count": 14,
   "id": "b1b1133d-7af7-4a80-92f5-8a23858f65c0",
   "metadata": {},
   "outputs": [],
   "source": [
    "a = \"Harshal\";\n",
    "b = 12;\n",
    "c = 124;"
   ]
  },
  {
   "cell_type": "code",
   "execution_count": 15,
   "id": "86deb591-8348-4f50-81c0-d277154681d3",
   "metadata": {},
   "outputs": [
    {
     "data": {
      "text/plain": [
       "'Harshal'"
      ]
     },
     "execution_count": 15,
     "metadata": {},
     "output_type": "execute_result"
    }
   ],
   "source": [
    "a"
   ]
  },
  {
   "cell_type": "code",
   "execution_count": null,
   "id": "01287016-0946-4070-91f4-524fd293fa84",
   "metadata": {},
   "outputs": [],
   "source": []
  },
  {
   "cell_type": "code",
   "execution_count": 16,
   "id": "5e5fd9c8-44f2-4907-afce-4d41969a819f",
   "metadata": {},
   "outputs": [
    {
     "data": {
      "text/plain": [
       "12"
      ]
     },
     "execution_count": 16,
     "metadata": {},
     "output_type": "execute_result"
    }
   ],
   "source": [
    "b"
   ]
  },
  {
   "cell_type": "code",
   "execution_count": 17,
   "id": "89b5e38e-4923-4535-8ec7-04d4387f089f",
   "metadata": {},
   "outputs": [
    {
     "data": {
      "text/plain": [
       "str"
      ]
     },
     "execution_count": 17,
     "metadata": {},
     "output_type": "execute_result"
    }
   ],
   "source": [
    "type (a)"
   ]
  },
  {
   "cell_type": "code",
   "execution_count": 18,
   "id": "17c5df55-0312-49e6-aa0d-1f83e8a8f658",
   "metadata": {},
   "outputs": [
    {
     "data": {
      "text/plain": [
       "int"
      ]
     },
     "execution_count": 18,
     "metadata": {},
     "output_type": "execute_result"
    }
   ],
   "source": [
    "type (b)"
   ]
  },
  {
   "cell_type": "code",
   "execution_count": 19,
   "id": "986eb8e5-6ce3-4fcc-ac37-f2c30a9badf8",
   "metadata": {},
   "outputs": [
    {
     "data": {
      "text/plain": [
       "int"
      ]
     },
     "execution_count": 19,
     "metadata": {},
     "output_type": "execute_result"
    }
   ],
   "source": [
    "type (1)"
   ]
  },
  {
   "cell_type": "code",
   "execution_count": 20,
   "id": "e999dc84-cb34-4437-adad-02e7c43614b1",
   "metadata": {},
   "outputs": [
    {
     "ename": "TypeError",
     "evalue": "type() takes 1 or 3 arguments",
     "output_type": "error",
     "traceback": [
      "\u001b[1;31m---------------------------------------------------------------------------\u001b[0m",
      "\u001b[1;31mTypeError\u001b[0m                                 Traceback (most recent call last)",
      "Input \u001b[1;32mIn [20]\u001b[0m, in \u001b[0;36m<cell line: 1>\u001b[1;34m()\u001b[0m\n\u001b[1;32m----> 1\u001b[0m \u001b[38;5;28;43mtype\u001b[39;49m\u001b[43m \u001b[49m\u001b[43m(\u001b[49m\u001b[43m)\u001b[49m\n",
      "\u001b[1;31mTypeError\u001b[0m: type() takes 1 or 3 arguments"
     ]
    }
   ],
   "source": [
    "type ()"
   ]
  },
  {
   "cell_type": "code",
   "execution_count": null,
   "id": "24698444-db18-44f6-a485-f17de970e8c8",
   "metadata": {},
   "outputs": [],
   "source": [
    "type (10.08786)"
   ]
  },
  {
   "cell_type": "code",
   "execution_count": null,
   "id": "8c1b58bc-22c1-44b3-b46d-918f7da2eee2",
   "metadata": {},
   "outputs": [],
   "source": [
    "type (1,0)"
   ]
  },
  {
   "cell_type": "code",
   "execution_count": null,
   "id": "09abe396-aca5-4dd5-a7fb-16dfc8a8d9f9",
   "metadata": {},
   "outputs": [],
   "source": [
    "type (0.9)"
   ]
  },
  {
   "cell_type": "code",
   "execution_count": 21,
   "id": "a57449b4-53f8-4869-8dc0-2e2f5325c367",
   "metadata": {},
   "outputs": [
    {
     "ename": "SyntaxError",
     "evalue": "invalid syntax (274193157.py, line 1)",
     "output_type": "error",
     "traceback": [
      "\u001b[1;36m  Input \u001b[1;32mIn [21]\u001b[1;36m\u001b[0m\n\u001b[1;33m    type ( 8(9);)\u001b[0m\n\u001b[1;37m               ^\u001b[0m\n\u001b[1;31mSyntaxError\u001b[0m\u001b[1;31m:\u001b[0m invalid syntax\n"
     ]
    }
   ],
   "source": [
    "type ( 8(9);)"
   ]
  },
  {
   "cell_type": "code",
   "execution_count": 22,
   "id": "a1333d3b-7e5c-4709-9753-bf2bd0446414",
   "metadata": {},
   "outputs": [
    {
     "ename": "NameError",
     "evalue": "name 'y' is not defined",
     "output_type": "error",
     "traceback": [
      "\u001b[1;31m---------------------------------------------------------------------------\u001b[0m",
      "\u001b[1;31mNameError\u001b[0m                                 Traceback (most recent call last)",
      "Input \u001b[1;32mIn [22]\u001b[0m, in \u001b[0;36m<cell line: 1>\u001b[1;34m()\u001b[0m\n\u001b[1;32m----> 1\u001b[0m \u001b[38;5;28mtype\u001b[39m (\u001b[43my\u001b[49m)\n",
      "\u001b[1;31mNameError\u001b[0m: name 'y' is not defined"
     ]
    }
   ],
   "source": [
    "type (y)"
   ]
  },
  {
   "cell_type": "code",
   "execution_count": 23,
   "id": "9bbd99e8-e6d4-41e1-9674-0647e1e48459",
   "metadata": {},
   "outputs": [
    {
     "data": {
      "text/plain": [
       "str"
      ]
     },
     "execution_count": 23,
     "metadata": {},
     "output_type": "execute_result"
    }
   ],
   "source": [
    "type (\"Harshal\")"
   ]
  },
  {
   "cell_type": "code",
   "execution_count": 24,
   "id": "dca734b3-c77c-429d-a1e5-adad6e484b6b",
   "metadata": {},
   "outputs": [
    {
     "ename": "SyntaxError",
     "evalue": "expression cannot contain assignment, perhaps you meant \"==\"? (1086055840.py, line 1)",
     "output_type": "error",
     "traceback": [
      "\u001b[1;36m  Input \u001b[1;32mIn [24]\u001b[1;36m\u001b[0m\n\u001b[1;33m    bool (1=1);\u001b[0m\n\u001b[1;37m          ^\u001b[0m\n\u001b[1;31mSyntaxError\u001b[0m\u001b[1;31m:\u001b[0m expression cannot contain assignment, perhaps you meant \"==\"?\n"
     ]
    }
   ],
   "source": [
    "bool (1=1);"
   ]
  },
  {
   "cell_type": "code",
   "execution_count": 25,
   "id": "cf0614ce-a60c-4c57-bfa2-fd18866cb462",
   "metadata": {},
   "outputs": [
    {
     "ename": "NameError",
     "evalue": "name 'Bool' is not defined",
     "output_type": "error",
     "traceback": [
      "\u001b[1;31m---------------------------------------------------------------------------\u001b[0m",
      "\u001b[1;31mNameError\u001b[0m                                 Traceback (most recent call last)",
      "Input \u001b[1;32mIn [25]\u001b[0m, in \u001b[0;36m<cell line: 1>\u001b[1;34m()\u001b[0m\n\u001b[1;32m----> 1\u001b[0m \u001b[43mBool\u001b[49m (\u001b[38;5;241m1\u001b[39m)\n",
      "\u001b[1;31mNameError\u001b[0m: name 'Bool' is not defined"
     ]
    }
   ],
   "source": [
    "Bool (1)"
   ]
  },
  {
   "cell_type": "code",
   "execution_count": 26,
   "id": "d8764207-dbb2-4f34-98ea-70a020fe75d3",
   "metadata": {},
   "outputs": [],
   "source": [
    "## check the data type"
   ]
  },
  {
   "cell_type": "code",
   "execution_count": 27,
   "id": "f73aa5af-d1fe-40ae-9c0c-25d0dcaa12f8",
   "metadata": {},
   "outputs": [],
   "source": [
    "# type 1"
   ]
  },
  {
   "cell_type": "markdown",
   "id": "ab8c11fe-91fe-43c0-b6cd-f726d8b30f74",
   "metadata": {},
   "source": [
    "# check the data type"
   ]
  },
  {
   "cell_type": "markdown",
   "id": "1e9611a2-cbde-41e2-aeb6-c93b169ebe25",
   "metadata": {},
   "source": [
    "## type 1 integer"
   ]
  },
  {
   "cell_type": "code",
   "execution_count": 31,
   "id": "4dec3480-f68e-43a1-813a-e2f6bdb3d61e",
   "metadata": {},
   "outputs": [
    {
     "ename": "NameError",
     "evalue": "name 'Type' is not defined",
     "output_type": "error",
     "traceback": [
      "\u001b[1;31m---------------------------------------------------------------------------\u001b[0m",
      "\u001b[1;31mNameError\u001b[0m                                 Traceback (most recent call last)",
      "Input \u001b[1;32mIn [31]\u001b[0m, in \u001b[0;36m<cell line: 1>\u001b[1;34m()\u001b[0m\n\u001b[1;32m----> 1\u001b[0m \u001b[43mType\u001b[49m (true)\n",
      "\u001b[1;31mNameError\u001b[0m: name 'Type' is not defined"
     ]
    }
   ],
   "source": [
    "Type (true)"
   ]
  },
  {
   "cell_type": "code",
   "execution_count": 32,
   "id": "02af27c2-145b-4c98-aad8-57555083e037",
   "metadata": {},
   "outputs": [
    {
     "ename": "NameError",
     "evalue": "name 'true' is not defined",
     "output_type": "error",
     "traceback": [
      "\u001b[1;31m---------------------------------------------------------------------------\u001b[0m",
      "\u001b[1;31mNameError\u001b[0m                                 Traceback (most recent call last)",
      "Input \u001b[1;32mIn [32]\u001b[0m, in \u001b[0;36m<cell line: 1>\u001b[1;34m()\u001b[0m\n\u001b[1;32m----> 1\u001b[0m \u001b[38;5;28mtype\u001b[39m (\u001b[43mtrue\u001b[49m)\n",
      "\u001b[1;31mNameError\u001b[0m: name 'true' is not defined"
     ]
    }
   ],
   "source": [
    "type (true)"
   ]
  },
  {
   "cell_type": "code",
   "execution_count": 33,
   "id": "d86399a9-04a2-49d1-84dc-5a70f13f65d3",
   "metadata": {},
   "outputs": [
    {
     "data": {
      "text/plain": [
       "bool"
      ]
     },
     "execution_count": 33,
     "metadata": {},
     "output_type": "execute_result"
    }
   ],
   "source": [
    "type(True)"
   ]
  },
  {
   "cell_type": "code",
   "execution_count": 34,
   "id": "274a19ae-b5b5-4fda-b63f-4c4afb663334",
   "metadata": {},
   "outputs": [
    {
     "data": {
      "text/plain": [
       "int"
      ]
     },
     "execution_count": 34,
     "metadata": {},
     "output_type": "execute_result"
    }
   ],
   "source": [
    "type(1)"
   ]
  },
  {
   "cell_type": "code",
   "execution_count": 35,
   "id": "12fb4b32-0ff6-4d9b-a3dc-cb22e674a738",
   "metadata": {},
   "outputs": [
    {
     "data": {
      "text/plain": [
       "int"
      ]
     },
     "execution_count": 35,
     "metadata": {},
     "output_type": "execute_result"
    }
   ],
   "source": [
    "type (1)"
   ]
  },
  {
   "cell_type": "code",
   "execution_count": 36,
   "id": "2d093fcc-2ee8-4d97-8f37-9caaf52aa01d",
   "metadata": {},
   "outputs": [],
   "source": [
    "  a = 11\n",
    "    "
   ]
  },
  {
   "cell_type": "code",
   "execution_count": 37,
   "id": "c16e0a1b-4974-422e-8768-9cc33dafbe1f",
   "metadata": {},
   "outputs": [
    {
     "data": {
      "text/plain": [
       "11"
      ]
     },
     "execution_count": 37,
     "metadata": {},
     "output_type": "execute_result"
    }
   ],
   "source": [
    "a"
   ]
  },
  {
   "cell_type": "code",
   "execution_count": 38,
   "id": "3219ebd0-560d-433d-9314-0d92198f12b6",
   "metadata": {},
   "outputs": [],
   "source": [
    "b = \"harshal Gajera\""
   ]
  },
  {
   "cell_type": "code",
   "execution_count": 39,
   "id": "7c78a4e2-be2f-4c5b-bc5d-1b401a8c54f2",
   "metadata": {},
   "outputs": [
    {
     "data": {
      "text/plain": [
       "'harshal Gajera'"
      ]
     },
     "execution_count": 39,
     "metadata": {},
     "output_type": "execute_result"
    }
   ],
   "source": [
    "b"
   ]
  },
  {
   "cell_type": "code",
   "execution_count": 40,
   "id": "9654964b-d1a0-425d-9bc9-f252f163c8cf",
   "metadata": {},
   "outputs": [
    {
     "data": {
      "text/plain": [
       "str"
      ]
     },
     "execution_count": 40,
     "metadata": {},
     "output_type": "execute_result"
    }
   ],
   "source": [
    "type (b)"
   ]
  },
  {
   "cell_type": "code",
   "execution_count": 41,
   "id": "9169a21c-02eb-4787-b78e-d4af281d318a",
   "metadata": {},
   "outputs": [
    {
     "data": {
      "text/plain": [
       "int"
      ]
     },
     "execution_count": 41,
     "metadata": {},
     "output_type": "execute_result"
    }
   ],
   "source": [
    "type(a)"
   ]
  },
  {
   "cell_type": "code",
   "execution_count": 42,
   "id": "a40caad9-0e1b-46b7-bad7-54191dbd21a1",
   "metadata": {},
   "outputs": [],
   "source": [
    "a=10\n",
    "b=20\n",
    "c=30"
   ]
  },
  {
   "cell_type": "code",
   "execution_count": 43,
   "id": "a3a0cd41-20eb-4c5b-b893-2ae5202fc003",
   "metadata": {},
   "outputs": [
    {
     "data": {
      "text/plain": [
       "10"
      ]
     },
     "execution_count": 43,
     "metadata": {},
     "output_type": "execute_result"
    }
   ],
   "source": [
    "a"
   ]
  },
  {
   "cell_type": "code",
   "execution_count": 44,
   "id": "1fb23ebd-c236-4aa3-895b-7a8f82fd05db",
   "metadata": {},
   "outputs": [
    {
     "data": {
      "text/plain": [
       "20"
      ]
     },
     "execution_count": 44,
     "metadata": {},
     "output_type": "execute_result"
    }
   ],
   "source": [
    "b"
   ]
  },
  {
   "cell_type": "code",
   "execution_count": 45,
   "id": "a2de1dcf-a707-4c06-8cd8-c3b49aafd971",
   "metadata": {},
   "outputs": [
    {
     "data": {
      "text/plain": [
       "30"
      ]
     },
     "execution_count": 45,
     "metadata": {},
     "output_type": "execute_result"
    }
   ],
   "source": [
    "c"
   ]
  },
  {
   "cell_type": "code",
   "execution_count": 46,
   "id": "7689c747-1595-4768-a8e6-507df99af005",
   "metadata": {},
   "outputs": [
    {
     "data": {
      "text/plain": [
       "30"
      ]
     },
     "execution_count": 46,
     "metadata": {},
     "output_type": "execute_result"
    }
   ],
   "source": [
    "a+b"
   ]
  },
  {
   "cell_type": "code",
   "execution_count": 47,
   "id": "e1baf0eb-de89-4bdc-8106-3c7860a0fda4",
   "metadata": {},
   "outputs": [],
   "source": [
    "d=40"
   ]
  },
  {
   "cell_type": "code",
   "execution_count": 48,
   "id": "1607a92a-97f4-43de-8e2f-f67e7c067963",
   "metadata": {},
   "outputs": [
    {
     "data": {
      "text/plain": [
       "70"
      ]
     },
     "execution_count": 48,
     "metadata": {},
     "output_type": "execute_result"
    }
   ],
   "source": [
    "c+d"
   ]
  },
  {
   "cell_type": "raw",
   "id": "2d93eccf-2275-481f-b0f0-353e6aaf49c2",
   "metadata": {},
   "source": [
    "Print(a/b)\n",
    "Print (a+b)"
   ]
  },
  {
   "cell_type": "code",
   "execution_count": 49,
   "id": "d764b599-e5bf-4ed8-865e-021bb0bdad7c",
   "metadata": {},
   "outputs": [
    {
     "name": "stdout",
     "output_type": "stream",
     "text": [
      "0.5\n",
      "30\n",
      "-10\n",
      "10\n"
     ]
    }
   ],
   "source": [
    "print(a/b)\n",
    "print(a+b)\n",
    "print(a-b)\n",
    "print(a%b)"
   ]
  },
  {
   "cell_type": "code",
   "execution_count": 50,
   "id": "683347a5-053f-4a9f-ac64-1888bf7f74b6",
   "metadata": {},
   "outputs": [
    {
     "name": "stdout",
     "output_type": "stream",
     "text": [
      "4\n"
     ]
    }
   ],
   "source": [
    "print (4)"
   ]
  },
  {
   "cell_type": "code",
   "execution_count": 51,
   "id": "dd083386-53be-4473-bd10-37689557b197",
   "metadata": {},
   "outputs": [
    {
     "ename": "NameError",
     "evalue": "name 'flush' is not defined",
     "output_type": "error",
     "traceback": [
      "\u001b[1;31m---------------------------------------------------------------------------\u001b[0m",
      "\u001b[1;31mNameError\u001b[0m                                 Traceback (most recent call last)",
      "Input \u001b[1;32mIn [51]\u001b[0m, in \u001b[0;36m<cell line: 1>\u001b[1;34m()\u001b[0m\n\u001b[1;32m----> 1\u001b[0m \u001b[38;5;28mprint\u001b[39m (\u001b[43mflush\u001b[49m)\n",
      "\u001b[1;31mNameError\u001b[0m: name 'flush' is not defined"
     ]
    }
   ],
   "source": [
    "print (flush)"
   ]
  },
  {
   "cell_type": "code",
   "execution_count": 52,
   "id": "bf0f79ce-edc5-43f7-a1e5-c278f61df47e",
   "metadata": {},
   "outputs": [
    {
     "name": "stdout",
     "output_type": "stream",
     "text": [
      "\n"
     ]
    }
   ],
   "source": [
    "print(flush = False)"
   ]
  },
  {
   "cell_type": "code",
   "execution_count": 53,
   "id": "711da08d-93da-4183-8374-6823654da402",
   "metadata": {},
   "outputs": [
    {
     "name": "stdout",
     "output_type": "stream",
     "text": [
      "\n"
     ]
    }
   ],
   "source": [
    "print(sep = \"harshalgajera\")"
   ]
  },
  {
   "cell_type": "code",
   "execution_count": 54,
   "id": "01ffdc73-4ec5-4dbc-a278-b66e23bc7bf9",
   "metadata": {},
   "outputs": [
    {
     "name": "stdout",
     "output_type": "stream",
     "text": [
      "\n"
     ]
    }
   ],
   "source": [
    "print(sep = \"harshalgajera\")"
   ]
  },
  {
   "cell_type": "code",
   "execution_count": 55,
   "id": "02fd2b8a-b57c-49d2-a9dd-3428aeb1b2d9",
   "metadata": {},
   "outputs": [
    {
     "name": "stdout",
     "output_type": "stream",
     "text": [
      "4\n"
     ]
    }
   ],
   "source": [
    "print(4)"
   ]
  },
  {
   "cell_type": "code",
   "execution_count": 56,
   "id": "f67b90e4-0188-4ffb-8e05-21a1f1beb23f",
   "metadata": {},
   "outputs": [
    {
     "ename": "SyntaxError",
     "evalue": "unexpected character after line continuation character (2082259178.py, line 1)",
     "output_type": "error",
     "traceback": [
      "\u001b[1;36m  Input \u001b[1;32mIn [56]\u001b[1;36m\u001b[0m\n\u001b[1;33m    print(harshal\\ngajera)\u001b[0m\n\u001b[1;37m                  ^\u001b[0m\n\u001b[1;31mSyntaxError\u001b[0m\u001b[1;31m:\u001b[0m unexpected character after line continuation character\n"
     ]
    }
   ],
   "source": [
    "print(harshal\\ngajera)"
   ]
  },
  {
   "cell_type": "code",
   "execution_count": 57,
   "id": "71e44828-5873-4e9c-9eda-06a33e6aae09",
   "metadata": {},
   "outputs": [
    {
     "name": "stdout",
     "output_type": "stream",
     "text": [
      "harshal\n",
      "gajera\n"
     ]
    }
   ],
   "source": [
    "print(\"harshal\\ngajera\")"
   ]
  },
  {
   "cell_type": "code",
   "execution_count": 58,
   "id": "942da085-847f-4c9c-90aa-663fcc116586",
   "metadata": {},
   "outputs": [
    {
     "name": "stdout",
     "output_type": "stream",
     "text": [
      "harshalgajera\n"
     ]
    }
   ],
   "source": [
    "print(\"harshal\"\"gajera\")"
   ]
  },
  {
   "cell_type": "code",
   "execution_count": 59,
   "id": "03f12480-6de3-4ba9-ab5b-fbd9ff797be0",
   "metadata": {},
   "outputs": [
    {
     "name": "stdout",
     "output_type": "stream",
     "text": [
      "harshalgajera\n"
     ]
    }
   ],
   "source": [
    "print('harshal''gajera')"
   ]
  },
  {
   "cell_type": "code",
   "execution_count": 60,
   "id": "da41428d-f72d-4396-8473-ec0c94f51f08",
   "metadata": {},
   "outputs": [
    {
     "name": "stdout",
     "output_type": "stream",
     "text": [
      "False\n"
     ]
    }
   ],
   "source": [
    "print(False)"
   ]
  },
  {
   "cell_type": "code",
   "execution_count": 61,
   "id": "50f9800a-abc0-4814-a547-8460abcfccd1",
   "metadata": {},
   "outputs": [
    {
     "ename": "SyntaxError",
     "evalue": "cannot assign to literal (1254580541.py, line 1)",
     "output_type": "error",
     "traceback": [
      "\u001b[1;36m  Input \u001b[1;32mIn [61]\u001b[1;36m\u001b[0m\n\u001b[1;33m    1= \"harshal\"\u001b[0m\n\u001b[1;37m    ^\u001b[0m\n\u001b[1;31mSyntaxError\u001b[0m\u001b[1;31m:\u001b[0m cannot assign to literal\n"
     ]
    }
   ],
   "source": [
    "1= \"harshal\"\n",
    "2= \"gajera\""
   ]
  },
  {
   "cell_type": "code",
   "execution_count": 62,
   "id": "9519ecfa-27fb-48a6-b8f0-8c9ca75a2641",
   "metadata": {},
   "outputs": [],
   "source": [
    "a= \"Harshal\"\n",
    "b= \"Gajera\""
   ]
  },
  {
   "cell_type": "code",
   "execution_count": null,
   "id": "e84eab7e-8bd2-4bbe-9418-f45e0ebf0fd8",
   "metadata": {},
   "outputs": [],
   "source": []
  },
  {
   "cell_type": "code",
   "execution_count": 63,
   "id": "812f0554-8771-4e91-a16b-9776090d0dfd",
   "metadata": {},
   "outputs": [
    {
     "name": "stdout",
     "output_type": "stream",
     "text": [
      "I am Harshal and my surname isGajera\n"
     ]
    }
   ],
   "source": [
    "print(\"I am {} and my surname is{}\".format(a,b))"
   ]
  },
  {
   "cell_type": "code",
   "execution_count": 64,
   "id": "c6f8560b-8084-4a70-acf1-a3be10421845",
   "metadata": {},
   "outputs": [
    {
     "name": "stdout",
     "output_type": "stream",
     "text": [
      "I am Harshal and my surname is Gajera\n"
     ]
    }
   ],
   "source": [
    "print(\"I am {B} and my surname is {A}\".format(B=a,A=b))"
   ]
  },
  {
   "cell_type": "code",
   "execution_count": 65,
   "id": "d3ca7faf-0b95-48d1-8c18-9cc4fc2125b0",
   "metadata": {},
   "outputs": [
    {
     "ename": "NameError",
     "evalue": "name 'harshal' is not defined",
     "output_type": "error",
     "traceback": [
      "\u001b[1;31m---------------------------------------------------------------------------\u001b[0m",
      "\u001b[1;31mNameError\u001b[0m                                 Traceback (most recent call last)",
      "Input \u001b[1;32mIn [65]\u001b[0m, in \u001b[0;36m<cell line: 1>\u001b[1;34m()\u001b[0m\n\u001b[1;32m----> 1\u001b[0m \u001b[38;5;28mlen\u001b[39m(\u001b[43mharshal\u001b[49m)\n",
      "\u001b[1;31mNameError\u001b[0m: name 'harshal' is not defined"
     ]
    }
   ],
   "source": [
    "len(harshal)"
   ]
  },
  {
   "cell_type": "code",
   "execution_count": 66,
   "id": "1a6bfed2-aa0c-4b6b-9bed-0449b97d99da",
   "metadata": {},
   "outputs": [
    {
     "data": {
      "text/plain": [
       "7"
      ]
     },
     "execution_count": 66,
     "metadata": {},
     "output_type": "execute_result"
    }
   ],
   "source": [
    "len(\"Harshal\")"
   ]
  },
  {
   "cell_type": "code",
   "execution_count": 67,
   "id": "e53db289-b3d6-43c7-84c3-2f8e01b793c4",
   "metadata": {},
   "outputs": [
    {
     "ename": "SyntaxError",
     "evalue": "invalid syntax (3078183263.py, line 1)",
     "output_type": "error",
     "traceback": [
      "\u001b[1;36m  Input \u001b[1;32mIn [67]\u001b[1;36m\u001b[0m\n\u001b[1;33m    len(\"Harshal\",/)\u001b[0m\n\u001b[1;37m                  ^\u001b[0m\n\u001b[1;31mSyntaxError\u001b[0m\u001b[1;31m:\u001b[0m invalid syntax\n"
     ]
    }
   ],
   "source": [
    "len(\"Harshal\",/)"
   ]
  },
  {
   "cell_type": "code",
   "execution_count": 68,
   "id": "e5f862e0-2367-4d06-b32d-20baa5c47535",
   "metadata": {},
   "outputs": [
    {
     "ename": "SyntaxError",
     "evalue": "invalid syntax (3043113866.py, line 1)",
     "output_type": "error",
     "traceback": [
      "\u001b[1;36m  Input \u001b[1;32mIn [68]\u001b[1;36m\u001b[0m\n\u001b[1;33m    len(Harshal,/)\u001b[0m\n\u001b[1;37m                ^\u001b[0m\n\u001b[1;31mSyntaxError\u001b[0m\u001b[1;31m:\u001b[0m invalid syntax\n"
     ]
    }
   ],
   "source": [
    "len(Harshal,/)"
   ]
  },
  {
   "cell_type": "code",
   "execution_count": 69,
   "id": "16ec5d0a-cf98-4cd7-85aa-c13f775ce8a5",
   "metadata": {},
   "outputs": [
    {
     "name": "stdout",
     "output_type": "stream",
     "text": [
      "I am Harshal and my surname isGajera\n"
     ]
    }
   ],
   "source": [
    "print(\"I am {} and my surname is{}\".format(a,b))"
   ]
  },
  {
   "cell_type": "code",
   "execution_count": 70,
   "id": "98f0e096-dfe3-47d9-8e4f-136ae9137ab7",
   "metadata": {},
   "outputs": [
    {
     "ename": "SyntaxError",
     "evalue": "invalid syntax (2219389724.py, line 1)",
     "output_type": "error",
     "traceback": [
      "\u001b[1;36m  Input \u001b[1;32mIn [70]\u001b[1;36m\u001b[0m\n\u001b[1;33m    len(Harshal, /)\u001b[0m\n\u001b[1;37m                 ^\u001b[0m\n\u001b[1;31mSyntaxError\u001b[0m\u001b[1;31m:\u001b[0m invalid syntax\n"
     ]
    }
   ],
   "source": [
    "len(Harshal, /)"
   ]
  },
  {
   "cell_type": "code",
   "execution_count": null,
   "id": "04316076-1c13-43cb-bac5-4b95b00dd825",
   "metadata": {},
   "outputs": [],
   "source": []
  },
  {
   "cell_type": "code",
   "execution_count": null,
   "id": "b6a296df-a916-4077-a6e3-b0e7659660ea",
   "metadata": {},
   "outputs": [],
   "source": []
  },
  {
   "cell_type": "code",
   "execution_count": null,
   "id": "fee0e4b1-77bf-4de8-ae33-4f3118a961d9",
   "metadata": {},
   "outputs": [],
   "source": []
  },
  {
   "cell_type": "code",
   "execution_count": 71,
   "id": "be425d53-cb48-4563-a734-772f0abedd0c",
   "metadata": {},
   "outputs": [
    {
     "name": "stdout",
     "output_type": "stream",
     "text": [
      "I am Harshal and my surname isGajera\n"
     ]
    }
   ],
   "source": [
    "print(\"I am {} and my surname is{}\".format(a,b))"
   ]
  },
  {
   "cell_type": "code",
   "execution_count": null,
   "id": "34ac3796-22fb-46ff-98f7-d7470077b7ce",
   "metadata": {},
   "outputs": [],
   "source": []
  },
  {
   "cell_type": "code",
   "execution_count": 72,
   "id": "22af14c5-5482-4702-a0cb-c02aefc241f8",
   "metadata": {},
   "outputs": [
    {
     "name": "stdout",
     "output_type": "stream",
     "text": [
      "I am Harshal and my surname isGajera\n"
     ]
    }
   ],
   "source": [
    "print(\"I am {} and my surname is{}\".format(a,b))"
   ]
  },
  {
   "cell_type": "code",
   "execution_count": 73,
   "id": "6c847c9a-43df-4a0f-8282-06550db286b0",
   "metadata": {},
   "outputs": [
    {
     "ename": "SyntaxError",
     "evalue": "expression cannot contain assignment, perhaps you meant \"==\"? (3383355712.py, line 1)",
     "output_type": "error",
     "traceback": [
      "\u001b[1;36m  Input \u001b[1;32mIn [73]\u001b[1;36m\u001b[0m\n\u001b[1;33m    bool(1=2)\u001b[0m\n\u001b[1;37m         ^\u001b[0m\n\u001b[1;31mSyntaxError\u001b[0m\u001b[1;31m:\u001b[0m expression cannot contain assignment, perhaps you meant \"==\"?\n"
     ]
    }
   ],
   "source": [
    "bool(1=2)"
   ]
  },
  {
   "cell_type": "code",
   "execution_count": 74,
   "id": "48673b2a-19db-4215-b78a-63f3257a51a2",
   "metadata": {},
   "outputs": [
    {
     "data": {
      "text/plain": [
       "False"
      ]
     },
     "execution_count": 74,
     "metadata": {},
     "output_type": "execute_result"
    }
   ],
   "source": [
    "bool(1==2)"
   ]
  },
  {
   "cell_type": "code",
   "execution_count": 75,
   "id": "7e9ad173-35ef-472d-b57d-b3489ae0b576",
   "metadata": {},
   "outputs": [],
   "source": [
    "my_str= \"123Harshal\""
   ]
  },
  {
   "cell_type": "code",
   "execution_count": 76,
   "id": "06e9f1ba-c526-40b3-b248-7c41fd18a6e4",
   "metadata": {},
   "outputs": [
    {
     "ename": "NameError",
     "evalue": "name 'l' is not defined",
     "output_type": "error",
     "traceback": [
      "\u001b[1;31m---------------------------------------------------------------------------\u001b[0m",
      "\u001b[1;31mNameError\u001b[0m                                 Traceback (most recent call last)",
      "Input \u001b[1;32mIn [76]\u001b[0m, in \u001b[0;36m<cell line: 1>\u001b[1;34m()\u001b[0m\n\u001b[1;32m----> 1\u001b[0m my_str\u001b[38;5;241m.\u001b[39mendswith(\u001b[43ml\u001b[49m)\n",
      "\u001b[1;31mNameError\u001b[0m: name 'l' is not defined"
     ]
    }
   ],
   "source": [
    "my_str.endswith(l)"
   ]
  },
  {
   "cell_type": "code",
   "execution_count": 77,
   "id": "3de9276f-f322-4dc1-869b-f31c9214b108",
   "metadata": {},
   "outputs": [
    {
     "ename": "NameError",
     "evalue": "name 'l' is not defined",
     "output_type": "error",
     "traceback": [
      "\u001b[1;31m---------------------------------------------------------------------------\u001b[0m",
      "\u001b[1;31mNameError\u001b[0m                                 Traceback (most recent call last)",
      "Input \u001b[1;32mIn [77]\u001b[0m, in \u001b[0;36m<cell line: 1>\u001b[1;34m()\u001b[0m\n\u001b[1;32m----> 1\u001b[0m \u001b[38;5;28mprint\u001b[39m(my_str\u001b[38;5;241m.\u001b[39mendswith(\u001b[43ml\u001b[49m))\n",
      "\u001b[1;31mNameError\u001b[0m: name 'l' is not defined"
     ]
    }
   ],
   "source": [
    "print(my_str.endswith(l))"
   ]
  },
  {
   "cell_type": "code",
   "execution_count": 78,
   "id": "9ad3ee92-467b-4c2f-8e00-240a64a5a1f2",
   "metadata": {},
   "outputs": [
    {
     "name": "stdout",
     "output_type": "stream",
     "text": [
      "True\n"
     ]
    }
   ],
   "source": [
    "print(my_str.endswith(\"l\"))"
   ]
  },
  {
   "cell_type": "code",
   "execution_count": 79,
   "id": "33cae980-de9d-4a4f-8f9f-3a6cb2b95612",
   "metadata": {},
   "outputs": [
    {
     "name": "stdout",
     "output_type": "stream",
     "text": [
      "123harshal\n"
     ]
    }
   ],
   "source": [
    "print(my_str.casefold())"
   ]
  },
  {
   "cell_type": "code",
   "execution_count": 80,
   "id": "559a89d4-07a4-4c84-bbe7-ed7636c989e9",
   "metadata": {},
   "outputs": [
    {
     "name": "stdout",
     "output_type": "stream",
     "text": [
      "False\n"
     ]
    }
   ],
   "source": [
    "print(my_str.isalpha())"
   ]
  },
  {
   "cell_type": "code",
   "execution_count": 81,
   "id": "cace29ff-a961-47a3-8fe4-b26a702808af",
   "metadata": {},
   "outputs": [
    {
     "ename": "SyntaxError",
     "evalue": "unmatched ')' (3249253540.py, line 1)",
     "output_type": "error",
     "traceback": [
      "\u001b[1;36m  Input \u001b[1;32mIn [81]\u001b[1;36m\u001b[0m\n\u001b[1;33m    print(my_str.encode()))\u001b[0m\n\u001b[1;37m                          ^\u001b[0m\n\u001b[1;31mSyntaxError\u001b[0m\u001b[1;31m:\u001b[0m unmatched ')'\n"
     ]
    }
   ],
   "source": [
    "print(my_str.encode()))"
   ]
  },
  {
   "cell_type": "code",
   "execution_count": 82,
   "id": "cdcef72e-60a6-4235-86d2-5024b595e898",
   "metadata": {},
   "outputs": [
    {
     "name": "stdout",
     "output_type": "stream",
     "text": [
      "b'123Harshal'\n"
     ]
    }
   ],
   "source": [
    "print(my_str.encode())"
   ]
  },
  {
   "cell_type": "code",
   "execution_count": 83,
   "id": "d1ef631d-263e-4720-ba48-9aa381876625",
   "metadata": {},
   "outputs": [
    {
     "ename": "TypeError",
     "evalue": "index() takes at least 1 argument (0 given)",
     "output_type": "error",
     "traceback": [
      "\u001b[1;31m---------------------------------------------------------------------------\u001b[0m",
      "\u001b[1;31mTypeError\u001b[0m                                 Traceback (most recent call last)",
      "Input \u001b[1;32mIn [83]\u001b[0m, in \u001b[0;36m<cell line: 1>\u001b[1;34m()\u001b[0m\n\u001b[1;32m----> 1\u001b[0m \u001b[38;5;28mprint\u001b[39m(\u001b[43mmy_str\u001b[49m\u001b[38;5;241;43m.\u001b[39;49m\u001b[43mindex\u001b[49m\u001b[43m(\u001b[49m\u001b[43m)\u001b[49m)\n",
      "\u001b[1;31mTypeError\u001b[0m: index() takes at least 1 argument (0 given)"
     ]
    }
   ],
   "source": [
    "print(my_str.index())"
   ]
  },
  {
   "cell_type": "code",
   "execution_count": 84,
   "id": "03f78ee0-6a7f-4f19-b172-095158115a74",
   "metadata": {},
   "outputs": [
    {
     "ename": "NameError",
     "evalue": "name 'H' is not defined",
     "output_type": "error",
     "traceback": [
      "\u001b[1;31m---------------------------------------------------------------------------\u001b[0m",
      "\u001b[1;31mNameError\u001b[0m                                 Traceback (most recent call last)",
      "Input \u001b[1;32mIn [84]\u001b[0m, in \u001b[0;36m<cell line: 1>\u001b[1;34m()\u001b[0m\n\u001b[1;32m----> 1\u001b[0m \u001b[38;5;28mprint\u001b[39m(my_str\u001b[38;5;241m.\u001b[39mfind(\u001b[43mH\u001b[49m))\n",
      "\u001b[1;31mNameError\u001b[0m: name 'H' is not defined"
     ]
    }
   ],
   "source": [
    "print(my_str.find(H))"
   ]
  },
  {
   "cell_type": "code",
   "execution_count": 85,
   "id": "513051e4-00e9-4ada-926d-8c2532f41d13",
   "metadata": {},
   "outputs": [
    {
     "ename": "TypeError",
     "evalue": "find() takes at least 1 argument (0 given)",
     "output_type": "error",
     "traceback": [
      "\u001b[1;31m---------------------------------------------------------------------------\u001b[0m",
      "\u001b[1;31mTypeError\u001b[0m                                 Traceback (most recent call last)",
      "Input \u001b[1;32mIn [85]\u001b[0m, in \u001b[0;36m<cell line: 1>\u001b[1;34m()\u001b[0m\n\u001b[1;32m----> 1\u001b[0m \u001b[38;5;28mprint\u001b[39m(\u001b[43mmy_str\u001b[49m\u001b[38;5;241;43m.\u001b[39;49m\u001b[43mfind\u001b[49m\u001b[43m(\u001b[49m\u001b[43m)\u001b[49m)\n",
      "\u001b[1;31mTypeError\u001b[0m: find() takes at least 1 argument (0 given)"
     ]
    }
   ],
   "source": [
    "print(my_str.find())"
   ]
  },
  {
   "cell_type": "code",
   "execution_count": 86,
   "id": "81676114-62b5-446e-8e27-3911bcfddcbf",
   "metadata": {},
   "outputs": [
    {
     "ename": "NameError",
     "evalue": "name 'l' is not defined",
     "output_type": "error",
     "traceback": [
      "\u001b[1;31m---------------------------------------------------------------------------\u001b[0m",
      "\u001b[1;31mNameError\u001b[0m                                 Traceback (most recent call last)",
      "Input \u001b[1;32mIn [86]\u001b[0m, in \u001b[0;36m<cell line: 1>\u001b[1;34m()\u001b[0m\n\u001b[1;32m----> 1\u001b[0m \u001b[38;5;28mprint\u001b[39m(my_str\u001b[38;5;241m.\u001b[39mendswith(\u001b[43ml\u001b[49m))\n",
      "\u001b[1;31mNameError\u001b[0m: name 'l' is not defined"
     ]
    }
   ],
   "source": [
    "print(my_str.endswith(l))"
   ]
  },
  {
   "cell_type": "code",
   "execution_count": 87,
   "id": "ae1157ca-c0c6-4815-9249-d953a59280e8",
   "metadata": {},
   "outputs": [
    {
     "ename": "TypeError",
     "evalue": "endswith() takes at least 1 argument (0 given)",
     "output_type": "error",
     "traceback": [
      "\u001b[1;31m---------------------------------------------------------------------------\u001b[0m",
      "\u001b[1;31mTypeError\u001b[0m                                 Traceback (most recent call last)",
      "Input \u001b[1;32mIn [87]\u001b[0m, in \u001b[0;36m<cell line: 1>\u001b[1;34m()\u001b[0m\n\u001b[1;32m----> 1\u001b[0m \u001b[38;5;28mprint\u001b[39m(\u001b[43mmy_str\u001b[49m\u001b[38;5;241;43m.\u001b[39;49m\u001b[43mendswith\u001b[49m\u001b[43m(\u001b[49m\u001b[43m)\u001b[49m)\n",
      "\u001b[1;31mTypeError\u001b[0m: endswith() takes at least 1 argument (0 given)"
     ]
    }
   ],
   "source": [
    "print(my_str.endswith())"
   ]
  },
  {
   "cell_type": "code",
   "execution_count": null,
   "id": "024e74f3-e228-470d-aa66-c3bbc9129ba7",
   "metadata": {},
   "outputs": [],
   "source": []
  },
  {
   "cell_type": "code",
   "execution_count": 88,
   "id": "11048a95-e4ea-4df0-bf82-1989c81f3968",
   "metadata": {},
   "outputs": [
    {
     "ename": "SyntaxError",
     "evalue": "invalid syntax (507253117.py, line 1)",
     "output_type": "error",
     "traceback": [
      "\u001b[1;36m  Input \u001b[1;32mIn [88]\u001b[1;36m\u001b[0m\n\u001b[1;33m    print(my_str.endswith(\"L\"))my.\u001b[0m\n\u001b[1;37m                               ^\u001b[0m\n\u001b[1;31mSyntaxError\u001b[0m\u001b[1;31m:\u001b[0m invalid syntax\n"
     ]
    }
   ],
   "source": [
    "print(my_str.endswith(\"L\"))my."
   ]
  },
  {
   "cell_type": "code",
   "execution_count": 89,
   "id": "09e6c8ed-b116-4b3a-8dca-f87ad33c363b",
   "metadata": {},
   "outputs": [
    {
     "name": "stdout",
     "output_type": "stream",
     "text": [
      "b'123Harshal'\n"
     ]
    }
   ],
   "source": [
    "print(my_str.encode())"
   ]
  },
  {
   "cell_type": "code",
   "execution_count": 90,
   "id": "531371ad-5b3c-481e-a96a-d04cf4bf72ea",
   "metadata": {},
   "outputs": [
    {
     "ename": "TypeError",
     "evalue": "endswith() takes at least 1 argument (0 given)",
     "output_type": "error",
     "traceback": [
      "\u001b[1;31m---------------------------------------------------------------------------\u001b[0m",
      "\u001b[1;31mTypeError\u001b[0m                                 Traceback (most recent call last)",
      "Input \u001b[1;32mIn [90]\u001b[0m, in \u001b[0;36m<cell line: 1>\u001b[1;34m()\u001b[0m\n\u001b[1;32m----> 1\u001b[0m \u001b[38;5;28mprint\u001b[39m(\u001b[43mmy_str\u001b[49m\u001b[38;5;241;43m.\u001b[39;49m\u001b[43mendswith\u001b[49m\u001b[43m(\u001b[49m\u001b[43m)\u001b[49m)\n",
      "\u001b[1;31mTypeError\u001b[0m: endswith() takes at least 1 argument (0 given)"
     ]
    }
   ],
   "source": [
    "print(my_str.endswith())"
   ]
  },
  {
   "cell_type": "code",
   "execution_count": 91,
   "id": "85e847fe-5ff6-4579-a602-110d140de355",
   "metadata": {},
   "outputs": [
    {
     "name": "stdout",
     "output_type": "stream",
     "text": [
      "True\n"
     ]
    }
   ],
   "source": [
    "print(my_str.endswith(\"l\"))"
   ]
  },
  {
   "cell_type": "code",
   "execution_count": 92,
   "id": "65edf7a1-1034-4d44-9e4d-a3c81fbc55ff",
   "metadata": {},
   "outputs": [
    {
     "name": "stdout",
     "output_type": "stream",
     "text": [
      "True\n"
     ]
    }
   ],
   "source": [
    "print(my_str.isalnum())"
   ]
  },
  {
   "cell_type": "code",
   "execution_count": 93,
   "id": "e84e129f-e565-47de-9a23-690a23424778",
   "metadata": {},
   "outputs": [
    {
     "name": "stdout",
     "output_type": "stream",
     "text": [
      "False\n"
     ]
    }
   ],
   "source": [
    "print(my_str.isalpha())"
   ]
  },
  {
   "cell_type": "code",
   "execution_count": 94,
   "id": "a074a736-6f9f-479b-b7cd-40d222670ab8",
   "metadata": {},
   "outputs": [
    {
     "name": "stdout",
     "output_type": "stream",
     "text": [
      "False\n"
     ]
    }
   ],
   "source": [
    "print(my_str.isnumeric())"
   ]
  },
  {
   "cell_type": "code",
   "execution_count": 95,
   "id": "bba9ee4a-1727-4c5a-b52f-e44535391427",
   "metadata": {},
   "outputs": [
    {
     "name": "stdout",
     "output_type": "stream",
     "text": [
      "True\n"
     ]
    }
   ],
   "source": [
    "print(my_str.istitle())"
   ]
  },
  {
   "cell_type": "code",
   "execution_count": 96,
   "id": "35133084-f7f5-483e-93fa-5bb63a1575c8",
   "metadata": {},
   "outputs": [
    {
     "name": "stdout",
     "output_type": "stream",
     "text": [
      "True\n"
     ]
    }
   ],
   "source": [
    "print(my_str.isprintable())"
   ]
  },
  {
   "cell_type": "code",
   "execution_count": 97,
   "id": "15217b65-ae37-4959-b37b-967b7b9310ca",
   "metadata": {},
   "outputs": [
    {
     "ename": "SyntaxError",
     "evalue": "invalid syntax (1268772585.py, line 1)",
     "output_type": "error",
     "traceback": [
      "\u001b[1;36m  Input \u001b[1;32mIn [97]\u001b[1;36m\u001b[0m\n\u001b[1;33m    print(my_str.startswith(\"\"1))\u001b[0m\n\u001b[1;37m                              ^\u001b[0m\n\u001b[1;31mSyntaxError\u001b[0m\u001b[1;31m:\u001b[0m invalid syntax\n"
     ]
    }
   ],
   "source": [
    "print(my_str.startswith(\"\"1))"
   ]
  },
  {
   "cell_type": "code",
   "execution_count": 98,
   "id": "e85cb5e1-e7ed-4add-b2a6-676ce493a776",
   "metadata": {},
   "outputs": [
    {
     "name": "stdout",
     "output_type": "stream",
     "text": [
      "True\n"
     ]
    }
   ],
   "source": [
    "print(my_str.startswith(\"1\"))"
   ]
  },
  {
   "cell_type": "code",
   "execution_count": 99,
   "id": "a16d8783-9826-4339-858f-de3eae5e8b0c",
   "metadata": {},
   "outputs": [
    {
     "ename": "NameError",
     "evalue": "name 'Binery' is not defined",
     "output_type": "error",
     "traceback": [
      "\u001b[1;31m---------------------------------------------------------------------------\u001b[0m",
      "\u001b[1;31mNameError\u001b[0m                                 Traceback (most recent call last)",
      "Input \u001b[1;32mIn [99]\u001b[0m, in \u001b[0;36m<cell line: 1>\u001b[1;34m()\u001b[0m\n\u001b[1;32m----> 1\u001b[0m \u001b[38;5;28mprint\u001b[39m(my_str\u001b[38;5;241m.\u001b[39mtranslate(\u001b[43mBinery\u001b[49m))\n",
      "\u001b[1;31mNameError\u001b[0m: name 'Binery' is not defined"
     ]
    }
   ],
   "source": [
    "print(my_str.translate(Binery))"
   ]
  },
  {
   "cell_type": "code",
   "execution_count": 100,
   "id": "c005bb95-851c-4c2c-8aa6-8d5dc5d0555c",
   "metadata": {},
   "outputs": [
    {
     "ename": "TypeError",
     "evalue": "find() takes at least 1 argument (0 given)",
     "output_type": "error",
     "traceback": [
      "\u001b[1;31m---------------------------------------------------------------------------\u001b[0m",
      "\u001b[1;31mTypeError\u001b[0m                                 Traceback (most recent call last)",
      "Input \u001b[1;32mIn [100]\u001b[0m, in \u001b[0;36m<cell line: 1>\u001b[1;34m()\u001b[0m\n\u001b[1;32m----> 1\u001b[0m \u001b[38;5;28mprint\u001b[39m(\u001b[43mmy_str\u001b[49m\u001b[38;5;241;43m.\u001b[39;49m\u001b[43mfind\u001b[49m\u001b[43m(\u001b[49m\u001b[43m)\u001b[49m)\n",
      "\u001b[1;31mTypeError\u001b[0m: find() takes at least 1 argument (0 given)"
     ]
    }
   ],
   "source": [
    "print(my_str.find())"
   ]
  },
  {
   "cell_type": "code",
   "execution_count": 101,
   "id": "4f2ce0bb-ad73-4f6f-9c14-31015a8eeaff",
   "metadata": {},
   "outputs": [
    {
     "name": "stdout",
     "output_type": "stream",
     "text": [
      "123harshal\n"
     ]
    }
   ],
   "source": [
    "print(my_str.casefold())"
   ]
  },
  {
   "cell_type": "code",
   "execution_count": 102,
   "id": "2c654e02-ae61-45a9-ac62-ca7a6062e722",
   "metadata": {},
   "outputs": [
    {
     "name": "stdout",
     "output_type": "stream",
     "text": [
      "123HARSHAL\n"
     ]
    }
   ],
   "source": [
    "print(my_str.upper())"
   ]
  },
  {
   "cell_type": "code",
   "execution_count": 103,
   "id": "aaae55ec-f086-49ee-9f35-1c5d9715218a",
   "metadata": {},
   "outputs": [
    {
     "name": "stdout",
     "output_type": "stream",
     "text": [
      "123Harshal\n"
     ]
    }
   ],
   "source": [
    "print(my_str.title())"
   ]
  },
  {
   "cell_type": "code",
   "execution_count": 104,
   "id": "45dd8a55-09ad-4bce-b9db-bf55629ef6ce",
   "metadata": {},
   "outputs": [
    {
     "ename": "NameError",
     "evalue": "name 'priunt' is not defined",
     "output_type": "error",
     "traceback": [
      "\u001b[1;31m---------------------------------------------------------------------------\u001b[0m",
      "\u001b[1;31mNameError\u001b[0m                                 Traceback (most recent call last)",
      "Input \u001b[1;32mIn [104]\u001b[0m, in \u001b[0;36m<cell line: 1>\u001b[1;34m()\u001b[0m\n\u001b[1;32m----> 1\u001b[0m \u001b[43mpriunt\u001b[49m(my_str\u001b[38;5;241m.\u001b[39mswapcase())\n",
      "\u001b[1;31mNameError\u001b[0m: name 'priunt' is not defined"
     ]
    }
   ],
   "source": [
    "priunt(my_str.swapcase())"
   ]
  },
  {
   "cell_type": "code",
   "execution_count": 105,
   "id": "654e8194-20c0-4b8c-9b59-2231041231f8",
   "metadata": {},
   "outputs": [
    {
     "name": "stdout",
     "output_type": "stream",
     "text": [
      "123hARSHAL\n"
     ]
    }
   ],
   "source": [
    "print(my_str.swapcase())"
   ]
  },
  {
   "cell_type": "code",
   "execution_count": 106,
   "id": "a0b398e8-6858-4b10-8441-1370485b1411",
   "metadata": {},
   "outputs": [
    {
     "name": "stdout",
     "output_type": "stream",
     "text": [
      "False\n"
     ]
    }
   ],
   "source": [
    "print(my_str.isdecimal())"
   ]
  },
  {
   "cell_type": "code",
   "execution_count": 107,
   "id": "9c66e7f8-9367-4b90-b03a-68ebe4c0f573",
   "metadata": {},
   "outputs": [
    {
     "ename": "TypeError",
     "evalue": "index() takes at least 1 argument (0 given)",
     "output_type": "error",
     "traceback": [
      "\u001b[1;31m---------------------------------------------------------------------------\u001b[0m",
      "\u001b[1;31mTypeError\u001b[0m                                 Traceback (most recent call last)",
      "Input \u001b[1;32mIn [107]\u001b[0m, in \u001b[0;36m<cell line: 1>\u001b[1;34m()\u001b[0m\n\u001b[1;32m----> 1\u001b[0m \u001b[38;5;28mprint\u001b[39m(\u001b[43mmy_str\u001b[49m\u001b[38;5;241;43m.\u001b[39;49m\u001b[43mindex\u001b[49m\u001b[43m(\u001b[49m\u001b[43m)\u001b[49m)\n",
      "\u001b[1;31mTypeError\u001b[0m: index() takes at least 1 argument (0 given)"
     ]
    }
   ],
   "source": [
    "print(my_str.index())"
   ]
  },
  {
   "cell_type": "code",
   "execution_count": 108,
   "id": "f0f3ba4b-6c2e-46a1-8fcf-3835448d5a09",
   "metadata": {},
   "outputs": [
    {
     "ename": "TypeError",
     "evalue": "endswith first arg must be str or a tuple of str, not int",
     "output_type": "error",
     "traceback": [
      "\u001b[1;31m---------------------------------------------------------------------------\u001b[0m",
      "\u001b[1;31mTypeError\u001b[0m                                 Traceback (most recent call last)",
      "Input \u001b[1;32mIn [108]\u001b[0m, in \u001b[0;36m<cell line: 1>\u001b[1;34m()\u001b[0m\n\u001b[1;32m----> 1\u001b[0m \u001b[38;5;28mprint\u001b[39m(\u001b[43mmy_str\u001b[49m\u001b[38;5;241;43m.\u001b[39;49m\u001b[43mendswith\u001b[49m\u001b[43m(\u001b[49m\u001b[38;5;241;43m1\u001b[39;49m\u001b[43m)\u001b[49m)\n",
      "\u001b[1;31mTypeError\u001b[0m: endswith first arg must be str or a tuple of str, not int"
     ]
    }
   ],
   "source": [
    "print(my_str.endswith(1))"
   ]
  },
  {
   "cell_type": "code",
   "execution_count": 109,
   "id": "8112d81c-4284-482c-8639-3522a4fcb335",
   "metadata": {},
   "outputs": [
    {
     "name": "stdout",
     "output_type": "stream",
     "text": [
      "False\n"
     ]
    }
   ],
   "source": [
    "print(my_str.startswith(\"l\"))"
   ]
  },
  {
   "cell_type": "code",
   "execution_count": 110,
   "id": "589740d9-ae87-493c-8846-49f82941403b",
   "metadata": {},
   "outputs": [
    {
     "name": "stdout",
     "output_type": "stream",
     "text": [
      "False\n"
     ]
    }
   ],
   "source": [
    "print(my_str.endswith(\"1\"))"
   ]
  },
  {
   "cell_type": "code",
   "execution_count": 111,
   "id": "c32fe9b4-c7e1-4835-8f33-e4e7f4a63141",
   "metadata": {},
   "outputs": [
    {
     "data": {
      "text/plain": [
       "True"
      ]
     },
     "execution_count": 111,
     "metadata": {},
     "output_type": "execute_result"
    }
   ],
   "source": [
    "True and True"
   ]
  },
  {
   "cell_type": "code",
   "execution_count": 112,
   "id": "3cb36762-1e73-4f0d-a112-d547c075e751",
   "metadata": {},
   "outputs": [
    {
     "data": {
      "text/plain": [
       "False"
      ]
     },
     "execution_count": 112,
     "metadata": {},
     "output_type": "execute_result"
    }
   ],
   "source": [
    "False and True"
   ]
  },
  {
   "cell_type": "code",
   "execution_count": 113,
   "id": "d0208596-421c-4cff-9b89-00a0fc47753f",
   "metadata": {},
   "outputs": [
    {
     "data": {
      "text/plain": [
       "True"
      ]
     },
     "execution_count": 113,
     "metadata": {},
     "output_type": "execute_result"
    }
   ],
   "source": [
    "True or True"
   ]
  },
  {
   "cell_type": "code",
   "execution_count": 114,
   "id": "f4356768-c0cd-4541-afe7-2c03257494af",
   "metadata": {},
   "outputs": [
    {
     "data": {
      "text/plain": [
       "False"
      ]
     },
     "execution_count": 114,
     "metadata": {},
     "output_type": "execute_result"
    }
   ],
   "source": [
    "False and False"
   ]
  },
  {
   "cell_type": "code",
   "execution_count": 115,
   "id": "9f5c366f-b747-4eba-96d7-a289e61e6c58",
   "metadata": {},
   "outputs": [
    {
     "data": {
      "text/plain": [
       "False"
      ]
     },
     "execution_count": 115,
     "metadata": {},
     "output_type": "execute_result"
    }
   ],
   "source": [
    "False or False"
   ]
  },
  {
   "cell_type": "code",
   "execution_count": 116,
   "id": "69ccc2d5-1252-410e-985e-fd921c173161",
   "metadata": {},
   "outputs": [
    {
     "ename": "SyntaxError",
     "evalue": "invalid syntax (1800440478.py, line 1)",
     "output_type": "error",
     "traceback": [
      "\u001b[1;36m  Input \u001b[1;32mIn [116]\u001b[1;36m\u001b[0m\n\u001b[1;33m    True if False\u001b[0m\n\u001b[1;37m                 ^\u001b[0m\n\u001b[1;31mSyntaxError\u001b[0m\u001b[1;31m:\u001b[0m invalid syntax\n"
     ]
    }
   ],
   "source": [
    "True if False"
   ]
  },
  {
   "cell_type": "code",
   "execution_count": 117,
   "id": "7463b9bc-f37b-43a6-87b2-214790c8ce9f",
   "metadata": {},
   "outputs": [
    {
     "ename": "TypeError",
     "evalue": "argument of type 'bool' is not iterable",
     "output_type": "error",
     "traceback": [
      "\u001b[1;31m---------------------------------------------------------------------------\u001b[0m",
      "\u001b[1;31mTypeError\u001b[0m                                 Traceback (most recent call last)",
      "Input \u001b[1;32mIn [117]\u001b[0m, in \u001b[0;36m<cell line: 1>\u001b[1;34m()\u001b[0m\n\u001b[1;32m----> 1\u001b[0m \u001b[38;5;28;43;01mTrue\u001b[39;49;00m\u001b[43m \u001b[49m\u001b[38;5;129;43;01min\u001b[39;49;00m\u001b[43m \u001b[49m\u001b[38;5;28;43;01mTrue\u001b[39;49;00m\n",
      "\u001b[1;31mTypeError\u001b[0m: argument of type 'bool' is not iterable"
     ]
    }
   ],
   "source": [
    "True in True"
   ]
  },
  {
   "cell_type": "code",
   "execution_count": 118,
   "id": "29b6c3c3-51bd-47d9-b60b-de51d627c294",
   "metadata": {},
   "outputs": [],
   "source": [
    "A = \"Harshal\"\n",
    "B = \"Gajera\""
   ]
  },
  {
   "cell_type": "code",
   "execution_count": 119,
   "id": "a25898ba-f205-46c9-a1a8-15b979a7e53f",
   "metadata": {},
   "outputs": [
    {
     "data": {
      "text/plain": [
       "True"
      ]
     },
     "execution_count": 119,
     "metadata": {},
     "output_type": "execute_result"
    }
   ],
   "source": [
    "A.isalnum() and B.isalnum()"
   ]
  },
  {
   "cell_type": "code",
   "execution_count": 120,
   "id": "e8e2daf0-8acb-4755-8f5c-8caba7b9b720",
   "metadata": {},
   "outputs": [
    {
     "data": {
      "text/plain": [
       "<function str.isalnum()>"
      ]
     },
     "execution_count": 120,
     "metadata": {},
     "output_type": "execute_result"
    }
   ],
   "source": [
    "A.isalnum and B.isalnum"
   ]
  },
  {
   "cell_type": "code",
   "execution_count": 121,
   "id": "feb170e8-6285-4519-bdbd-3fc5785ef5bc",
   "metadata": {},
   "outputs": [
    {
     "data": {
      "text/plain": [
       "False"
      ]
     },
     "execution_count": 121,
     "metadata": {},
     "output_type": "execute_result"
    }
   ],
   "source": [
    "A.isalnum() and  B.isdigit()"
   ]
  },
  {
   "cell_type": "code",
   "execution_count": 122,
   "id": "e0a82e17-bb98-4372-b4bb-1631e3e1f67c",
   "metadata": {},
   "outputs": [],
   "source": [
    "a = [\"harshal\",\"Gajera\", 10,20,30,40]"
   ]
  },
  {
   "cell_type": "code",
   "execution_count": 123,
   "id": "a81789b1-1ceb-4287-97fe-c03c4764e2a0",
   "metadata": {},
   "outputs": [
    {
     "data": {
      "text/plain": [
       "['harshal', 'Gajera', 10, 20, 30, 40]"
      ]
     },
     "execution_count": 123,
     "metadata": {},
     "output_type": "execute_result"
    }
   ],
   "source": [
    "a"
   ]
  },
  {
   "cell_type": "code",
   "execution_count": 124,
   "id": "ec33b732-0bfb-4d68-aac0-8b3e08dd244a",
   "metadata": {},
   "outputs": [
    {
     "data": {
      "text/plain": [
       "list"
      ]
     },
     "execution_count": 124,
     "metadata": {},
     "output_type": "execute_result"
    }
   ],
   "source": [
    "type(a)"
   ]
  },
  {
   "cell_type": "code",
   "execution_count": 125,
   "id": "ece49368-2e19-4f01-a804-d18dbcb69765",
   "metadata": {},
   "outputs": [
    {
     "ename": "TypeError",
     "evalue": "'list' object is not callable",
     "output_type": "error",
     "traceback": [
      "\u001b[1;31m---------------------------------------------------------------------------\u001b[0m",
      "\u001b[1;31mTypeError\u001b[0m                                 Traceback (most recent call last)",
      "Input \u001b[1;32mIn [125]\u001b[0m, in \u001b[0;36m<cell line: 1>\u001b[1;34m()\u001b[0m\n\u001b[1;32m----> 1\u001b[0m \u001b[38;5;28mtype\u001b[39m(\u001b[43ma\u001b[49m\u001b[43m(\u001b[49m\u001b[38;5;241;43m2\u001b[39;49m\u001b[43m)\u001b[49m)\n",
      "\u001b[1;31mTypeError\u001b[0m: 'list' object is not callable"
     ]
    }
   ],
   "source": [
    "type(a(2))"
   ]
  },
  {
   "cell_type": "code",
   "execution_count": 126,
   "id": "62958273-511e-41c9-a2dc-fbf791a11fac",
   "metadata": {},
   "outputs": [
    {
     "data": {
      "text/plain": [
       "list"
      ]
     },
     "execution_count": 126,
     "metadata": {},
     "output_type": "execute_result"
    }
   ],
   "source": [
    "type([])"
   ]
  },
  {
   "cell_type": "code",
   "execution_count": 127,
   "id": "14e32f46-e928-400a-8840-a767685fe103",
   "metadata": {},
   "outputs": [
    {
     "data": {
      "text/plain": [
       "6"
      ]
     },
     "execution_count": 127,
     "metadata": {},
     "output_type": "execute_result"
    }
   ],
   "source": [
    "len(a)"
   ]
  },
  {
   "cell_type": "code",
   "execution_count": 128,
   "id": "efd72863-ccef-4af9-83ba-dca3da50a9bb",
   "metadata": {},
   "outputs": [],
   "source": [
    "a.append(\"Hareshbhai\")"
   ]
  },
  {
   "cell_type": "code",
   "execution_count": null,
   "id": "0378fe64-c6fd-4c94-9ae4-88dd927a05b6",
   "metadata": {},
   "outputs": [],
   "source": []
  },
  {
   "cell_type": "code",
   "execution_count": 129,
   "id": "e8ca7a57-7718-41dd-854a-53f98c7c0094",
   "metadata": {},
   "outputs": [
    {
     "data": {
      "text/plain": [
       "['harshal', 'Gajera', 10, 20, 30, 40, 'Hareshbhai']"
      ]
     },
     "execution_count": 129,
     "metadata": {},
     "output_type": "execute_result"
    }
   ],
   "source": [
    "a"
   ]
  },
  {
   "cell_type": "code",
   "execution_count": 130,
   "id": "3d2a61bd-ca11-4e07-9649-29b27f4de1b1",
   "metadata": {},
   "outputs": [],
   "source": [
    "a.insert(1, \"Great\")"
   ]
  },
  {
   "cell_type": "code",
   "execution_count": 131,
   "id": "f7d04898-d66c-46ac-9fca-7acc83f253bf",
   "metadata": {},
   "outputs": [
    {
     "data": {
      "text/plain": [
       "['harshal', 'Great', 'Gajera', 10, 20, 30, 40, 'Hareshbhai']"
      ]
     },
     "execution_count": 131,
     "metadata": {},
     "output_type": "execute_result"
    }
   ],
   "source": [
    "a"
   ]
  },
  {
   "cell_type": "code",
   "execution_count": 132,
   "id": "6473278e-88ef-4b7c-a3b0-740457ac8206",
   "metadata": {},
   "outputs": [],
   "source": [
    "a.extend(\"Gajera\")"
   ]
  },
  {
   "cell_type": "code",
   "execution_count": 133,
   "id": "971d5ed3-bae9-4d1f-a2f5-ea7c671447df",
   "metadata": {},
   "outputs": [
    {
     "data": {
      "text/plain": [
       "['harshal',\n",
       " 'Great',\n",
       " 'Gajera',\n",
       " 10,\n",
       " 20,\n",
       " 30,\n",
       " 40,\n",
       " 'Hareshbhai',\n",
       " 'G',\n",
       " 'a',\n",
       " 'j',\n",
       " 'e',\n",
       " 'r',\n",
       " 'a']"
      ]
     },
     "execution_count": 133,
     "metadata": {},
     "output_type": "execute_result"
    }
   ],
   "source": [
    "a"
   ]
  },
  {
   "cell_type": "code",
   "execution_count": 134,
   "id": "85f9c5da-b6f2-4056-9b19-fd21b0c7f0b6",
   "metadata": {},
   "outputs": [],
   "source": [
    "a.remove(\"Gajera\")"
   ]
  },
  {
   "cell_type": "code",
   "execution_count": 135,
   "id": "8b5d63c6-aed2-4c89-ac9c-e054404ac83b",
   "metadata": {},
   "outputs": [
    {
     "data": {
      "text/plain": [
       "['harshal',\n",
       " 'Great',\n",
       " 10,\n",
       " 20,\n",
       " 30,\n",
       " 40,\n",
       " 'Hareshbhai',\n",
       " 'G',\n",
       " 'a',\n",
       " 'j',\n",
       " 'e',\n",
       " 'r',\n",
       " 'a']"
      ]
     },
     "execution_count": 135,
     "metadata": {},
     "output_type": "execute_result"
    }
   ],
   "source": [
    "a"
   ]
  },
  {
   "cell_type": "code",
   "execution_count": 136,
   "id": "f1446ed1-41a6-4f00-87d0-c39eecc6cc9d",
   "metadata": {},
   "outputs": [
    {
     "data": {
      "text/plain": [
       "0"
      ]
     },
     "execution_count": 136,
     "metadata": {},
     "output_type": "execute_result"
    }
   ],
   "source": [
    "a.count(a)"
   ]
  },
  {
   "cell_type": "code",
   "execution_count": 137,
   "id": "d88a1ffe-4c79-44e4-a093-75798610db60",
   "metadata": {},
   "outputs": [
    {
     "ename": "TypeError",
     "evalue": "list.count() takes exactly one argument (0 given)",
     "output_type": "error",
     "traceback": [
      "\u001b[1;31m---------------------------------------------------------------------------\u001b[0m",
      "\u001b[1;31mTypeError\u001b[0m                                 Traceback (most recent call last)",
      "Input \u001b[1;32mIn [137]\u001b[0m, in \u001b[0;36m<cell line: 1>\u001b[1;34m()\u001b[0m\n\u001b[1;32m----> 1\u001b[0m \u001b[43ma\u001b[49m\u001b[38;5;241;43m.\u001b[39;49m\u001b[43mcount\u001b[49m\u001b[43m(\u001b[49m\u001b[43m)\u001b[49m\n",
      "\u001b[1;31mTypeError\u001b[0m: list.count() takes exactly one argument (0 given)"
     ]
    }
   ],
   "source": [
    "a.count()"
   ]
  },
  {
   "cell_type": "code",
   "execution_count": 138,
   "id": "6d188fb2-926a-4f82-9c38-06cba30da072",
   "metadata": {},
   "outputs": [
    {
     "ename": "TypeError",
     "evalue": "list.count() takes exactly one argument (0 given)",
     "output_type": "error",
     "traceback": [
      "\u001b[1;31m---------------------------------------------------------------------------\u001b[0m",
      "\u001b[1;31mTypeError\u001b[0m                                 Traceback (most recent call last)",
      "Input \u001b[1;32mIn [138]\u001b[0m, in \u001b[0;36m<cell line: 1>\u001b[1;34m()\u001b[0m\n\u001b[1;32m----> 1\u001b[0m \u001b[43ma\u001b[49m\u001b[38;5;241;43m.\u001b[39;49m\u001b[43mcount\u001b[49m\u001b[43m(\u001b[49m\u001b[43m)\u001b[49m\n",
      "\u001b[1;31mTypeError\u001b[0m: list.count() takes exactly one argument (0 given)"
     ]
    }
   ],
   "source": [
    "a.count()"
   ]
  },
  {
   "cell_type": "code",
   "execution_count": 139,
   "id": "6e03261b-b083-4ad3-94b1-fa7416b16b4c",
   "metadata": {},
   "outputs": [
    {
     "data": {
      "text/plain": [
       "0"
      ]
     },
     "execution_count": 139,
     "metadata": {},
     "output_type": "execute_result"
    }
   ],
   "source": [
    "a.count(a)"
   ]
  },
  {
   "cell_type": "code",
   "execution_count": 140,
   "id": "c3d6b39e-7841-4eca-a970-263ddb61fc22",
   "metadata": {},
   "outputs": [
    {
     "ename": "NameError",
     "evalue": "name 'j' is not defined",
     "output_type": "error",
     "traceback": [
      "\u001b[1;31m---------------------------------------------------------------------------\u001b[0m",
      "\u001b[1;31mNameError\u001b[0m                                 Traceback (most recent call last)",
      "Input \u001b[1;32mIn [140]\u001b[0m, in \u001b[0;36m<cell line: 1>\u001b[1;34m()\u001b[0m\n\u001b[1;32m----> 1\u001b[0m a\u001b[38;5;241m.\u001b[39mcount(\u001b[43mj\u001b[49m)\n",
      "\u001b[1;31mNameError\u001b[0m: name 'j' is not defined"
     ]
    }
   ],
   "source": [
    "a.count(j)"
   ]
  },
  {
   "cell_type": "code",
   "execution_count": 141,
   "id": "ef050a4a-a939-461e-900a-09b2017e6b01",
   "metadata": {},
   "outputs": [
    {
     "ename": "NameError",
     "evalue": "name 'G' is not defined",
     "output_type": "error",
     "traceback": [
      "\u001b[1;31m---------------------------------------------------------------------------\u001b[0m",
      "\u001b[1;31mNameError\u001b[0m                                 Traceback (most recent call last)",
      "Input \u001b[1;32mIn [141]\u001b[0m, in \u001b[0;36m<cell line: 1>\u001b[1;34m()\u001b[0m\n\u001b[1;32m----> 1\u001b[0m a\u001b[38;5;241m.\u001b[39mcount(\u001b[43mG\u001b[49m)\n",
      "\u001b[1;31mNameError\u001b[0m: name 'G' is not defined"
     ]
    }
   ],
   "source": [
    "a.count(G)"
   ]
  },
  {
   "cell_type": "code",
   "execution_count": 142,
   "id": "6a5a11e0-9462-40a4-b6b9-fe686d471f04",
   "metadata": {},
   "outputs": [
    {
     "data": {
      "text/plain": [
       "0"
      ]
     },
     "execution_count": 142,
     "metadata": {},
     "output_type": "execute_result"
    }
   ],
   "source": [
    "a.count(\"Gajera\")"
   ]
  },
  {
   "cell_type": "code",
   "execution_count": 143,
   "id": "0cc63275-02fe-41f8-85ab-7a23f276a989",
   "metadata": {},
   "outputs": [
    {
     "data": {
      "text/plain": [
       "0"
      ]
     },
     "execution_count": 143,
     "metadata": {},
     "output_type": "execute_result"
    }
   ],
   "source": [
    "a.count(\"Harshal\")"
   ]
  },
  {
   "cell_type": "code",
   "execution_count": 144,
   "id": "392208ff-6489-4513-ac5c-7c9da3f378bc",
   "metadata": {},
   "outputs": [
    {
     "data": {
      "text/plain": [
       "['harshal',\n",
       " 'Great',\n",
       " 10,\n",
       " 20,\n",
       " 30,\n",
       " 40,\n",
       " 'Hareshbhai',\n",
       " 'G',\n",
       " 'a',\n",
       " 'j',\n",
       " 'e',\n",
       " 'r',\n",
       " 'a']"
      ]
     },
     "execution_count": 144,
     "metadata": {},
     "output_type": "execute_result"
    }
   ],
   "source": [
    "a"
   ]
  },
  {
   "cell_type": "code",
   "execution_count": 145,
   "id": "3394a68d-0117-4fd1-ab8b-fa1aa60b6ed0",
   "metadata": {},
   "outputs": [
    {
     "data": {
      "text/plain": [
       "1"
      ]
     },
     "execution_count": 145,
     "metadata": {},
     "output_type": "execute_result"
    }
   ],
   "source": [
    "a.count(\"harshal\")"
   ]
  },
  {
   "cell_type": "code",
   "execution_count": 146,
   "id": "babe250f-0dc0-4059-a323-bc65125ce43f",
   "metadata": {},
   "outputs": [
    {
     "data": {
      "text/plain": [
       "20"
      ]
     },
     "execution_count": 146,
     "metadata": {},
     "output_type": "execute_result"
    }
   ],
   "source": [
    "a[3]"
   ]
  },
  {
   "cell_type": "code",
   "execution_count": 147,
   "id": "42e30f69-f0a9-40a2-9dec-4861eab07a3b",
   "metadata": {},
   "outputs": [
    {
     "data": {
      "text/plain": [
       "'harshal'"
      ]
     },
     "execution_count": 147,
     "metadata": {},
     "output_type": "execute_result"
    }
   ],
   "source": [
    "a[0]"
   ]
  },
  {
   "cell_type": "code",
   "execution_count": 148,
   "id": "eaab4534-574f-4dc1-988f-283bf3356854",
   "metadata": {},
   "outputs": [
    {
     "ename": "TypeError",
     "evalue": "list indices must be integers or slices, not tuple",
     "output_type": "error",
     "traceback": [
      "\u001b[1;31m---------------------------------------------------------------------------\u001b[0m",
      "\u001b[1;31mTypeError\u001b[0m                                 Traceback (most recent call last)",
      "Input \u001b[1;32mIn [148]\u001b[0m, in \u001b[0;36m<cell line: 1>\u001b[1;34m()\u001b[0m\n\u001b[1;32m----> 1\u001b[0m \u001b[43ma\u001b[49m\u001b[43m[\u001b[49m\u001b[38;5;241;43m0\u001b[39;49m\u001b[43m,\u001b[49m\u001b[38;5;241;43m1\u001b[39;49m\u001b[43m]\u001b[49m\n",
      "\u001b[1;31mTypeError\u001b[0m: list indices must be integers or slices, not tuple"
     ]
    }
   ],
   "source": [
    "a[0,1]"
   ]
  },
  {
   "cell_type": "code",
   "execution_count": 149,
   "id": "f8076370-735e-4937-a6b7-09bc09bb2c19",
   "metadata": {},
   "outputs": [
    {
     "data": {
      "text/plain": [
       "13"
      ]
     },
     "execution_count": 149,
     "metadata": {},
     "output_type": "execute_result"
    }
   ],
   "source": [
    "len(a)"
   ]
  },
  {
   "cell_type": "code",
   "execution_count": 150,
   "id": "04b2d9ea-d018-4bee-b833-b0f785aba810",
   "metadata": {},
   "outputs": [],
   "source": [
    "a.append(0)"
   ]
  },
  {
   "cell_type": "code",
   "execution_count": 151,
   "id": "b45b4568-0398-441b-971a-f8f4a15f1276",
   "metadata": {},
   "outputs": [
    {
     "data": {
      "text/plain": [
       "['harshal',\n",
       " 'Great',\n",
       " 10,\n",
       " 20,\n",
       " 30,\n",
       " 40,\n",
       " 'Hareshbhai',\n",
       " 'G',\n",
       " 'a',\n",
       " 'j',\n",
       " 'e',\n",
       " 'r',\n",
       " 'a',\n",
       " 0]"
      ]
     },
     "execution_count": 151,
     "metadata": {},
     "output_type": "execute_result"
    }
   ],
   "source": [
    "a"
   ]
  },
  {
   "cell_type": "code",
   "execution_count": 152,
   "id": "6e31d328-e759-4f07-be02-418312239324",
   "metadata": {},
   "outputs": [
    {
     "ename": "AttributeError",
     "evalue": "'list' object has no attribute 'inster'",
     "output_type": "error",
     "traceback": [
      "\u001b[1;31m---------------------------------------------------------------------------\u001b[0m",
      "\u001b[1;31mAttributeError\u001b[0m                            Traceback (most recent call last)",
      "Input \u001b[1;32mIn [152]\u001b[0m, in \u001b[0;36m<cell line: 1>\u001b[1;34m()\u001b[0m\n\u001b[1;32m----> 1\u001b[0m \u001b[43ma\u001b[49m\u001b[38;5;241;43m.\u001b[39;49m\u001b[43minster\u001b[49m(\u001b[38;5;124m\"\u001b[39m\u001b[38;5;124mkuldeep\u001b[39m\u001b[38;5;124m\"\u001b[39m)\n",
      "\u001b[1;31mAttributeError\u001b[0m: 'list' object has no attribute 'inster'"
     ]
    }
   ],
   "source": [
    "a.inster(\"kuldeep\")"
   ]
  },
  {
   "cell_type": "code",
   "execution_count": 153,
   "id": "6e86005a-0665-433c-8947-23d1a24888cd",
   "metadata": {},
   "outputs": [
    {
     "ename": "TypeError",
     "evalue": "insert expected 2 arguments, got 1",
     "output_type": "error",
     "traceback": [
      "\u001b[1;31m---------------------------------------------------------------------------\u001b[0m",
      "\u001b[1;31mTypeError\u001b[0m                                 Traceback (most recent call last)",
      "Input \u001b[1;32mIn [153]\u001b[0m, in \u001b[0;36m<cell line: 1>\u001b[1;34m()\u001b[0m\n\u001b[1;32m----> 1\u001b[0m \u001b[43ma\u001b[49m\u001b[38;5;241;43m.\u001b[39;49m\u001b[43minsert\u001b[49m\u001b[43m(\u001b[49m\u001b[38;5;124;43m\"\u001b[39;49m\u001b[38;5;124;43mkuldeep\u001b[39;49m\u001b[38;5;124;43m\"\u001b[39;49m\u001b[43m)\u001b[49m\n",
      "\u001b[1;31mTypeError\u001b[0m: insert expected 2 arguments, got 1"
     ]
    }
   ],
   "source": [
    "a.insert(\"kuldeep\")"
   ]
  },
  {
   "cell_type": "code",
   "execution_count": 154,
   "id": "8ac5a420-0c79-429f-8e0e-af7a83939771",
   "metadata": {},
   "outputs": [],
   "source": [
    "a.insert(1,\"kuldeep\")"
   ]
  },
  {
   "cell_type": "code",
   "execution_count": null,
   "id": "4951d929-4f9c-477b-a1f2-1fefcbdc8af1",
   "metadata": {},
   "outputs": [],
   "source": []
  },
  {
   "cell_type": "code",
   "execution_count": 155,
   "id": "c6442014-ab4a-4ea9-a3da-a99160aab896",
   "metadata": {},
   "outputs": [
    {
     "data": {
      "text/plain": [
       "['harshal',\n",
       " 'kuldeep',\n",
       " 'Great',\n",
       " 10,\n",
       " 20,\n",
       " 30,\n",
       " 40,\n",
       " 'Hareshbhai',\n",
       " 'G',\n",
       " 'a',\n",
       " 'j',\n",
       " 'e',\n",
       " 'r',\n",
       " 'a',\n",
       " 0]"
      ]
     },
     "execution_count": 155,
     "metadata": {},
     "output_type": "execute_result"
    }
   ],
   "source": [
    "a"
   ]
  },
  {
   "cell_type": "code",
   "execution_count": 156,
   "id": "49e48627-197e-45cf-bb46-d404b9a999c9",
   "metadata": {},
   "outputs": [
    {
     "ename": "TypeError",
     "evalue": "list.clear() takes no arguments (1 given)",
     "output_type": "error",
     "traceback": [
      "\u001b[1;31m---------------------------------------------------------------------------\u001b[0m",
      "\u001b[1;31mTypeError\u001b[0m                                 Traceback (most recent call last)",
      "Input \u001b[1;32mIn [156]\u001b[0m, in \u001b[0;36m<cell line: 1>\u001b[1;34m()\u001b[0m\n\u001b[1;32m----> 1\u001b[0m \u001b[43ma\u001b[49m\u001b[38;5;241;43m.\u001b[39;49m\u001b[43mclear\u001b[49m\u001b[43m(\u001b[49m\u001b[38;5;124;43m\"\u001b[39;49m\u001b[38;5;124;43mharshal\u001b[39;49m\u001b[38;5;124;43m\"\u001b[39;49m\u001b[43m)\u001b[49m\n",
      "\u001b[1;31mTypeError\u001b[0m: list.clear() takes no arguments (1 given)"
     ]
    }
   ],
   "source": [
    "a.clear(\"harshal\")"
   ]
  },
  {
   "cell_type": "code",
   "execution_count": 157,
   "id": "e5cae77b-bc32-48d1-b5a2-5559a05473c5",
   "metadata": {},
   "outputs": [
    {
     "ename": "TypeError",
     "evalue": "list.clear() takes no arguments (1 given)",
     "output_type": "error",
     "traceback": [
      "\u001b[1;31m---------------------------------------------------------------------------\u001b[0m",
      "\u001b[1;31mTypeError\u001b[0m                                 Traceback (most recent call last)",
      "Input \u001b[1;32mIn [157]\u001b[0m, in \u001b[0;36m<cell line: 1>\u001b[1;34m()\u001b[0m\n\u001b[1;32m----> 1\u001b[0m \u001b[43ma\u001b[49m\u001b[38;5;241;43m.\u001b[39;49m\u001b[43mclear\u001b[49m\u001b[43m(\u001b[49m\u001b[38;5;124;43m\"\u001b[39;49m\u001b[38;5;124;43mkuldeep\u001b[39;49m\u001b[38;5;124;43m\"\u001b[39;49m\u001b[43m)\u001b[49m\n",
      "\u001b[1;31mTypeError\u001b[0m: list.clear() takes no arguments (1 given)"
     ]
    }
   ],
   "source": [
    "a.clear(\"kuldeep\")"
   ]
  },
  {
   "cell_type": "code",
   "execution_count": 158,
   "id": "51051d03-df88-41b6-b2cf-be4e15487401",
   "metadata": {},
   "outputs": [
    {
     "data": {
      "text/plain": [
       "'kuldeep'"
      ]
     },
     "execution_count": 158,
     "metadata": {},
     "output_type": "execute_result"
    }
   ],
   "source": [
    "a.pop(1)"
   ]
  },
  {
   "cell_type": "code",
   "execution_count": 159,
   "id": "e10e8d6b-5ff6-466c-a4f4-7537f821892c",
   "metadata": {},
   "outputs": [
    {
     "data": {
      "text/plain": [
       "14"
      ]
     },
     "execution_count": 159,
     "metadata": {},
     "output_type": "execute_result"
    }
   ],
   "source": [
    "len(a)"
   ]
  },
  {
   "cell_type": "code",
   "execution_count": 160,
   "id": "51eacd2a-b61a-4197-b70a-ea5b2abb62a6",
   "metadata": {},
   "outputs": [
    {
     "ename": "IndexError",
     "evalue": "pop index out of range",
     "output_type": "error",
     "traceback": [
      "\u001b[1;31m---------------------------------------------------------------------------\u001b[0m",
      "\u001b[1;31mIndexError\u001b[0m                                Traceback (most recent call last)",
      "Input \u001b[1;32mIn [160]\u001b[0m, in \u001b[0;36m<cell line: 1>\u001b[1;34m()\u001b[0m\n\u001b[1;32m----> 1\u001b[0m \u001b[43ma\u001b[49m\u001b[38;5;241;43m.\u001b[39;49m\u001b[43mpop\u001b[49m\u001b[43m(\u001b[49m\u001b[38;5;241;43m14\u001b[39;49m\u001b[43m)\u001b[49m\n",
      "\u001b[1;31mIndexError\u001b[0m: pop index out of range"
     ]
    }
   ],
   "source": [
    "a.pop(14)"
   ]
  },
  {
   "cell_type": "code",
   "execution_count": 161,
   "id": "2090ee5c-49d6-4b90-9640-7a2762d2c8ac",
   "metadata": {},
   "outputs": [
    {
     "data": {
      "text/plain": [
       "0"
      ]
     },
     "execution_count": 161,
     "metadata": {},
     "output_type": "execute_result"
    }
   ],
   "source": [
    "a.pop(13)"
   ]
  },
  {
   "cell_type": "code",
   "execution_count": 162,
   "id": "5f186e77-89ea-4e1f-84a0-aa0d98bb44c1",
   "metadata": {},
   "outputs": [
    {
     "ename": "TypeError",
     "evalue": "list.clear() takes no arguments (1 given)",
     "output_type": "error",
     "traceback": [
      "\u001b[1;31m---------------------------------------------------------------------------\u001b[0m",
      "\u001b[1;31mTypeError\u001b[0m                                 Traceback (most recent call last)",
      "Input \u001b[1;32mIn [162]\u001b[0m, in \u001b[0;36m<cell line: 1>\u001b[1;34m()\u001b[0m\n\u001b[1;32m----> 1\u001b[0m \u001b[43ma\u001b[49m\u001b[38;5;241;43m.\u001b[39;49m\u001b[43mclear\u001b[49m\u001b[43m(\u001b[49m\u001b[38;5;124;43m\"\u001b[39;49m\u001b[38;5;124;43m10\u001b[39;49m\u001b[38;5;124;43m\"\u001b[39;49m\u001b[43m)\u001b[49m\n",
      "\u001b[1;31mTypeError\u001b[0m: list.clear() takes no arguments (1 given)"
     ]
    }
   ],
   "source": [
    "a.clear(\"10\")"
   ]
  },
  {
   "cell_type": "code",
   "execution_count": 163,
   "id": "e64872af-7459-4c10-b36c-e9ca45f036aa",
   "metadata": {},
   "outputs": [
    {
     "ename": "TypeError",
     "evalue": "list.clear() takes no arguments (1 given)",
     "output_type": "error",
     "traceback": [
      "\u001b[1;31m---------------------------------------------------------------------------\u001b[0m",
      "\u001b[1;31mTypeError\u001b[0m                                 Traceback (most recent call last)",
      "Input \u001b[1;32mIn [163]\u001b[0m, in \u001b[0;36m<cell line: 1>\u001b[1;34m()\u001b[0m\n\u001b[1;32m----> 1\u001b[0m \u001b[43ma\u001b[49m\u001b[38;5;241;43m.\u001b[39;49m\u001b[43mclear\u001b[49m\u001b[43m(\u001b[49m\u001b[38;5;241;43m10\u001b[39;49m\u001b[43m)\u001b[49m\n",
      "\u001b[1;31mTypeError\u001b[0m: list.clear() takes no arguments (1 given)"
     ]
    }
   ],
   "source": [
    "a.clear(10)"
   ]
  },
  {
   "cell_type": "code",
   "execution_count": 164,
   "id": "623d781c-d13f-4b93-ac16-5d7679d4da9c",
   "metadata": {},
   "outputs": [
    {
     "ename": "ValueError",
     "evalue": "1 is not in list",
     "output_type": "error",
     "traceback": [
      "\u001b[1;31m---------------------------------------------------------------------------\u001b[0m",
      "\u001b[1;31mValueError\u001b[0m                                Traceback (most recent call last)",
      "Input \u001b[1;32mIn [164]\u001b[0m, in \u001b[0;36m<cell line: 1>\u001b[1;34m()\u001b[0m\n\u001b[1;32m----> 1\u001b[0m \u001b[43ma\u001b[49m\u001b[38;5;241;43m.\u001b[39;49m\u001b[43mindex\u001b[49m\u001b[43m(\u001b[49m\u001b[38;5;241;43m1\u001b[39;49m\u001b[43m)\u001b[49m\n",
      "\u001b[1;31mValueError\u001b[0m: 1 is not in list"
     ]
    }
   ],
   "source": [
    "a.index(1)"
   ]
  },
  {
   "cell_type": "code",
   "execution_count": 165,
   "id": "ed88260d-de3f-4d6b-9fa2-05999f402704",
   "metadata": {},
   "outputs": [
    {
     "ename": "ValueError",
     "evalue": "1 is not in list",
     "output_type": "error",
     "traceback": [
      "\u001b[1;31m---------------------------------------------------------------------------\u001b[0m",
      "\u001b[1;31mValueError\u001b[0m                                Traceback (most recent call last)",
      "Input \u001b[1;32mIn [165]\u001b[0m, in \u001b[0;36m<cell line: 1>\u001b[1;34m()\u001b[0m\n\u001b[1;32m----> 1\u001b[0m \u001b[43ma\u001b[49m\u001b[38;5;241;43m.\u001b[39;49m\u001b[43mindex\u001b[49m\u001b[43m(\u001b[49m\u001b[38;5;241;43m1\u001b[39;49m\u001b[43m)\u001b[49m\n",
      "\u001b[1;31mValueError\u001b[0m: 1 is not in list"
     ]
    }
   ],
   "source": [
    "a.index(1)"
   ]
  },
  {
   "cell_type": "code",
   "execution_count": 166,
   "id": "12f5fc99-7535-4151-bc09-5fc98ad1f87c",
   "metadata": {},
   "outputs": [
    {
     "ename": "TypeError",
     "evalue": "list.index() takes no keyword arguments",
     "output_type": "error",
     "traceback": [
      "\u001b[1;31m---------------------------------------------------------------------------\u001b[0m",
      "\u001b[1;31mTypeError\u001b[0m                                 Traceback (most recent call last)",
      "Input \u001b[1;32mIn [166]\u001b[0m, in \u001b[0;36m<cell line: 1>\u001b[1;34m()\u001b[0m\n\u001b[1;32m----> 1\u001b[0m \u001b[43ma\u001b[49m\u001b[38;5;241;43m.\u001b[39;49m\u001b[43mindex\u001b[49m\u001b[43m(\u001b[49m\u001b[38;5;241;43m10\u001b[39;49m\u001b[43m,\u001b[49m\u001b[43m \u001b[49m\u001b[43mstart\u001b[49m\u001b[38;5;241;43m=\u001b[39;49m\u001b[38;5;241;43m0\u001b[39;49m\u001b[43m,\u001b[49m\u001b[43m \u001b[49m\u001b[43mstop\u001b[49m\u001b[38;5;241;43m=\u001b[39;49m\u001b[43m \u001b[49m\u001b[38;5;241;43m10\u001b[39;49m\u001b[43m)\u001b[49m\n",
      "\u001b[1;31mTypeError\u001b[0m: list.index() takes no keyword arguments"
     ]
    }
   ],
   "source": [
    "a.index(10, start=0, stop= 10)"
   ]
  },
  {
   "cell_type": "code",
   "execution_count": 167,
   "id": "5dc0d4ac-a445-4d6f-a026-714c612af210",
   "metadata": {},
   "outputs": [
    {
     "ename": "ValueError",
     "evalue": "['harshal', 'Great', 10, 20, 30, 40, 'Hareshbhai', 'G', 'a', 'j', 'e', 'r', 'a'] is not in list",
     "output_type": "error",
     "traceback": [
      "\u001b[1;31m---------------------------------------------------------------------------\u001b[0m",
      "\u001b[1;31mValueError\u001b[0m                                Traceback (most recent call last)",
      "Input \u001b[1;32mIn [167]\u001b[0m, in \u001b[0;36m<cell line: 1>\u001b[1;34m()\u001b[0m\n\u001b[1;32m----> 1\u001b[0m \u001b[43ma\u001b[49m\u001b[38;5;241;43m.\u001b[39;49m\u001b[43mindex\u001b[49m\u001b[43m(\u001b[49m\u001b[43ma\u001b[49m\u001b[43m)\u001b[49m\n",
      "\u001b[1;31mValueError\u001b[0m: ['harshal', 'Great', 10, 20, 30, 40, 'Hareshbhai', 'G', 'a', 'j', 'e', 'r', 'a'] is not in list"
     ]
    }
   ],
   "source": [
    "a.index(a)"
   ]
  },
  {
   "cell_type": "code",
   "execution_count": 168,
   "id": "a48bf5c1-f1a5-403d-b4f2-0f51136a7db3",
   "metadata": {},
   "outputs": [
    {
     "data": {
      "text/plain": [
       "'Great'"
      ]
     },
     "execution_count": 168,
     "metadata": {},
     "output_type": "execute_result"
    }
   ],
   "source": [
    "a.pop(1)"
   ]
  },
  {
   "cell_type": "code",
   "execution_count": 169,
   "id": "8673ba84-3499-45fd-a2f5-b6845d94fb55",
   "metadata": {},
   "outputs": [
    {
     "data": {
      "text/plain": [
       "['harshal', 10, 20, 30, 40, 'Hareshbhai', 'G', 'a', 'j', 'e', 'r', 'a']"
      ]
     },
     "execution_count": 169,
     "metadata": {},
     "output_type": "execute_result"
    }
   ],
   "source": [
    "a"
   ]
  },
  {
   "cell_type": "code",
   "execution_count": 170,
   "id": "af19bc3c-699f-48be-8c5b-fcc14571dd84",
   "metadata": {},
   "outputs": [
    {
     "data": {
      "text/plain": [
       "['harshal', 10, 20, 30, 40, 'Hareshbhai', 'G', 'a', 'j', 'e', 'r', 'a']"
      ]
     },
     "execution_count": 170,
     "metadata": {},
     "output_type": "execute_result"
    }
   ],
   "source": [
    "a"
   ]
  },
  {
   "cell_type": "code",
   "execution_count": 171,
   "id": "a714961d-47b3-4c97-b37f-c53e607fd34f",
   "metadata": {},
   "outputs": [],
   "source": [
    "a= [\"harshal\",\"gajera\",\"hareshbhai\",10,20,30,40]"
   ]
  },
  {
   "cell_type": "code",
   "execution_count": 172,
   "id": "0e4acb29-a762-4fc1-b20b-b1a5c323d0db",
   "metadata": {},
   "outputs": [
    {
     "data": {
      "text/plain": [
       "['harshal', 'gajera', 'hareshbhai', 10, 20, 30, 40]"
      ]
     },
     "execution_count": 172,
     "metadata": {},
     "output_type": "execute_result"
    }
   ],
   "source": [
    "a"
   ]
  },
  {
   "cell_type": "code",
   "execution_count": 173,
   "id": "f3647f5b-7863-4a44-b65c-41d953f7d013",
   "metadata": {},
   "outputs": [
    {
     "data": {
      "text/plain": [
       "'gajera'"
      ]
     },
     "execution_count": 173,
     "metadata": {},
     "output_type": "execute_result"
    }
   ],
   "source": [
    "a.pop(1)"
   ]
  },
  {
   "cell_type": "code",
   "execution_count": 174,
   "id": "1a15b45c-aba3-4546-8abb-7f7fd95cb9c0",
   "metadata": {},
   "outputs": [
    {
     "data": {
      "text/plain": [
       "['harshal', 'hareshbhai', 10, 20, 30, 40]"
      ]
     },
     "execution_count": 174,
     "metadata": {},
     "output_type": "execute_result"
    }
   ],
   "source": [
    "a"
   ]
  },
  {
   "cell_type": "code",
   "execution_count": 175,
   "id": "11f93cd7-a02e-4b95-a642-2ab6583dac1c",
   "metadata": {},
   "outputs": [
    {
     "data": {
      "text/plain": [
       "['harshal', 'hareshbhai', 10, 20, 30, 40]"
      ]
     },
     "execution_count": 175,
     "metadata": {},
     "output_type": "execute_result"
    }
   ],
   "source": [
    "a"
   ]
  },
  {
   "cell_type": "code",
   "execution_count": 176,
   "id": "fe8afe2c-b555-4cc6-98ef-506017a15caa",
   "metadata": {},
   "outputs": [
    {
     "ename": "NameError",
     "evalue": "name 'lst' is not defined",
     "output_type": "error",
     "traceback": [
      "\u001b[1;31m---------------------------------------------------------------------------\u001b[0m",
      "\u001b[1;31mNameError\u001b[0m                                 Traceback (most recent call last)",
      "Input \u001b[1;32mIn [176]\u001b[0m, in \u001b[0;36m<cell line: 1>\u001b[1;34m()\u001b[0m\n\u001b[1;32m----> 1\u001b[0m \u001b[43mlst\u001b[49m[:]\n",
      "\u001b[1;31mNameError\u001b[0m: name 'lst' is not defined"
     ]
    }
   ],
   "source": [
    "lst[:]"
   ]
  },
  {
   "cell_type": "code",
   "execution_count": 177,
   "id": "a401916c-9aa6-48dc-a73f-af1982331838",
   "metadata": {},
   "outputs": [
    {
     "ename": "SyntaxError",
     "evalue": "invalid syntax (1145722274.py, line 1)",
     "output_type": "error",
     "traceback": [
      "\u001b[1;36m  Input \u001b[1;32mIn [177]\u001b[1;36m\u001b[0m\n\u001b[1;33m    a[]\u001b[0m\n\u001b[1;37m      ^\u001b[0m\n\u001b[1;31mSyntaxError\u001b[0m\u001b[1;31m:\u001b[0m invalid syntax\n"
     ]
    }
   ],
   "source": [
    "a[]"
   ]
  },
  {
   "cell_type": "code",
   "execution_count": 178,
   "id": "c67489ed-8f28-49e3-b5e3-f19eb24c98fa",
   "metadata": {},
   "outputs": [
    {
     "data": {
      "text/plain": [
       "['harshal', 'hareshbhai', 10, 20, 30, 40]"
      ]
     },
     "execution_count": 178,
     "metadata": {},
     "output_type": "execute_result"
    }
   ],
   "source": [
    "a[:]"
   ]
  },
  {
   "cell_type": "code",
   "execution_count": 179,
   "id": "504cd81f-d50e-44dd-bb92-a7b9e07569d4",
   "metadata": {},
   "outputs": [
    {
     "data": {
      "text/plain": [
       "['hareshbhai', 10, 20, 30, 40]"
      ]
     },
     "execution_count": 179,
     "metadata": {},
     "output_type": "execute_result"
    }
   ],
   "source": [
    "a[1:]"
   ]
  },
  {
   "cell_type": "code",
   "execution_count": 180,
   "id": "7b8782d4-a1a8-4bca-9114-5f3d5d6240c9",
   "metadata": {},
   "outputs": [
    {
     "data": {
      "text/plain": [
       "['hareshbhai', 10]"
      ]
     },
     "execution_count": 180,
     "metadata": {},
     "output_type": "execute_result"
    }
   ],
   "source": [
    "a[1:3]"
   ]
  },
  {
   "cell_type": "code",
   "execution_count": 181,
   "id": "e5e95bec-8812-483c-b128-7827c0aaa1e9",
   "metadata": {},
   "outputs": [
    {
     "data": {
      "text/plain": [
       "[30, 40]"
      ]
     },
     "execution_count": 181,
     "metadata": {},
     "output_type": "execute_result"
    }
   ],
   "source": [
    "a[4:]"
   ]
  },
  {
   "cell_type": "code",
   "execution_count": 182,
   "id": "94c19fb2-30f3-4739-9fa1-5b59d3a72cd1",
   "metadata": {},
   "outputs": [
    {
     "data": {
      "text/plain": [
       "['harshal', 'hareshbhai', 10, 20, 30, 40]"
      ]
     },
     "execution_count": 182,
     "metadata": {},
     "output_type": "execute_result"
    }
   ],
   "source": [
    "a"
   ]
  },
  {
   "cell_type": "code",
   "execution_count": 183,
   "id": "fe862c00-cf1f-4b71-a3d1-ff8d5fe31b1d",
   "metadata": {},
   "outputs": [
    {
     "data": {
      "text/plain": [
       "['harshal', 'hareshbhai', 10, 20, 30, 40]"
      ]
     },
     "execution_count": 183,
     "metadata": {},
     "output_type": "execute_result"
    }
   ],
   "source": [
    "a"
   ]
  },
  {
   "cell_type": "code",
   "execution_count": 184,
   "id": "0828a774-a51b-4fc1-8393-48a2d6465dae",
   "metadata": {},
   "outputs": [],
   "source": [
    "a.append([\"Harshal1\",\"Harshal2\"])"
   ]
  },
  {
   "cell_type": "code",
   "execution_count": 185,
   "id": "fe133d6e-b25b-4fa6-bedd-2e801e12176c",
   "metadata": {},
   "outputs": [
    {
     "data": {
      "text/plain": [
       "['harshal', 'hareshbhai', 10, 20, 30, 40, ['Harshal1', 'Harshal2']]"
      ]
     },
     "execution_count": 185,
     "metadata": {},
     "output_type": "execute_result"
    }
   ],
   "source": [
    "a"
   ]
  },
  {
   "cell_type": "code",
   "execution_count": 186,
   "id": "d141ba96-150f-4e98-9874-08ce08915e09",
   "metadata": {},
   "outputs": [],
   "source": [
    "a.append(\"Harshal3\")"
   ]
  },
  {
   "cell_type": "code",
   "execution_count": 187,
   "id": "09feb13c-4afd-4ee5-8f82-8c80409e0a2c",
   "metadata": {},
   "outputs": [
    {
     "data": {
      "text/plain": [
       "['harshal', 'hareshbhai', 10, 20, 30, 40, ['Harshal1', 'Harshal2'], 'Harshal3']"
      ]
     },
     "execution_count": 187,
     "metadata": {},
     "output_type": "execute_result"
    }
   ],
   "source": [
    "a"
   ]
  },
  {
   "cell_type": "code",
   "execution_count": 188,
   "id": "8bce40c6-1d94-4608-8ab5-4b55884b474d",
   "metadata": {},
   "outputs": [],
   "source": [
    "a.insert(2,\"Harshal4\")"
   ]
  },
  {
   "cell_type": "code",
   "execution_count": 189,
   "id": "9dd55d4c-e446-4842-8de1-03760edef627",
   "metadata": {},
   "outputs": [
    {
     "data": {
      "text/plain": [
       "['harshal',\n",
       " 'hareshbhai',\n",
       " 'Harshal4',\n",
       " 10,\n",
       " 20,\n",
       " 30,\n",
       " 40,\n",
       " ['Harshal1', 'Harshal2'],\n",
       " 'Harshal3']"
      ]
     },
     "execution_count": 189,
     "metadata": {},
     "output_type": "execute_result"
    }
   ],
   "source": [
    "a"
   ]
  },
  {
   "cell_type": "code",
   "execution_count": 190,
   "id": "4791492b-02bc-4784-8740-d05970bd0d0c",
   "metadata": {},
   "outputs": [],
   "source": [
    "a.insert(5,\"Harshal5\")"
   ]
  },
  {
   "cell_type": "code",
   "execution_count": 191,
   "id": "bd854927-0f16-4a72-93d2-5e1e7b973728",
   "metadata": {},
   "outputs": [
    {
     "data": {
      "text/plain": [
       "['harshal',\n",
       " 'hareshbhai',\n",
       " 'Harshal4',\n",
       " 10,\n",
       " 20,\n",
       " 'Harshal5',\n",
       " 30,\n",
       " 40,\n",
       " ['Harshal1', 'Harshal2'],\n",
       " 'Harshal3']"
      ]
     },
     "execution_count": 191,
     "metadata": {},
     "output_type": "execute_result"
    }
   ],
   "source": [
    "a"
   ]
  },
  {
   "cell_type": "code",
   "execution_count": 192,
   "id": "43a71b36-dea3-412b-af49-ce33d0e07a9f",
   "metadata": {},
   "outputs": [],
   "source": [
    "a.insert(3,\"12\")"
   ]
  },
  {
   "cell_type": "code",
   "execution_count": 193,
   "id": "3a5ecd3b-af84-4e9c-809d-56d9d54655e9",
   "metadata": {},
   "outputs": [
    {
     "data": {
      "text/plain": [
       "['harshal',\n",
       " 'hareshbhai',\n",
       " 'Harshal4',\n",
       " '12',\n",
       " 10,\n",
       " 20,\n",
       " 'Harshal5',\n",
       " 30,\n",
       " 40,\n",
       " ['Harshal1', 'Harshal2'],\n",
       " 'Harshal3']"
      ]
     },
     "execution_count": 193,
     "metadata": {},
     "output_type": "execute_result"
    }
   ],
   "source": [
    "a"
   ]
  },
  {
   "cell_type": "code",
   "execution_count": 194,
   "id": "34f29fdf-fa04-4a47-b700-b68cf4b4fe95",
   "metadata": {},
   "outputs": [
    {
     "ename": "TypeError",
     "evalue": "insert expected 2 arguments, got 1",
     "output_type": "error",
     "traceback": [
      "\u001b[1;31m---------------------------------------------------------------------------\u001b[0m",
      "\u001b[1;31mTypeError\u001b[0m                                 Traceback (most recent call last)",
      "Input \u001b[1;32mIn [194]\u001b[0m, in \u001b[0;36m<cell line: 1>\u001b[1;34m()\u001b[0m\n\u001b[1;32m----> 1\u001b[0m \u001b[43ma\u001b[49m\u001b[38;5;241;43m.\u001b[39;49m\u001b[43minsert\u001b[49m\u001b[43m(\u001b[49m\u001b[43m[\u001b[49m\u001b[43ma\u001b[49m\u001b[38;5;241;43m.\u001b[39;49m\u001b[43minsert\u001b[49m\u001b[43m(\u001b[49m\u001b[38;5;241;43m3\u001b[39;49m\u001b[43m,\u001b[49m\u001b[38;5;241;43m12\u001b[39;49m\u001b[43m)\u001b[49m\u001b[43m,\u001b[49m\u001b[43m \u001b[49m\u001b[43ma\u001b[49m\u001b[38;5;241;43m.\u001b[39;49m\u001b[43minsert\u001b[49m\u001b[43m(\u001b[49m\u001b[38;5;241;43m4\u001b[39;49m\u001b[43m,\u001b[49m\u001b[38;5;241;43m12\u001b[39;49m\u001b[43m)\u001b[49m\u001b[43m]\u001b[49m\u001b[43m)\u001b[49m\n",
      "\u001b[1;31mTypeError\u001b[0m: insert expected 2 arguments, got 1"
     ]
    }
   ],
   "source": [
    "a.insert([a.insert(3,12), a.insert(4,12)])"
   ]
  },
  {
   "cell_type": "code",
   "execution_count": 195,
   "id": "84c10586-3555-40bb-b1c1-6bf161237346",
   "metadata": {},
   "outputs": [],
   "source": [
    "a.insert(1,12)"
   ]
  },
  {
   "cell_type": "code",
   "execution_count": 196,
   "id": "fd895ed2-c0c5-451b-b5a0-207175219e8f",
   "metadata": {},
   "outputs": [
    {
     "data": {
      "text/plain": [
       "['harshal',\n",
       " 12,\n",
       " 'hareshbhai',\n",
       " 'Harshal4',\n",
       " 12,\n",
       " 12,\n",
       " '12',\n",
       " 10,\n",
       " 20,\n",
       " 'Harshal5',\n",
       " 30,\n",
       " 40,\n",
       " ['Harshal1', 'Harshal2'],\n",
       " 'Harshal3']"
      ]
     },
     "execution_count": 196,
     "metadata": {},
     "output_type": "execute_result"
    }
   ],
   "source": [
    "a"
   ]
  },
  {
   "cell_type": "code",
   "execution_count": 197,
   "id": "65ecd2cc-3759-40d1-b678-4c455023a959",
   "metadata": {},
   "outputs": [
    {
     "data": {
      "text/plain": [
       "14"
      ]
     },
     "execution_count": 197,
     "metadata": {},
     "output_type": "execute_result"
    }
   ],
   "source": [
    "len(a)"
   ]
  },
  {
   "cell_type": "code",
   "execution_count": 198,
   "id": "ba7cef7b-f610-4c5b-9594-a95b730bfd53",
   "metadata": {},
   "outputs": [],
   "source": [
    "a.insert(1, [1,23,4,5,8])"
   ]
  },
  {
   "cell_type": "code",
   "execution_count": 199,
   "id": "07431d60-ddeb-4891-8c6a-085e133df6cc",
   "metadata": {},
   "outputs": [
    {
     "data": {
      "text/plain": [
       "['harshal',\n",
       " [1, 23, 4, 5, 8],\n",
       " 12,\n",
       " 'hareshbhai',\n",
       " 'Harshal4',\n",
       " 12,\n",
       " 12,\n",
       " '12',\n",
       " 10,\n",
       " 20,\n",
       " 'Harshal5',\n",
       " 30,\n",
       " 40,\n",
       " ['Harshal1', 'Harshal2'],\n",
       " 'Harshal3']"
      ]
     },
     "execution_count": 199,
     "metadata": {},
     "output_type": "execute_result"
    }
   ],
   "source": [
    "a"
   ]
  },
  {
   "cell_type": "code",
   "execution_count": 200,
   "id": "c0772155-49d8-40c3-84db-863a8a0b6899",
   "metadata": {},
   "outputs": [],
   "source": [
    "a=[1,2,3,4,5,6]"
   ]
  },
  {
   "cell_type": "code",
   "execution_count": 201,
   "id": "86a95180-08dd-4629-9834-ff2537acbcae",
   "metadata": {},
   "outputs": [
    {
     "data": {
      "text/plain": [
       "[1, 2, 3, 4, 5, 6]"
      ]
     },
     "execution_count": 201,
     "metadata": {},
     "output_type": "execute_result"
    }
   ],
   "source": [
    "a"
   ]
  },
  {
   "cell_type": "code",
   "execution_count": 202,
   "id": "ea326bae-88fd-4c10-a0b9-8d5f6a239012",
   "metadata": {},
   "outputs": [],
   "source": [
    "a.extend([8,9,0])"
   ]
  },
  {
   "cell_type": "code",
   "execution_count": 203,
   "id": "6af93824-9e3b-4dbb-96ad-4dc0038ebd2c",
   "metadata": {},
   "outputs": [
    {
     "data": {
      "text/plain": [
       "[1, 2, 3, 4, 5, 6, 8, 9, 0]"
      ]
     },
     "execution_count": 203,
     "metadata": {},
     "output_type": "execute_result"
    }
   ],
   "source": [
    "a"
   ]
  },
  {
   "cell_type": "code",
   "execution_count": 204,
   "id": "5ba00ace-d7da-4b32-a7e7-2057655b63e9",
   "metadata": {},
   "outputs": [],
   "source": [
    "a.extend([11,12,13,10])"
   ]
  },
  {
   "cell_type": "code",
   "execution_count": 205,
   "id": "26df83f5-dd09-410b-b2e2-0e23c6e4badd",
   "metadata": {},
   "outputs": [
    {
     "data": {
      "text/plain": [
       "[1, 2, 3, 4, 5, 6, 8, 9, 0, 11, 12, 13, 10]"
      ]
     },
     "execution_count": 205,
     "metadata": {},
     "output_type": "execute_result"
    }
   ],
   "source": [
    "a"
   ]
  },
  {
   "cell_type": "code",
   "execution_count": 206,
   "id": "660f9c43-4c67-4fee-b966-27257a830672",
   "metadata": {},
   "outputs": [],
   "source": [
    "a.sort()"
   ]
  },
  {
   "cell_type": "code",
   "execution_count": 207,
   "id": "cf4e86e4-7714-479f-9fdf-7639f255feac",
   "metadata": {},
   "outputs": [
    {
     "data": {
      "text/plain": [
       "[0, 1, 2, 3, 4, 5, 6, 8, 9, 10, 11, 12, 13]"
      ]
     },
     "execution_count": 207,
     "metadata": {},
     "output_type": "execute_result"
    }
   ],
   "source": [
    "a"
   ]
  },
  {
   "cell_type": "code",
   "execution_count": 208,
   "id": "7f6419fc-d1fc-4a3f-905f-2541125f8c53",
   "metadata": {},
   "outputs": [],
   "source": [
    "a.insert(7,7)"
   ]
  },
  {
   "cell_type": "code",
   "execution_count": 209,
   "id": "08b491da-a662-4cb3-b08e-d599a70b9356",
   "metadata": {},
   "outputs": [
    {
     "data": {
      "text/plain": [
       "[0, 1, 2, 3, 4, 5, 6, 7, 8, 9, 10, 11, 12, 13]"
      ]
     },
     "execution_count": 209,
     "metadata": {},
     "output_type": "execute_result"
    }
   ],
   "source": [
    "a"
   ]
  },
  {
   "cell_type": "code",
   "execution_count": 210,
   "id": "f82241c1-7281-4992-932c-3609355c019b",
   "metadata": {},
   "outputs": [],
   "source": [
    "a.sort()"
   ]
  },
  {
   "cell_type": "code",
   "execution_count": null,
   "id": "eb5538b4-6545-4da7-8299-677b6ec1fbce",
   "metadata": {},
   "outputs": [],
   "source": []
  },
  {
   "cell_type": "code",
   "execution_count": 211,
   "id": "b8d94d0e-d61b-47d1-822d-44a18f81566b",
   "metadata": {},
   "outputs": [
    {
     "data": {
      "text/plain": [
       "91"
      ]
     },
     "execution_count": 211,
     "metadata": {},
     "output_type": "execute_result"
    }
   ],
   "source": [
    "sum(a)"
   ]
  },
  {
   "cell_type": "code",
   "execution_count": 212,
   "id": "4e2a4d0f-2038-45ff-b445-901a163f4fc1",
   "metadata": {},
   "outputs": [
    {
     "ename": "TypeError",
     "evalue": "sum() takes at least 1 positional argument (0 given)",
     "output_type": "error",
     "traceback": [
      "\u001b[1;31m---------------------------------------------------------------------------\u001b[0m",
      "\u001b[1;31mTypeError\u001b[0m                                 Traceback (most recent call last)",
      "Input \u001b[1;32mIn [212]\u001b[0m, in \u001b[0;36m<cell line: 1>\u001b[1;34m()\u001b[0m\n\u001b[1;32m----> 1\u001b[0m \u001b[38;5;28;43msum\u001b[39;49m\u001b[43m(\u001b[49m\u001b[43m)\u001b[49m\n",
      "\u001b[1;31mTypeError\u001b[0m: sum() takes at least 1 positional argument (0 given)"
     ]
    }
   ],
   "source": [
    "sum()"
   ]
  },
  {
   "cell_type": "code",
   "execution_count": 213,
   "id": "3a7cafce-4fad-48a6-b889-47be8f94232a",
   "metadata": {},
   "outputs": [
    {
     "ename": "ValueError",
     "evalue": "14 is not in list",
     "output_type": "error",
     "traceback": [
      "\u001b[1;31m---------------------------------------------------------------------------\u001b[0m",
      "\u001b[1;31mValueError\u001b[0m                                Traceback (most recent call last)",
      "Input \u001b[1;32mIn [213]\u001b[0m, in \u001b[0;36m<cell line: 1>\u001b[1;34m()\u001b[0m\n\u001b[1;32m----> 1\u001b[0m \u001b[43ma\u001b[49m\u001b[38;5;241;43m.\u001b[39;49m\u001b[43mindex\u001b[49m\u001b[43m(\u001b[49m\u001b[38;5;241;43m14\u001b[39;49m\u001b[43m)\u001b[49m\n",
      "\u001b[1;31mValueError\u001b[0m: 14 is not in list"
     ]
    }
   ],
   "source": [
    "a.index(14)"
   ]
  },
  {
   "cell_type": "code",
   "execution_count": 214,
   "id": "4ed1ae3d-65ad-4adb-800f-c41911ffe91a",
   "metadata": {},
   "outputs": [
    {
     "ename": "ValueError",
     "evalue": "'10' is not in list",
     "output_type": "error",
     "traceback": [
      "\u001b[1;31m---------------------------------------------------------------------------\u001b[0m",
      "\u001b[1;31mValueError\u001b[0m                                Traceback (most recent call last)",
      "Input \u001b[1;32mIn [214]\u001b[0m, in \u001b[0;36m<cell line: 1>\u001b[1;34m()\u001b[0m\n\u001b[1;32m----> 1\u001b[0m \u001b[43ma\u001b[49m\u001b[38;5;241;43m.\u001b[39;49m\u001b[43mindex\u001b[49m\u001b[43m(\u001b[49m\u001b[38;5;124;43m\"\u001b[39;49m\u001b[38;5;124;43m10\u001b[39;49m\u001b[38;5;124;43m\"\u001b[39;49m\u001b[43m)\u001b[49m\n",
      "\u001b[1;31mValueError\u001b[0m: '10' is not in list"
     ]
    }
   ],
   "source": [
    "a.index(\"10\")"
   ]
  },
  {
   "cell_type": "code",
   "execution_count": 215,
   "id": "db344172-e5dd-415c-977c-9016f38485ae",
   "metadata": {},
   "outputs": [
    {
     "data": {
      "text/plain": [
       "[0, 1, 2, 3, 4, 5, 6, 7, 8, 9, 10, 11, 12, 13]"
      ]
     },
     "execution_count": 215,
     "metadata": {},
     "output_type": "execute_result"
    }
   ],
   "source": [
    "a"
   ]
  },
  {
   "cell_type": "code",
   "execution_count": 216,
   "id": "999c18b8-1b36-46c0-aff3-3af85f51d1d0",
   "metadata": {},
   "outputs": [
    {
     "data": {
      "text/plain": [
       "10"
      ]
     },
     "execution_count": 216,
     "metadata": {},
     "output_type": "execute_result"
    }
   ],
   "source": [
    "a.index(10)"
   ]
  },
  {
   "cell_type": "code",
   "execution_count": 217,
   "id": "00822051-1efe-4833-a79f-edcaf5397f07",
   "metadata": {},
   "outputs": [
    {
     "data": {
      "text/plain": [
       "[0, 1, 2, 3, 4, 5, 6, 7, 8, 9, 10, 11, 12, 13]"
      ]
     },
     "execution_count": 217,
     "metadata": {},
     "output_type": "execute_result"
    }
   ],
   "source": [
    "a"
   ]
  },
  {
   "cell_type": "code",
   "execution_count": 218,
   "id": "ac586f75-70bd-474a-ae92-e94d36e39162",
   "metadata": {},
   "outputs": [
    {
     "data": {
      "text/plain": [
       "13"
      ]
     },
     "execution_count": 218,
     "metadata": {},
     "output_type": "execute_result"
    }
   ],
   "source": [
    "a.pop()"
   ]
  },
  {
   "cell_type": "code",
   "execution_count": 219,
   "id": "aa03714a-327a-4e56-81ea-3dbfa4d62f9e",
   "metadata": {},
   "outputs": [
    {
     "data": {
      "text/plain": [
       "[0, 1, 2, 3, 4, 5, 6, 7, 8, 9, 10, 11, 12]"
      ]
     },
     "execution_count": 219,
     "metadata": {},
     "output_type": "execute_result"
    }
   ],
   "source": [
    "a"
   ]
  },
  {
   "cell_type": "code",
   "execution_count": 220,
   "id": "8887be04-9c1b-4254-96cf-25cdcbc6150d",
   "metadata": {},
   "outputs": [
    {
     "ename": "ValueError",
     "evalue": "3 is not in list",
     "output_type": "error",
     "traceback": [
      "\u001b[1;31m---------------------------------------------------------------------------\u001b[0m",
      "\u001b[1;31mValueError\u001b[0m                                Traceback (most recent call last)",
      "Input \u001b[1;32mIn [220]\u001b[0m, in \u001b[0;36m<cell line: 1>\u001b[1;34m()\u001b[0m\n\u001b[1;32m----> 1\u001b[0m \u001b[43ma\u001b[49m\u001b[38;5;241;43m.\u001b[39;49m\u001b[43mindex\u001b[49m\u001b[43m(\u001b[49m\u001b[38;5;241;43m3\u001b[39;49m\u001b[43m,\u001b[49m\u001b[38;5;241;43m7\u001b[39;49m\u001b[43m,\u001b[49m\u001b[38;5;241;43m11\u001b[39;49m\u001b[43m)\u001b[49m\n",
      "\u001b[1;31mValueError\u001b[0m: 3 is not in list"
     ]
    }
   ],
   "source": [
    "a.index(3,7,11)"
   ]
  },
  {
   "cell_type": "code",
   "execution_count": 221,
   "id": "a93de3e6-a43e-4889-ac16-cd301ba676e4",
   "metadata": {},
   "outputs": [
    {
     "data": {
      "text/plain": [
       "3"
      ]
     },
     "execution_count": 221,
     "metadata": {},
     "output_type": "execute_result"
    }
   ],
   "source": [
    "a.index(3,2,5)"
   ]
  },
  {
   "cell_type": "code",
   "execution_count": 222,
   "id": "c6758a87-b25e-43c9-9cb6-c27cbff5c0f6",
   "metadata": {},
   "outputs": [
    {
     "data": {
      "text/plain": [
       "[0, 1, 2, 3, 4, 5, 6, 7, 8, 9, 10, 11, 12]"
      ]
     },
     "execution_count": 222,
     "metadata": {},
     "output_type": "execute_result"
    }
   ],
   "source": [
    "a"
   ]
  },
  {
   "cell_type": "code",
   "execution_count": 223,
   "id": "594bc7c9-bb57-4231-8a8e-25067fe9e6ac",
   "metadata": {},
   "outputs": [
    {
     "data": {
      "text/plain": [
       "0"
      ]
     },
     "execution_count": 223,
     "metadata": {},
     "output_type": "execute_result"
    }
   ],
   "source": [
    "min(a)"
   ]
  },
  {
   "cell_type": "code",
   "execution_count": 224,
   "id": "c829bada-40c7-4d8c-af8f-af0cb95cc864",
   "metadata": {},
   "outputs": [
    {
     "ename": "SyntaxError",
     "evalue": "unexpected EOF while parsing (667639890.py, line 1)",
     "output_type": "error",
     "traceback": [
      "\u001b[1;36m  Input \u001b[1;32mIn [224]\u001b[1;36m\u001b[0m\n\u001b[1;33m    max(a\u001b[0m\n\u001b[1;37m         ^\u001b[0m\n\u001b[1;31mSyntaxError\u001b[0m\u001b[1;31m:\u001b[0m unexpected EOF while parsing\n"
     ]
    }
   ],
   "source": [
    "max(a"
   ]
  },
  {
   "cell_type": "code",
   "execution_count": 225,
   "id": "f54ae7d5-d375-4c7f-8c7c-bea6c61ca5ad",
   "metadata": {},
   "outputs": [
    {
     "data": {
      "text/plain": [
       "12"
      ]
     },
     "execution_count": 225,
     "metadata": {},
     "output_type": "execute_result"
    }
   ],
   "source": [
    "max(a)"
   ]
  },
  {
   "cell_type": "code",
   "execution_count": 226,
   "id": "5101fca7-68bc-4d39-b472-c8cf0cb6befc",
   "metadata": {},
   "outputs": [],
   "source": [
    "b= set()"
   ]
  },
  {
   "cell_type": "code",
   "execution_count": 227,
   "id": "d6353577-06ec-42ff-8c40-45a001732164",
   "metadata": {},
   "outputs": [
    {
     "data": {
      "text/plain": [
       "set"
      ]
     },
     "execution_count": 227,
     "metadata": {},
     "output_type": "execute_result"
    }
   ],
   "source": [
    "type(b)"
   ]
  },
  {
   "cell_type": "code",
   "execution_count": 228,
   "id": "3bf9ec18-45f2-4be0-bad8-f0217593da27",
   "metadata": {},
   "outputs": [
    {
     "ename": "TypeError",
     "evalue": "set.add() takes exactly one argument (5 given)",
     "output_type": "error",
     "traceback": [
      "\u001b[1;31m---------------------------------------------------------------------------\u001b[0m",
      "\u001b[1;31mTypeError\u001b[0m                                 Traceback (most recent call last)",
      "Input \u001b[1;32mIn [228]\u001b[0m, in \u001b[0;36m<cell line: 1>\u001b[1;34m()\u001b[0m\n\u001b[1;32m----> 1\u001b[0m \u001b[43mb\u001b[49m\u001b[38;5;241;43m.\u001b[39;49m\u001b[43madd\u001b[49m\u001b[43m(\u001b[49m\u001b[38;5;124;43m\"\u001b[39;49m\u001b[38;5;124;43mHarshal\u001b[39;49m\u001b[38;5;124;43m\"\u001b[39;49m\u001b[43m,\u001b[49m\u001b[38;5;124;43m\"\u001b[39;49m\u001b[38;5;124;43mGajera\u001b[39;49m\u001b[38;5;124;43m\"\u001b[39;49m\u001b[43m,\u001b[49m\u001b[38;5;241;43m10\u001b[39;49m\u001b[43m,\u001b[49m\u001b[38;5;241;43m20\u001b[39;49m\u001b[43m,\u001b[49m\u001b[38;5;241;43m30\u001b[39;49m\u001b[43m)\u001b[49m\n",
      "\u001b[1;31mTypeError\u001b[0m: set.add() takes exactly one argument (5 given)"
     ]
    }
   ],
   "source": [
    "b.add(\"Harshal\",\"Gajera\",10,20,30)"
   ]
  },
  {
   "cell_type": "code",
   "execution_count": 229,
   "id": "91df8a46-d378-4b4a-8037-1986c5a59dc1",
   "metadata": {},
   "outputs": [],
   "source": [
    "b.add(\"Harshal\")"
   ]
  },
  {
   "cell_type": "code",
   "execution_count": 230,
   "id": "0ec5752f-187d-4117-a2d0-da5a83fdb975",
   "metadata": {},
   "outputs": [
    {
     "data": {
      "text/plain": [
       "{'Harshal'}"
      ]
     },
     "execution_count": 230,
     "metadata": {},
     "output_type": "execute_result"
    }
   ],
   "source": [
    "b"
   ]
  },
  {
   "cell_type": "code",
   "execution_count": 231,
   "id": "4c87548c-af0b-4544-9a5c-2031e33358ed",
   "metadata": {},
   "outputs": [],
   "source": [
    "b={\"Harshal\",\"Gajera\",10,20,30}"
   ]
  },
  {
   "cell_type": "code",
   "execution_count": 232,
   "id": "c10d2d27-4f1f-42da-a35d-1797afd2094b",
   "metadata": {},
   "outputs": [
    {
     "data": {
      "text/plain": [
       "{10, 20, 30, 'Gajera', 'Harshal'}"
      ]
     },
     "execution_count": 232,
     "metadata": {},
     "output_type": "execute_result"
    }
   ],
   "source": [
    "b"
   ]
  },
  {
   "cell_type": "code",
   "execution_count": 233,
   "id": "21127b48-58d8-4b82-b3b5-1ca4b7d90257",
   "metadata": {},
   "outputs": [
    {
     "ename": "SyntaxError",
     "evalue": "EOL while scanning string literal (3511330044.py, line 1)",
     "output_type": "error",
     "traceback": [
      "\u001b[1;36m  Input \u001b[1;32mIn [233]\u001b[1;36m\u001b[0m\n\u001b[1;33m    b.add(\"Hareshbhai)\u001b[0m\n\u001b[1;37m                      ^\u001b[0m\n\u001b[1;31mSyntaxError\u001b[0m\u001b[1;31m:\u001b[0m EOL while scanning string literal\n"
     ]
    }
   ],
   "source": [
    "b.add(\"Hareshbhai)"
   ]
  },
  {
   "cell_type": "code",
   "execution_count": 234,
   "id": "e5e2ea3f-4724-48d1-9b55-58025f149cde",
   "metadata": {},
   "outputs": [],
   "source": [
    "b.add(\"Hareshbhai\")"
   ]
  },
  {
   "cell_type": "code",
   "execution_count": 235,
   "id": "c22ad74a-1ce4-48a7-b68e-56b2104c91b9",
   "metadata": {},
   "outputs": [
    {
     "data": {
      "text/plain": [
       "{10, 20, 30, 'Gajera', 'Hareshbhai', 'Harshal'}"
      ]
     },
     "execution_count": 235,
     "metadata": {},
     "output_type": "execute_result"
    }
   ],
   "source": [
    "b"
   ]
  },
  {
   "cell_type": "code",
   "execution_count": 236,
   "id": "32d7a6f4-e74f-4b46-9947-9aa617432f1f",
   "metadata": {},
   "outputs": [
    {
     "ename": "KeyError",
     "evalue": "1",
     "output_type": "error",
     "traceback": [
      "\u001b[1;31m---------------------------------------------------------------------------\u001b[0m",
      "\u001b[1;31mKeyError\u001b[0m                                  Traceback (most recent call last)",
      "Input \u001b[1;32mIn [236]\u001b[0m, in \u001b[0;36m<cell line: 1>\u001b[1;34m()\u001b[0m\n\u001b[1;32m----> 1\u001b[0m \u001b[43mb\u001b[49m\u001b[38;5;241;43m.\u001b[39;49m\u001b[43mremove\u001b[49m\u001b[43m(\u001b[49m\u001b[38;5;241;43m1\u001b[39;49m\u001b[43m)\u001b[49m\n",
      "\u001b[1;31mKeyError\u001b[0m: 1"
     ]
    }
   ],
   "source": [
    "b.remove(1)"
   ]
  },
  {
   "cell_type": "code",
   "execution_count": 237,
   "id": "7c44ca6b-4f93-4bfa-8326-aaf9ebf65380",
   "metadata": {},
   "outputs": [],
   "source": [
    "b.remove(10)"
   ]
  },
  {
   "cell_type": "code",
   "execution_count": 238,
   "id": "682bef7a-caf6-45a9-91d9-96f643de24a8",
   "metadata": {},
   "outputs": [
    {
     "data": {
      "text/plain": [
       "{20, 30, 'Gajera', 'Hareshbhai', 'Harshal'}"
      ]
     },
     "execution_count": 238,
     "metadata": {},
     "output_type": "execute_result"
    }
   ],
   "source": [
    "b"
   ]
  },
  {
   "cell_type": "code",
   "execution_count": 239,
   "id": "f085d19c-200c-428d-b039-407ad6c9b2fd",
   "metadata": {},
   "outputs": [],
   "source": [
    "b.add(\"10\")"
   ]
  },
  {
   "cell_type": "code",
   "execution_count": 240,
   "id": "8b3fbb67-78bc-448f-b45a-32ea0e7cbf52",
   "metadata": {},
   "outputs": [
    {
     "data": {
      "text/plain": [
       "{'10', 20, 30, 'Gajera', 'Hareshbhai', 'Harshal'}"
      ]
     },
     "execution_count": 240,
     "metadata": {},
     "output_type": "execute_result"
    }
   ],
   "source": [
    "b"
   ]
  },
  {
   "cell_type": "code",
   "execution_count": 241,
   "id": "5ba5ea56-aa89-4288-91bc-6b5ce16e7d6c",
   "metadata": {},
   "outputs": [],
   "source": [
    "b.add(10)"
   ]
  },
  {
   "cell_type": "code",
   "execution_count": 242,
   "id": "23ddea90-adf4-42ae-9f72-d608076590c2",
   "metadata": {},
   "outputs": [
    {
     "data": {
      "text/plain": [
       "{'10', 10, 20, 30, 'Gajera', 'Hareshbhai', 'Harshal'}"
      ]
     },
     "execution_count": 242,
     "metadata": {},
     "output_type": "execute_result"
    }
   ],
   "source": [
    "b"
   ]
  },
  {
   "cell_type": "code",
   "execution_count": 243,
   "id": "b4ded4d1-e69e-43aa-88e6-86f447ba2d9f",
   "metadata": {},
   "outputs": [
    {
     "ename": "AttributeError",
     "evalue": "'set' object has no attribute 'addd'",
     "output_type": "error",
     "traceback": [
      "\u001b[1;31m---------------------------------------------------------------------------\u001b[0m",
      "\u001b[1;31mAttributeError\u001b[0m                            Traceback (most recent call last)",
      "Input \u001b[1;32mIn [243]\u001b[0m, in \u001b[0;36m<cell line: 1>\u001b[1;34m()\u001b[0m\n\u001b[1;32m----> 1\u001b[0m \u001b[43mb\u001b[49m\u001b[38;5;241;43m.\u001b[39;49m\u001b[43maddd\u001b[49m(\u001b[38;5;241m0\u001b[39m)\n",
      "\u001b[1;31mAttributeError\u001b[0m: 'set' object has no attribute 'addd'"
     ]
    }
   ],
   "source": [
    "b.addd(0)"
   ]
  },
  {
   "cell_type": "code",
   "execution_count": 244,
   "id": "f36ed331-b91e-4813-a965-ae52ec4043fa",
   "metadata": {},
   "outputs": [],
   "source": [
    "b.add(10)"
   ]
  },
  {
   "cell_type": "code",
   "execution_count": 245,
   "id": "53e3fffa-e4ce-4f4f-8ce0-db19945387f7",
   "metadata": {},
   "outputs": [
    {
     "data": {
      "text/plain": [
       "{'10', 10, 20, 30, 'Gajera', 'Hareshbhai', 'Harshal'}"
      ]
     },
     "execution_count": 245,
     "metadata": {},
     "output_type": "execute_result"
    }
   ],
   "source": [
    "b"
   ]
  },
  {
   "cell_type": "code",
   "execution_count": 246,
   "id": "a8cb1d7a-6b4c-4089-b505-6014196cdf4f",
   "metadata": {},
   "outputs": [],
   "source": [
    "s={1,2,3,4,5,1,2,3,7,8,9,0,4,2,1,4,6,3,6,9,1224}"
   ]
  },
  {
   "cell_type": "code",
   "execution_count": 247,
   "id": "f2ce0297-2d6f-4a92-a225-4b7911311c78",
   "metadata": {},
   "outputs": [
    {
     "data": {
      "text/plain": [
       "{0, 1, 2, 3, 4, 5, 6, 7, 8, 9, 1224}"
      ]
     },
     "execution_count": 247,
     "metadata": {},
     "output_type": "execute_result"
    }
   ],
   "source": [
    "s"
   ]
  },
  {
   "cell_type": "code",
   "execution_count": 248,
   "id": "f1506de5-ee46-46ff-abd7-9c34556250d1",
   "metadata": {},
   "outputs": [
    {
     "data": {
      "text/plain": [
       "set"
      ]
     },
     "execution_count": 248,
     "metadata": {},
     "output_type": "execute_result"
    }
   ],
   "source": [
    "type(s)"
   ]
  },
  {
   "cell_type": "code",
   "execution_count": 249,
   "id": "6111d382-fe1e-4c0a-895f-77dfae0a2c55",
   "metadata": {},
   "outputs": [],
   "source": [
    "S=[1,2,3,4,5,1,2,3,7,8,9,0,4,2,1,4,6,3,6,9,1224]"
   ]
  },
  {
   "cell_type": "code",
   "execution_count": 250,
   "id": "9a94fcfc-38a7-447d-9029-c70e423f0535",
   "metadata": {},
   "outputs": [
    {
     "data": {
      "text/plain": [
       "[1, 2, 3, 4, 5, 1, 2, 3, 7, 8, 9, 0, 4, 2, 1, 4, 6, 3, 6, 9, 1224]"
      ]
     },
     "execution_count": 250,
     "metadata": {},
     "output_type": "execute_result"
    }
   ],
   "source": [
    "S"
   ]
  },
  {
   "cell_type": "code",
   "execution_count": 251,
   "id": "499e3560-15e2-4803-b246-c9b94e5d2917",
   "metadata": {},
   "outputs": [],
   "source": [
    "S.sort()"
   ]
  },
  {
   "cell_type": "code",
   "execution_count": 252,
   "id": "5e518626-cad9-4ca6-944b-5af38c0a0d79",
   "metadata": {},
   "outputs": [
    {
     "data": {
      "text/plain": [
       "[0, 1, 1, 1, 2, 2, 2, 3, 3, 3, 4, 4, 4, 5, 6, 6, 7, 8, 9, 9, 1224]"
      ]
     },
     "execution_count": 252,
     "metadata": {},
     "output_type": "execute_result"
    }
   ],
   "source": [
    "S"
   ]
  },
  {
   "cell_type": "code",
   "execution_count": 253,
   "id": "0633c71d-0139-472d-90b5-94dab70f59eb",
   "metadata": {},
   "outputs": [],
   "source": [
    "S.reverse()"
   ]
  },
  {
   "cell_type": "code",
   "execution_count": 254,
   "id": "9714afbb-d1b0-4968-a836-8dd02c22189a",
   "metadata": {},
   "outputs": [
    {
     "data": {
      "text/plain": [
       "[1224, 9, 9, 8, 7, 6, 6, 5, 4, 4, 4, 3, 3, 3, 2, 2, 2, 1, 1, 1, 0]"
      ]
     },
     "execution_count": 254,
     "metadata": {},
     "output_type": "execute_result"
    }
   ],
   "source": [
    "S"
   ]
  },
  {
   "cell_type": "code",
   "execution_count": 255,
   "id": "ef21e89f-6f34-40d6-beee-658895e907d3",
   "metadata": {},
   "outputs": [
    {
     "data": {
      "text/plain": [
       "{0, 1, 2, 3, 4, 5, 6, 7, 8, 9, 1224}"
      ]
     },
     "execution_count": 255,
     "metadata": {},
     "output_type": "execute_result"
    }
   ],
   "source": [
    "s.copy()"
   ]
  },
  {
   "cell_type": "code",
   "execution_count": 256,
   "id": "ca2046ae-9f4c-47a1-aa6a-1b17738d293f",
   "metadata": {},
   "outputs": [
    {
     "data": {
      "text/plain": [
       "{0, 1, 2, 3, 4, 5, 6, 7, 8, 9, 1224}"
      ]
     },
     "execution_count": 256,
     "metadata": {},
     "output_type": "execute_result"
    }
   ],
   "source": [
    "s"
   ]
  },
  {
   "cell_type": "code",
   "execution_count": 257,
   "id": "00e900ed-1898-4e08-9a80-f4ae23d34ab7",
   "metadata": {},
   "outputs": [
    {
     "data": {
      "text/plain": [
       "{0, 1, 2, 3, 4, 5, 6, 7, 8, 9, 1224}"
      ]
     },
     "execution_count": 257,
     "metadata": {},
     "output_type": "execute_result"
    }
   ],
   "source": [
    "s.difference()"
   ]
  },
  {
   "cell_type": "code",
   "execution_count": 258,
   "id": "2b533e15-d894-42bb-8618-c92bb826728c",
   "metadata": {},
   "outputs": [],
   "source": [
    "s1={\"Hulk1\", \"ironmen1\",\"avengers\"}\n",
    "s2={\"Incredible hulk\",\"Ironmen2\",\"Avengers Endgame\",\"ironmen1\",\"avengers\"}"
   ]
  },
  {
   "cell_type": "code",
   "execution_count": 259,
   "id": "8e5a9227-1eb0-4ddd-8faa-e88da10bf631",
   "metadata": {},
   "outputs": [
    {
     "data": {
      "text/plain": [
       "{'Hulk1', 'avengers', 'ironmen1'}"
      ]
     },
     "execution_count": 259,
     "metadata": {},
     "output_type": "execute_result"
    }
   ],
   "source": [
    "s1"
   ]
  },
  {
   "cell_type": "code",
   "execution_count": 260,
   "id": "d24bd1bb-b8db-4a2b-8681-8d5f4e078018",
   "metadata": {},
   "outputs": [
    {
     "data": {
      "text/plain": [
       "{'Avengers Endgame', 'Incredible hulk', 'Ironmen2', 'avengers', 'ironmen1'}"
      ]
     },
     "execution_count": 260,
     "metadata": {},
     "output_type": "execute_result"
    }
   ],
   "source": [
    "s2"
   ]
  },
  {
   "cell_type": "code",
   "execution_count": 261,
   "id": "9cbad267-3967-4965-81ea-184c1d462753",
   "metadata": {},
   "outputs": [
    {
     "data": {
      "text/plain": [
       "{'Hulk1', 'avengers', 'ironmen1'}"
      ]
     },
     "execution_count": 261,
     "metadata": {},
     "output_type": "execute_result"
    }
   ],
   "source": [
    "s1.difference()"
   ]
  },
  {
   "cell_type": "code",
   "execution_count": 262,
   "id": "9b192a5d-d47b-4152-903f-2d58805d5000",
   "metadata": {},
   "outputs": [
    {
     "data": {
      "text/plain": [
       "{'Hulk1', 'avengers', 'ironmen1'}"
      ]
     },
     "execution_count": 262,
     "metadata": {},
     "output_type": "execute_result"
    }
   ],
   "source": [
    "s1.difference()"
   ]
  },
  {
   "cell_type": "code",
   "execution_count": 263,
   "id": "254346d2-f23d-4ba1-9cb6-69603b4d576d",
   "metadata": {},
   "outputs": [],
   "source": [
    "s2.difference_update(s1)"
   ]
  },
  {
   "cell_type": "code",
   "execution_count": 264,
   "id": "4f382c84-60e8-4e9f-b145-92222157b5db",
   "metadata": {},
   "outputs": [
    {
     "data": {
      "text/plain": [
       "{'Avengers Endgame', 'Incredible hulk', 'Ironmen2'}"
      ]
     },
     "execution_count": 264,
     "metadata": {},
     "output_type": "execute_result"
    }
   ],
   "source": [
    "s1\n",
    "s2"
   ]
  },
  {
   "cell_type": "code",
   "execution_count": 265,
   "id": "7b59bde4-ce50-4d53-9240-b6c47a61ed86",
   "metadata": {},
   "outputs": [],
   "source": [
    "s1={\"Hulk1\", \"ironmen1\",\"avengers\"}"
   ]
  },
  {
   "cell_type": "code",
   "execution_count": 266,
   "id": "34dab02a-9425-46a5-af17-1c9180e490c8",
   "metadata": {},
   "outputs": [
    {
     "data": {
      "text/plain": [
       "{'Avengers Endgame', 'Incredible hulk', 'Ironmen2'}"
      ]
     },
     "execution_count": 266,
     "metadata": {},
     "output_type": "execute_result"
    }
   ],
   "source": [
    "s2"
   ]
  },
  {
   "cell_type": "code",
   "execution_count": 267,
   "id": "c186e6bb-f695-43fd-97f1-ac217770d847",
   "metadata": {},
   "outputs": [
    {
     "data": {
      "text/plain": [
       "{'Avengers Endgame', 'Incredible hulk', 'Ironmen2'}"
      ]
     },
     "execution_count": 267,
     "metadata": {},
     "output_type": "execute_result"
    }
   ],
   "source": [
    "s2"
   ]
  },
  {
   "cell_type": "code",
   "execution_count": 268,
   "id": "08be7034-91c8-40c6-b90b-b8dd98cf197b",
   "metadata": {},
   "outputs": [
    {
     "data": {
      "text/plain": [
       "{'Hulk1', 'avengers', 'ironmen1'}"
      ]
     },
     "execution_count": 268,
     "metadata": {},
     "output_type": "execute_result"
    }
   ],
   "source": [
    "s1"
   ]
  },
  {
   "cell_type": "code",
   "execution_count": 269,
   "id": "64275497-58d1-41f4-83df-b92c1f8f5a47",
   "metadata": {},
   "outputs": [
    {
     "name": "stdout",
     "output_type": "stream",
     "text": [
      "{'Avengers Endgame', 'Ironmen2', 'Incredible hulk'}\n"
     ]
    }
   ],
   "source": [
    "print(s2)"
   ]
  },
  {
   "cell_type": "code",
   "execution_count": 270,
   "id": "fd36e88b-1c9f-413d-83bc-f4828b150a9f",
   "metadata": {},
   "outputs": [
    {
     "name": "stdout",
     "output_type": "stream",
     "text": [
      "{'Hulk1', 'avengers', 'ironmen1'}\n"
     ]
    }
   ],
   "source": [
    "print(s1)"
   ]
  },
  {
   "cell_type": "code",
   "execution_count": 271,
   "id": "247a5f8f-1ecc-4ebe-ac3e-d26c3f122452",
   "metadata": {},
   "outputs": [
    {
     "data": {
      "text/plain": [
       "set()"
      ]
     },
     "execution_count": 271,
     "metadata": {},
     "output_type": "execute_result"
    }
   ],
   "source": [
    "s1.intersection(s2)"
   ]
  },
  {
   "cell_type": "code",
   "execution_count": 272,
   "id": "a87c0bd2-39ef-4a1a-928d-ce2579416b56",
   "metadata": {},
   "outputs": [],
   "source": [
    "s1.intersection_update(s2)"
   ]
  },
  {
   "cell_type": "code",
   "execution_count": 273,
   "id": "7d49fc35-dfcd-4071-9003-ca89cba1e2e7",
   "metadata": {},
   "outputs": [
    {
     "data": {
      "text/plain": [
       "set()"
      ]
     },
     "execution_count": 273,
     "metadata": {},
     "output_type": "execute_result"
    }
   ],
   "source": [
    "s1"
   ]
  },
  {
   "cell_type": "code",
   "execution_count": 274,
   "id": "b946cb95-5bc6-448f-9324-2079bcf6d93e",
   "metadata": {},
   "outputs": [
    {
     "data": {
      "text/plain": [
       "{'Avengers Endgame', 'Incredible hulk', 'Ironmen2'}"
      ]
     },
     "execution_count": 274,
     "metadata": {},
     "output_type": "execute_result"
    }
   ],
   "source": [
    "s2"
   ]
  },
  {
   "cell_type": "code",
   "execution_count": 275,
   "id": "11b412bf-c4a8-4763-991b-83f4d9816b06",
   "metadata": {},
   "outputs": [],
   "source": [
    "s2.intersection_update(s1)"
   ]
  },
  {
   "cell_type": "code",
   "execution_count": 276,
   "id": "a0a57a41-c80e-4f24-9079-a2af16247f5a",
   "metadata": {},
   "outputs": [
    {
     "data": {
      "text/plain": [
       "set()"
      ]
     },
     "execution_count": 276,
     "metadata": {},
     "output_type": "execute_result"
    }
   ],
   "source": [
    "s2"
   ]
  },
  {
   "cell_type": "code",
   "execution_count": 277,
   "id": "bbf68337-dbd9-471b-bd93-0a30ecf4e42a",
   "metadata": {},
   "outputs": [],
   "source": [
    "s1={\"Hulk1\", \"ironmen1\",\"avengers\"}\n",
    "s2={\"Incredible hulk\",\"Ironmen2\",\"Avengers Endgame\",\"ironmen1\",\"avengers\"}"
   ]
  },
  {
   "cell_type": "code",
   "execution_count": 278,
   "id": "99337b87-36a2-403e-8cf5-2a543f1d0dd7",
   "metadata": {},
   "outputs": [
    {
     "data": {
      "text/plain": [
       "{'Hulk1', 'avengers', 'ironmen1'}"
      ]
     },
     "execution_count": 278,
     "metadata": {},
     "output_type": "execute_result"
    }
   ],
   "source": [
    "s1"
   ]
  },
  {
   "cell_type": "code",
   "execution_count": 279,
   "id": "b824e473-3024-4c1e-9930-d5168cfd1b1f",
   "metadata": {},
   "outputs": [
    {
     "data": {
      "text/plain": [
       "{'Avengers Endgame', 'Incredible hulk', 'Ironmen2', 'avengers', 'ironmen1'}"
      ]
     },
     "execution_count": 279,
     "metadata": {},
     "output_type": "execute_result"
    }
   ],
   "source": [
    "s2"
   ]
  },
  {
   "cell_type": "code",
   "execution_count": 280,
   "id": "1d671213-c489-406c-9210-3ee7248be0d7",
   "metadata": {},
   "outputs": [
    {
     "data": {
      "text/plain": [
       "{'avengers', 'ironmen1'}"
      ]
     },
     "execution_count": 280,
     "metadata": {},
     "output_type": "execute_result"
    }
   ],
   "source": [
    "s1.intersection(s2)"
   ]
  },
  {
   "cell_type": "code",
   "execution_count": 281,
   "id": "3100d065-e9aa-49d0-9da7-8987e93b70fa",
   "metadata": {},
   "outputs": [
    {
     "data": {
      "text/plain": [
       "{'avengers', 'ironmen1'}"
      ]
     },
     "execution_count": 281,
     "metadata": {},
     "output_type": "execute_result"
    }
   ],
   "source": [
    "s2.intersection(s1)"
   ]
  },
  {
   "cell_type": "code",
   "execution_count": 282,
   "id": "def910ff-c523-4c3a-b756-f99972df34b9",
   "metadata": {},
   "outputs": [
    {
     "data": {
      "text/plain": [
       "{'Hulk1'}"
      ]
     },
     "execution_count": 282,
     "metadata": {},
     "output_type": "execute_result"
    }
   ],
   "source": [
    "s1.difference(s2)"
   ]
  },
  {
   "cell_type": "code",
   "execution_count": 283,
   "id": "bb6431c4-a99b-4303-ac9a-4a8f59071f9d",
   "metadata": {},
   "outputs": [
    {
     "data": {
      "text/plain": [
       "{'Avengers Endgame', 'Incredible hulk', 'Ironmen2'}"
      ]
     },
     "execution_count": 283,
     "metadata": {},
     "output_type": "execute_result"
    }
   ],
   "source": [
    "s2.difference(s1)"
   ]
  },
  {
   "cell_type": "code",
   "execution_count": 284,
   "id": "a709cc2f-11ec-4685-9343-a9760b179ac1",
   "metadata": {},
   "outputs": [],
   "source": [
    "s1.discard(\"ironmen1\")"
   ]
  },
  {
   "cell_type": "code",
   "execution_count": 285,
   "id": "85b7c1da-e1ed-4d14-b66c-1ffd73d12f7f",
   "metadata": {},
   "outputs": [
    {
     "data": {
      "text/plain": [
       "{'Hulk1', 'avengers'}"
      ]
     },
     "execution_count": 285,
     "metadata": {},
     "output_type": "execute_result"
    }
   ],
   "source": [
    "s1"
   ]
  },
  {
   "cell_type": "code",
   "execution_count": 286,
   "id": "fd6fbb9e-58c8-46cb-a85f-eb7c9b1bcd5e",
   "metadata": {},
   "outputs": [],
   "source": [
    "s1={\"Hulk1\", \"ironmen1\",\"avengers\"}\n",
    "s2={\"Incredible hulk\",\"Ironmen2\",\"Avengers Endgame\",\"ironmen1\",\"avengers\"}"
   ]
  },
  {
   "cell_type": "code",
   "execution_count": 287,
   "id": "1f467336-0669-4e5c-8a51-c0fa09aaa94e",
   "metadata": {},
   "outputs": [
    {
     "data": {
      "text/plain": [
       "{'Hulk1', 'avengers', 'ironmen1'}"
      ]
     },
     "execution_count": 287,
     "metadata": {},
     "output_type": "execute_result"
    }
   ],
   "source": [
    "s1"
   ]
  },
  {
   "cell_type": "code",
   "execution_count": 288,
   "id": "72a7bc7e-42de-4348-bcad-0c1669250835",
   "metadata": {},
   "outputs": [
    {
     "data": {
      "text/plain": [
       "{'Avengers Endgame', 'Incredible hulk', 'Ironmen2', 'avengers', 'ironmen1'}"
      ]
     },
     "execution_count": 288,
     "metadata": {},
     "output_type": "execute_result"
    }
   ],
   "source": [
    "s2"
   ]
  },
  {
   "cell_type": "code",
   "execution_count": 289,
   "id": "6f38c711-f1ee-457b-add9-118b894c3b69",
   "metadata": {},
   "outputs": [],
   "source": [
    "s1.discard(\"ironmen1\")"
   ]
  },
  {
   "cell_type": "code",
   "execution_count": 290,
   "id": "2bec6553-944d-44a3-95e0-a59777241cb3",
   "metadata": {},
   "outputs": [
    {
     "data": {
      "text/plain": [
       "{'Hulk1', 'avengers'}"
      ]
     },
     "execution_count": 290,
     "metadata": {},
     "output_type": "execute_result"
    }
   ],
   "source": [
    "s1"
   ]
  },
  {
   "cell_type": "code",
   "execution_count": 291,
   "id": "591ddcb4-b032-4be9-b428-d56fbfa4f152",
   "metadata": {},
   "outputs": [
    {
     "data": {
      "text/plain": [
       "False"
      ]
     },
     "execution_count": 291,
     "metadata": {},
     "output_type": "execute_result"
    }
   ],
   "source": [
    "s1.isdisjoint(s2)"
   ]
  },
  {
   "cell_type": "code",
   "execution_count": 292,
   "id": "417ba6ff-3fd2-439a-8e11-92a22ebe9664",
   "metadata": {},
   "outputs": [
    {
     "data": {
      "text/plain": [
       "False"
      ]
     },
     "execution_count": 292,
     "metadata": {},
     "output_type": "execute_result"
    }
   ],
   "source": [
    "s1.issubset(s2)"
   ]
  },
  {
   "cell_type": "code",
   "execution_count": 293,
   "id": "a7f24665-ecc1-4adf-8be6-df164e72d1e4",
   "metadata": {},
   "outputs": [],
   "source": [
    "s1.discard(\"Hulk1\")"
   ]
  },
  {
   "cell_type": "code",
   "execution_count": 294,
   "id": "6e778eb4-e6dd-4bd1-92d7-b3143080e99a",
   "metadata": {},
   "outputs": [
    {
     "data": {
      "text/plain": [
       "{'avengers'}"
      ]
     },
     "execution_count": 294,
     "metadata": {},
     "output_type": "execute_result"
    }
   ],
   "source": [
    "s1"
   ]
  },
  {
   "cell_type": "code",
   "execution_count": 295,
   "id": "7b8a4187-52b6-423f-b1bc-de54cf8c225b",
   "metadata": {},
   "outputs": [
    {
     "data": {
      "text/plain": [
       "False"
      ]
     },
     "execution_count": 295,
     "metadata": {},
     "output_type": "execute_result"
    }
   ],
   "source": [
    "s1.isdisjoint(s2)"
   ]
  },
  {
   "cell_type": "code",
   "execution_count": 296,
   "id": "510855c6-cd99-41fc-81d7-da4e87d0267c",
   "metadata": {},
   "outputs": [
    {
     "data": {
      "text/plain": [
       "True"
      ]
     },
     "execution_count": 296,
     "metadata": {},
     "output_type": "execute_result"
    }
   ],
   "source": [
    "s1.issubset(s2)"
   ]
  },
  {
   "cell_type": "code",
   "execution_count": 297,
   "id": "f2f791ce-ab10-452c-acf1-74e158d6d19f",
   "metadata": {},
   "outputs": [
    {
     "ename": "TypeError",
     "evalue": "set.pop() takes no arguments (1 given)",
     "output_type": "error",
     "traceback": [
      "\u001b[1;31m---------------------------------------------------------------------------\u001b[0m",
      "\u001b[1;31mTypeError\u001b[0m                                 Traceback (most recent call last)",
      "Input \u001b[1;32mIn [297]\u001b[0m, in \u001b[0;36m<cell line: 1>\u001b[1;34m()\u001b[0m\n\u001b[1;32m----> 1\u001b[0m \u001b[43ms1\u001b[49m\u001b[38;5;241;43m.\u001b[39;49m\u001b[43mpop\u001b[49m\u001b[43m(\u001b[49m\u001b[38;5;124;43m\"\u001b[39;49m\u001b[38;5;124;43mHulk1\u001b[39;49m\u001b[38;5;124;43m\"\u001b[39;49m\u001b[43m)\u001b[49m\n",
      "\u001b[1;31mTypeError\u001b[0m: set.pop() takes no arguments (1 given)"
     ]
    }
   ],
   "source": [
    "s1.pop(\"Hulk1\")"
   ]
  },
  {
   "cell_type": "code",
   "execution_count": 298,
   "id": "fc2e1fb0-bbc7-4119-ab2d-618bb294f8e2",
   "metadata": {},
   "outputs": [],
   "source": [
    "s1={\"Hulk1\", \"ironmen1\",\"avengers\"}\n",
    "s2={\"Incredible hulk\",\"Ironmen2\",\"Avengers Endgame\",\"ironmen1\",\"avengers\"}"
   ]
  },
  {
   "cell_type": "code",
   "execution_count": 299,
   "id": "34fa26dd-1a3a-4174-9a52-62f0629f1a36",
   "metadata": {},
   "outputs": [
    {
     "ename": "TypeError",
     "evalue": "set.pop() takes no arguments (1 given)",
     "output_type": "error",
     "traceback": [
      "\u001b[1;31m---------------------------------------------------------------------------\u001b[0m",
      "\u001b[1;31mTypeError\u001b[0m                                 Traceback (most recent call last)",
      "Input \u001b[1;32mIn [299]\u001b[0m, in \u001b[0;36m<cell line: 1>\u001b[1;34m()\u001b[0m\n\u001b[1;32m----> 1\u001b[0m \u001b[43ms1\u001b[49m\u001b[38;5;241;43m.\u001b[39;49m\u001b[43mpop\u001b[49m\u001b[43m(\u001b[49m\u001b[38;5;124;43m\"\u001b[39;49m\u001b[38;5;124;43mHulk1\u001b[39;49m\u001b[38;5;124;43m\"\u001b[39;49m\u001b[43m)\u001b[49m\n",
      "\u001b[1;31mTypeError\u001b[0m: set.pop() takes no arguments (1 given)"
     ]
    }
   ],
   "source": [
    "s1.pop(\"Hulk1\")"
   ]
  },
  {
   "cell_type": "code",
   "execution_count": 300,
   "id": "2d185895-0179-4440-bb81-d0a83b44b6c1",
   "metadata": {},
   "outputs": [
    {
     "ename": "TypeError",
     "evalue": "set.pop() takes no arguments (1 given)",
     "output_type": "error",
     "traceback": [
      "\u001b[1;31m---------------------------------------------------------------------------\u001b[0m",
      "\u001b[1;31mTypeError\u001b[0m                                 Traceback (most recent call last)",
      "Input \u001b[1;32mIn [300]\u001b[0m, in \u001b[0;36m<cell line: 1>\u001b[1;34m()\u001b[0m\n\u001b[1;32m----> 1\u001b[0m \u001b[43ms1\u001b[49m\u001b[38;5;241;43m.\u001b[39;49m\u001b[43mpop\u001b[49m\u001b[43m(\u001b[49m\u001b[38;5;241;43m0\u001b[39;49m\u001b[43m)\u001b[49m\n",
      "\u001b[1;31mTypeError\u001b[0m: set.pop() takes no arguments (1 given)"
     ]
    }
   ],
   "source": [
    "s1.pop(0)"
   ]
  },
  {
   "cell_type": "code",
   "execution_count": 301,
   "id": "03b537e1-c7c4-4f85-b505-b02654ef851c",
   "metadata": {},
   "outputs": [
    {
     "ename": "TypeError",
     "evalue": "set.pop() takes no arguments (1 given)",
     "output_type": "error",
     "traceback": [
      "\u001b[1;31m---------------------------------------------------------------------------\u001b[0m",
      "\u001b[1;31mTypeError\u001b[0m                                 Traceback (most recent call last)",
      "Input \u001b[1;32mIn [301]\u001b[0m, in \u001b[0;36m<cell line: 1>\u001b[1;34m()\u001b[0m\n\u001b[1;32m----> 1\u001b[0m \u001b[43ms1\u001b[49m\u001b[38;5;241;43m.\u001b[39;49m\u001b[43mpop\u001b[49m\u001b[43m(\u001b[49m\u001b[43ms2\u001b[49m\u001b[43m)\u001b[49m\n",
      "\u001b[1;31mTypeError\u001b[0m: set.pop() takes no arguments (1 given)"
     ]
    }
   ],
   "source": [
    "s1.pop(s2)"
   ]
  },
  {
   "cell_type": "code",
   "execution_count": 302,
   "id": "c64f172e-c770-48f0-a6b1-9ee9df9312e1",
   "metadata": {},
   "outputs": [
    {
     "data": {
      "text/plain": [
       "'Hulk1'"
      ]
     },
     "execution_count": 302,
     "metadata": {},
     "output_type": "execute_result"
    }
   ],
   "source": [
    "s1.pop()"
   ]
  },
  {
   "cell_type": "code",
   "execution_count": 303,
   "id": "f777a7a7-f914-4105-aa39-217297191e23",
   "metadata": {},
   "outputs": [
    {
     "data": {
      "text/plain": [
       "'avengers'"
      ]
     },
     "execution_count": 303,
     "metadata": {},
     "output_type": "execute_result"
    }
   ],
   "source": [
    "s1.pop()"
   ]
  },
  {
   "cell_type": "code",
   "execution_count": 304,
   "id": "69af4d75-5aa9-4afc-a7ef-39a10c8ec440",
   "metadata": {},
   "outputs": [
    {
     "ename": "AttributeError",
     "evalue": "'set' object has no attribute 'popo'",
     "output_type": "error",
     "traceback": [
      "\u001b[1;31m---------------------------------------------------------------------------\u001b[0m",
      "\u001b[1;31mAttributeError\u001b[0m                            Traceback (most recent call last)",
      "Input \u001b[1;32mIn [304]\u001b[0m, in \u001b[0;36m<cell line: 1>\u001b[1;34m()\u001b[0m\n\u001b[1;32m----> 1\u001b[0m \u001b[43ms1\u001b[49m\u001b[38;5;241;43m.\u001b[39;49m\u001b[43mpopo\u001b[49m\n",
      "\u001b[1;31mAttributeError\u001b[0m: 'set' object has no attribute 'popo'"
     ]
    }
   ],
   "source": [
    "s1.popo"
   ]
  },
  {
   "cell_type": "code",
   "execution_count": 305,
   "id": "fa26f455-8995-4f9a-b273-4aec9fb1354e",
   "metadata": {},
   "outputs": [],
   "source": [
    "s1={\"Hulk1\", \"ironmen1\",\"avengers\"}\n",
    "s2={\"Incredible hulk\",\"Ironmen2\",\"Avengers Endgame\",\"ironmen1\",\"avengers\"}"
   ]
  },
  {
   "cell_type": "code",
   "execution_count": 306,
   "id": "b5ff9c62-b600-4d02-a3ad-66230a5eb83a",
   "metadata": {},
   "outputs": [
    {
     "data": {
      "text/plain": [
       "'Hulk1'"
      ]
     },
     "execution_count": 306,
     "metadata": {},
     "output_type": "execute_result"
    }
   ],
   "source": [
    "s1.pop()"
   ]
  },
  {
   "cell_type": "code",
   "execution_count": 307,
   "id": "ae3b6ff6-5cc0-4741-bdf4-09c2e2ec18fc",
   "metadata": {},
   "outputs": [
    {
     "data": {
      "text/plain": [
       "{'avengers', 'ironmen1'}"
      ]
     },
     "execution_count": 307,
     "metadata": {},
     "output_type": "execute_result"
    }
   ],
   "source": [
    "s1\n"
   ]
  },
  {
   "cell_type": "code",
   "execution_count": 308,
   "id": "90b6923a-f995-49de-8d20-b7297eabe945",
   "metadata": {},
   "outputs": [
    {
     "data": {
      "text/plain": [
       "False"
      ]
     },
     "execution_count": 308,
     "metadata": {},
     "output_type": "execute_result"
    }
   ],
   "source": [
    "s1.issuperset(s2)"
   ]
  },
  {
   "cell_type": "code",
   "execution_count": 309,
   "id": "1d4a9072-1067-49e6-8666-e52d59c2361e",
   "metadata": {},
   "outputs": [
    {
     "ename": "AttributeError",
     "evalue": "'set' object has no attribute 'insuperset'",
     "output_type": "error",
     "traceback": [
      "\u001b[1;31m---------------------------------------------------------------------------\u001b[0m",
      "\u001b[1;31mAttributeError\u001b[0m                            Traceback (most recent call last)",
      "Input \u001b[1;32mIn [309]\u001b[0m, in \u001b[0;36m<cell line: 1>\u001b[1;34m()\u001b[0m\n\u001b[1;32m----> 1\u001b[0m \u001b[43ms2\u001b[49m\u001b[38;5;241;43m.\u001b[39;49m\u001b[43minsuperset\u001b[49m(s1)\n",
      "\u001b[1;31mAttributeError\u001b[0m: 'set' object has no attribute 'insuperset'"
     ]
    }
   ],
   "source": [
    "s2.insuperset(s1)"
   ]
  },
  {
   "cell_type": "code",
   "execution_count": 310,
   "id": "584a9229-0c05-486d-a9d7-1885240b457a",
   "metadata": {},
   "outputs": [
    {
     "data": {
      "text/plain": [
       "True"
      ]
     },
     "execution_count": 310,
     "metadata": {},
     "output_type": "execute_result"
    }
   ],
   "source": [
    "s2.issuperset(s1)"
   ]
  },
  {
   "cell_type": "code",
   "execution_count": 311,
   "id": "74f77d31-e5ae-4d11-8994-599cf7946d60",
   "metadata": {},
   "outputs": [],
   "source": [
    "s1.discard(\"Hulk1\")"
   ]
  },
  {
   "cell_type": "code",
   "execution_count": 312,
   "id": "8a377dda-fabb-4456-bd70-df567fb20697",
   "metadata": {},
   "outputs": [
    {
     "ename": "NameError",
     "evalue": "name 's11' is not defined",
     "output_type": "error",
     "traceback": [
      "\u001b[1;31m---------------------------------------------------------------------------\u001b[0m",
      "\u001b[1;31mNameError\u001b[0m                                 Traceback (most recent call last)",
      "Input \u001b[1;32mIn [312]\u001b[0m, in \u001b[0;36m<cell line: 1>\u001b[1;34m()\u001b[0m\n\u001b[1;32m----> 1\u001b[0m \u001b[43ms11\u001b[49m\n",
      "\u001b[1;31mNameError\u001b[0m: name 's11' is not defined"
     ]
    }
   ],
   "source": [
    "s11"
   ]
  },
  {
   "cell_type": "code",
   "execution_count": 313,
   "id": "343a0a78-60af-4902-ad5e-85b3e4546179",
   "metadata": {},
   "outputs": [
    {
     "data": {
      "text/plain": [
       "{'avengers', 'ironmen1'}"
      ]
     },
     "execution_count": 313,
     "metadata": {},
     "output_type": "execute_result"
    }
   ],
   "source": [
    "s1"
   ]
  },
  {
   "cell_type": "code",
   "execution_count": 314,
   "id": "5e0b4ac1-d404-4a75-b09d-bef00bdf9bf6",
   "metadata": {},
   "outputs": [
    {
     "data": {
      "text/plain": [
       "True"
      ]
     },
     "execution_count": 314,
     "metadata": {},
     "output_type": "execute_result"
    }
   ],
   "source": [
    "s2.issuperset(s1)"
   ]
  },
  {
   "cell_type": "code",
   "execution_count": 315,
   "id": "8ab66fc6-cbb9-4513-a885-f8b0c2b97b14",
   "metadata": {},
   "outputs": [],
   "source": [
    "s1.remove(\"avengers\")"
   ]
  },
  {
   "cell_type": "code",
   "execution_count": 316,
   "id": "53a91999-20ad-41ea-963a-3bc408602c31",
   "metadata": {},
   "outputs": [
    {
     "data": {
      "text/plain": [
       "{'ironmen1'}"
      ]
     },
     "execution_count": 316,
     "metadata": {},
     "output_type": "execute_result"
    }
   ],
   "source": [
    "s1"
   ]
  },
  {
   "cell_type": "code",
   "execution_count": 317,
   "id": "ff666930-ed21-4aea-9774-3109747357c7",
   "metadata": {},
   "outputs": [],
   "source": [
    "s1={\"Hulk1\", \"ironmen1\",\"avengers\"}\n",
    "s2={\"Incredible hulk\",\"Ironmen2\",\"Avengers Endgame\",\"ironmen1\",\"avengers\"}"
   ]
  },
  {
   "cell_type": "code",
   "execution_count": 318,
   "id": "b3bf16a8-2aa8-406d-9762-03c387389cd2",
   "metadata": {},
   "outputs": [
    {
     "data": {
      "text/plain": [
       "{'Avengers Endgame', 'Hulk1', 'Incredible hulk', 'Ironmen2'}"
      ]
     },
     "execution_count": 318,
     "metadata": {},
     "output_type": "execute_result"
    }
   ],
   "source": [
    "s1.symmetric_difference(s2)"
   ]
  },
  {
   "cell_type": "code",
   "execution_count": 319,
   "id": "d0c1612b-9ed9-49e0-8149-3b1b79a42b69",
   "metadata": {},
   "outputs": [],
   "source": [
    "s1.symmetric_difference_update(s2)"
   ]
  },
  {
   "cell_type": "code",
   "execution_count": 320,
   "id": "3e0b5e6a-a4de-4eff-a46b-550f4396a1ad",
   "metadata": {},
   "outputs": [
    {
     "data": {
      "text/plain": [
       "{'Avengers Endgame', 'Hulk1', 'Incredible hulk', 'Ironmen2'}"
      ]
     },
     "execution_count": 320,
     "metadata": {},
     "output_type": "execute_result"
    }
   ],
   "source": [
    "s1\n"
   ]
  },
  {
   "cell_type": "code",
   "execution_count": 321,
   "id": "034a06a7-03d3-4785-9efe-a70c2645f304",
   "metadata": {},
   "outputs": [
    {
     "data": {
      "text/plain": [
       "{'Avengers Endgame', 'Hulk1', 'Incredible hulk', 'Ironmen2'}"
      ]
     },
     "execution_count": 321,
     "metadata": {},
     "output_type": "execute_result"
    }
   ],
   "source": [
    "s1"
   ]
  },
  {
   "cell_type": "code",
   "execution_count": 322,
   "id": "efef8e68-4708-47bd-b593-a432f0642804",
   "metadata": {},
   "outputs": [
    {
     "data": {
      "text/plain": [
       "{'Avengers Endgame',\n",
       " 'Hulk1',\n",
       " 'Incredible hulk',\n",
       " 'Ironmen2',\n",
       " 'avengers',\n",
       " 'ironmen1'}"
      ]
     },
     "execution_count": 322,
     "metadata": {},
     "output_type": "execute_result"
    }
   ],
   "source": [
    "s1.union(s2)"
   ]
  },
  {
   "cell_type": "code",
   "execution_count": 323,
   "id": "455834be-7e2d-4bbc-818c-d7f0e86fd21f",
   "metadata": {},
   "outputs": [],
   "source": [
    "s1.update()"
   ]
  },
  {
   "cell_type": "code",
   "execution_count": 324,
   "id": "602f4715-ada7-4456-b770-ac5c3865fa60",
   "metadata": {},
   "outputs": [
    {
     "data": {
      "text/plain": [
       "{'Avengers Endgame', 'Hulk1', 'Incredible hulk', 'Ironmen2'}"
      ]
     },
     "execution_count": 324,
     "metadata": {},
     "output_type": "execute_result"
    }
   ],
   "source": [
    "s1"
   ]
  },
  {
   "cell_type": "code",
   "execution_count": 325,
   "id": "e96023af-69fa-4626-83a7-76c08580782e",
   "metadata": {},
   "outputs": [],
   "source": [
    "s1.update(s2)"
   ]
  },
  {
   "cell_type": "code",
   "execution_count": 326,
   "id": "e1a72bdf-1b35-4730-bc2c-88489d22d607",
   "metadata": {},
   "outputs": [
    {
     "data": {
      "text/plain": [
       "{'Avengers Endgame',\n",
       " 'Hulk1',\n",
       " 'Incredible hulk',\n",
       " 'Ironmen2',\n",
       " 'avengers',\n",
       " 'ironmen1'}"
      ]
     },
     "execution_count": 326,
     "metadata": {},
     "output_type": "execute_result"
    }
   ],
   "source": [
    "s1"
   ]
  },
  {
   "cell_type": "code",
   "execution_count": 327,
   "id": "33cb6959-5965-48b4-bf50-a2740b9a178e",
   "metadata": {},
   "outputs": [],
   "source": [
    "s1={\"Hulk\",\"Ironmen\",\"Captain America\",\"hawkeye\",\"Thor\"}\n",
    "s2={\"Thanos\",\"wanda\",\"Ironmen\",\"Hulk\"}"
   ]
  },
  {
   "cell_type": "markdown",
   "id": "9fe9ed4e-48de-481d-9085-5ab90146998e",
   "metadata": {
    "tags": []
   },
   "source": [
    "# "
   ]
  },
  {
   "cell_type": "code",
   "execution_count": 328,
   "id": "22a02a8d-1b9d-4621-b140-fac3802542c6",
   "metadata": {},
   "outputs": [
    {
     "data": {
      "text/plain": [
       "{'Captain America', 'Hulk', 'Ironmen', 'Thor', 'hawkeye'}"
      ]
     },
     "execution_count": 328,
     "metadata": {},
     "output_type": "execute_result"
    }
   ],
   "source": [
    "s1"
   ]
  },
  {
   "cell_type": "code",
   "execution_count": 329,
   "id": "b0d748f1-d1e1-4400-a824-6e11960a44c0",
   "metadata": {},
   "outputs": [
    {
     "data": {
      "text/plain": [
       "{'Hulk', 'Ironmen', 'Thanos', 'wanda'}"
      ]
     },
     "execution_count": 329,
     "metadata": {},
     "output_type": "execute_result"
    }
   ],
   "source": [
    "s2"
   ]
  },
  {
   "cell_type": "code",
   "execution_count": 330,
   "id": "658a57ca-5901-4338-9455-f7cebef239ae",
   "metadata": {},
   "outputs": [
    {
     "data": {
      "text/plain": [
       "{'Captain America', 'Thor', 'hawkeye'}"
      ]
     },
     "execution_count": 330,
     "metadata": {},
     "output_type": "execute_result"
    }
   ],
   "source": [
    "s1.difference(s2)"
   ]
  },
  {
   "cell_type": "code",
   "execution_count": 331,
   "id": "171bbc12-2592-430f-aae3-ff91eee42710",
   "metadata": {},
   "outputs": [],
   "source": [
    "s1.add(\"Odin\")"
   ]
  },
  {
   "cell_type": "code",
   "execution_count": 332,
   "id": "8f271036-35f8-4d5c-a160-65e783cb27cb",
   "metadata": {},
   "outputs": [
    {
     "data": {
      "text/plain": [
       "{'Captain America', 'Hulk', 'Ironmen', 'Odin', 'Thor', 'hawkeye'}"
      ]
     },
     "execution_count": 332,
     "metadata": {},
     "output_type": "execute_result"
    }
   ],
   "source": [
    "s1"
   ]
  },
  {
   "cell_type": "code",
   "execution_count": 333,
   "id": "62aeb8b1-0182-4657-b3c0-32858d3fe661",
   "metadata": {},
   "outputs": [],
   "source": [
    "S1=[\"Hulk\",\"Ironmen\",\"Captain America\",\"hawkeye\",\"Thor\"]"
   ]
  },
  {
   "cell_type": "code",
   "execution_count": 334,
   "id": "e04b1703-e51d-404a-a539-53d2e7b40b16",
   "metadata": {},
   "outputs": [
    {
     "data": {
      "text/plain": [
       "{'Captain America', 'Hulk', 'Ironmen', 'Odin', 'Thor', 'hawkeye'}"
      ]
     },
     "execution_count": 334,
     "metadata": {},
     "output_type": "execute_result"
    }
   ],
   "source": [
    "s1"
   ]
  },
  {
   "cell_type": "code",
   "execution_count": 335,
   "id": "228a5992-3a8b-4de2-8f34-10c35875771b",
   "metadata": {},
   "outputs": [
    {
     "data": {
      "text/plain": [
       "set"
      ]
     },
     "execution_count": 335,
     "metadata": {},
     "output_type": "execute_result"
    }
   ],
   "source": [
    "type(s1)"
   ]
  },
  {
   "cell_type": "code",
   "execution_count": 336,
   "id": "df8d1620-3eeb-4bc9-a8a0-a52725760c7a",
   "metadata": {},
   "outputs": [],
   "source": [
    "s1={\"Hulk\",\"Ironmen\",\"Captain America\",\"hawkeye\",\"Thor\"}\n",
    "s2={\"Thanos\",\"wanda\",\"Ironmen\",\"Hulk\"}"
   ]
  },
  {
   "cell_type": "code",
   "execution_count": 337,
   "id": "aec885f7-1c2e-4400-9724-128ca42e5cb2",
   "metadata": {},
   "outputs": [
    {
     "data": {
      "text/plain": [
       "set"
      ]
     },
     "execution_count": 337,
     "metadata": {},
     "output_type": "execute_result"
    }
   ],
   "source": [
    "type(s1)"
   ]
  },
  {
   "cell_type": "code",
   "execution_count": 338,
   "id": "19b66305-0d87-4492-b560-cf40b0d25677",
   "metadata": {},
   "outputs": [
    {
     "data": {
      "text/plain": [
       "set"
      ]
     },
     "execution_count": 338,
     "metadata": {},
     "output_type": "execute_result"
    }
   ],
   "source": [
    "type(s2)"
   ]
  },
  {
   "cell_type": "code",
   "execution_count": 339,
   "id": "7167ff8a-34d8-4e8d-8e44-c22ef7d913a7",
   "metadata": {},
   "outputs": [
    {
     "data": {
      "text/plain": [
       "list"
      ]
     },
     "execution_count": 339,
     "metadata": {},
     "output_type": "execute_result"
    }
   ],
   "source": [
    "type(S1)"
   ]
  },
  {
   "cell_type": "code",
   "execution_count": 340,
   "id": "2635eaa4-a2d2-4b96-b5c4-fbb39b942c15",
   "metadata": {},
   "outputs": [
    {
     "ename": "TypeError",
     "evalue": "unhashable type: 'list'",
     "output_type": "error",
     "traceback": [
      "\u001b[1;31m---------------------------------------------------------------------------\u001b[0m",
      "\u001b[1;31mTypeError\u001b[0m                                 Traceback (most recent call last)",
      "Input \u001b[1;32mIn [340]\u001b[0m, in \u001b[0;36m<cell line: 1>\u001b[1;34m()\u001b[0m\n\u001b[1;32m----> 1\u001b[0m \u001b[43ms1\u001b[49m\u001b[38;5;241;43m.\u001b[39;49m\u001b[43madd\u001b[49m\u001b[43m(\u001b[49m\u001b[43mS1\u001b[49m\u001b[43m)\u001b[49m\n",
      "\u001b[1;31mTypeError\u001b[0m: unhashable type: 'list'"
     ]
    }
   ],
   "source": [
    "s1.add(S1)"
   ]
  },
  {
   "cell_type": "code",
   "execution_count": 341,
   "id": "6b121fb9-9dc0-43cf-b441-af233392924e",
   "metadata": {},
   "outputs": [
    {
     "data": {
      "text/plain": [
       "{'Thanos', 'wanda'}"
      ]
     },
     "execution_count": 341,
     "metadata": {},
     "output_type": "execute_result"
    }
   ],
   "source": [
    "s2.difference(S1)"
   ]
  },
  {
   "cell_type": "code",
   "execution_count": 342,
   "id": "4d4958f1-6c1c-4e8e-b68a-b3af48341dbc",
   "metadata": {},
   "outputs": [
    {
     "data": {
      "text/plain": [
       "{'Captain America', 'Hulk', 'Ironmen', 'Thor', 'hawkeye'}"
      ]
     },
     "execution_count": 342,
     "metadata": {},
     "output_type": "execute_result"
    }
   ],
   "source": [
    "s1"
   ]
  },
  {
   "cell_type": "code",
   "execution_count": 343,
   "id": "2ab34cf1-3a6d-4b9a-a6cc-b5473f38a9a7",
   "metadata": {},
   "outputs": [
    {
     "ename": "TypeError",
     "evalue": "unhashable type: 'set'",
     "output_type": "error",
     "traceback": [
      "\u001b[1;31m---------------------------------------------------------------------------\u001b[0m",
      "\u001b[1;31mTypeError\u001b[0m                                 Traceback (most recent call last)",
      "Input \u001b[1;32mIn [343]\u001b[0m, in \u001b[0;36m<cell line: 1>\u001b[1;34m()\u001b[0m\n\u001b[1;32m----> 1\u001b[0m \u001b[43ms1\u001b[49m\u001b[38;5;241;43m.\u001b[39;49m\u001b[43madd\u001b[49m\u001b[43m(\u001b[49m\u001b[43ms2\u001b[49m\u001b[43m)\u001b[49m\n",
      "\u001b[1;31mTypeError\u001b[0m: unhashable type: 'set'"
     ]
    }
   ],
   "source": [
    "s1.add(s2)"
   ]
  },
  {
   "cell_type": "code",
   "execution_count": 344,
   "id": "cb4e8feb-ef04-4e05-a1b0-ce64da29ac41",
   "metadata": {},
   "outputs": [],
   "source": [
    "s1.add(\"Doctor strange\")"
   ]
  },
  {
   "cell_type": "code",
   "execution_count": 345,
   "id": "e550e7e2-09e9-4fce-8bdc-5a6b42abca85",
   "metadata": {},
   "outputs": [
    {
     "data": {
      "text/plain": [
       "{'Captain America', 'Doctor strange', 'Hulk', 'Ironmen', 'Thor', 'hawkeye'}"
      ]
     },
     "execution_count": 345,
     "metadata": {},
     "output_type": "execute_result"
    }
   ],
   "source": [
    "s1"
   ]
  },
  {
   "cell_type": "code",
   "execution_count": 346,
   "id": "063a22fa-70aa-4be4-9f7f-ff8119336453",
   "metadata": {},
   "outputs": [],
   "source": [
    "s1.discard(\"Hulk\")"
   ]
  },
  {
   "cell_type": "code",
   "execution_count": 347,
   "id": "9b538aa4-9970-467a-b261-c9387cf74909",
   "metadata": {},
   "outputs": [
    {
     "data": {
      "text/plain": [
       "{'Captain America', 'Doctor strange', 'Ironmen', 'Thor', 'hawkeye'}"
      ]
     },
     "execution_count": 347,
     "metadata": {},
     "output_type": "execute_result"
    }
   ],
   "source": [
    "s1"
   ]
  },
  {
   "cell_type": "code",
   "execution_count": 348,
   "id": "79926757-e099-42ec-8f80-828857f24e65",
   "metadata": {},
   "outputs": [
    {
     "data": {
      "text/plain": [
       "False"
      ]
     },
     "execution_count": 348,
     "metadata": {},
     "output_type": "execute_result"
    }
   ],
   "source": [
    "s1.isdisjoint(s2)"
   ]
  },
  {
   "cell_type": "code",
   "execution_count": 349,
   "id": "dda5a381-6ab5-499b-a9bc-4f6ccd231b41",
   "metadata": {},
   "outputs": [
    {
     "data": {
      "text/plain": [
       "False"
      ]
     },
     "execution_count": 349,
     "metadata": {},
     "output_type": "execute_result"
    }
   ],
   "source": [
    "s1.issubset(s2)"
   ]
  },
  {
   "cell_type": "code",
   "execution_count": 350,
   "id": "ce7581e1-9910-4c4b-91bc-49e0285780e4",
   "metadata": {},
   "outputs": [
    {
     "data": {
      "text/plain": [
       "False"
      ]
     },
     "execution_count": 350,
     "metadata": {},
     "output_type": "execute_result"
    }
   ],
   "source": [
    "s1.issuperset(s2)"
   ]
  },
  {
   "cell_type": "code",
   "execution_count": 351,
   "id": "9d23544f-5f22-4706-8846-c538997458c2",
   "metadata": {},
   "outputs": [],
   "source": [
    "s1.remove(\"Doctor strange\")"
   ]
  },
  {
   "cell_type": "code",
   "execution_count": 352,
   "id": "d4397222-0cca-4967-8999-b64ed6cc63b5",
   "metadata": {},
   "outputs": [
    {
     "data": {
      "text/plain": [
       "{'Captain America', 'Ironmen', 'Thor', 'hawkeye'}"
      ]
     },
     "execution_count": 352,
     "metadata": {},
     "output_type": "execute_result"
    }
   ],
   "source": [
    "s1"
   ]
  },
  {
   "cell_type": "code",
   "execution_count": 353,
   "id": "d278f32f-8b0a-45eb-a47a-4dc1c50ae55d",
   "metadata": {},
   "outputs": [
    {
     "data": {
      "text/plain": [
       "{'Captain America', 'Hulk', 'Thanos', 'Thor', 'hawkeye', 'wanda'}"
      ]
     },
     "execution_count": 353,
     "metadata": {},
     "output_type": "execute_result"
    }
   ],
   "source": [
    "s1.symmetric_difference(s2)"
   ]
  },
  {
   "cell_type": "code",
   "execution_count": 354,
   "id": "883b97e1-bfa1-411f-b64b-6306a76ff877",
   "metadata": {},
   "outputs": [
    {
     "data": {
      "text/plain": [
       "{'Captain America', 'Ironmen', 'Thor', 'hawkeye'}"
      ]
     },
     "execution_count": 354,
     "metadata": {},
     "output_type": "execute_result"
    }
   ],
   "source": [
    "s1"
   ]
  },
  {
   "cell_type": "code",
   "execution_count": 355,
   "id": "1bf858e0-5f54-49c7-b922-cdc118b85fbc",
   "metadata": {},
   "outputs": [
    {
     "data": {
      "text/plain": [
       "{'Hulk', 'Ironmen', 'Thanos', 'wanda'}"
      ]
     },
     "execution_count": 355,
     "metadata": {},
     "output_type": "execute_result"
    }
   ],
   "source": [
    "s2"
   ]
  },
  {
   "cell_type": "code",
   "execution_count": 356,
   "id": "3efa17c5-2dcd-4937-bdab-5da074f7cad3",
   "metadata": {},
   "outputs": [],
   "source": [
    "s3=s1.union(s2)"
   ]
  },
  {
   "cell_type": "code",
   "execution_count": 357,
   "id": "0e4f9e4d-ed83-46fb-9ef0-f01637bb9cc3",
   "metadata": {},
   "outputs": [
    {
     "data": {
      "text/plain": [
       "{'Captain America', 'Hulk', 'Ironmen', 'Thanos', 'Thor', 'hawkeye', 'wanda'}"
      ]
     },
     "execution_count": 357,
     "metadata": {},
     "output_type": "execute_result"
    }
   ],
   "source": [
    "s3"
   ]
  },
  {
   "cell_type": "code",
   "execution_count": 358,
   "id": "479ad9e3-6d70-4571-b1f8-618e1ca47a1f",
   "metadata": {},
   "outputs": [
    {
     "ename": "TypeError",
     "evalue": "set.pop() takes no arguments (1 given)",
     "output_type": "error",
     "traceback": [
      "\u001b[1;31m---------------------------------------------------------------------------\u001b[0m",
      "\u001b[1;31mTypeError\u001b[0m                                 Traceback (most recent call last)",
      "Input \u001b[1;32mIn [358]\u001b[0m, in \u001b[0;36m<cell line: 1>\u001b[1;34m()\u001b[0m\n\u001b[1;32m----> 1\u001b[0m s4\u001b[38;5;241m=\u001b[39m\u001b[43ms1\u001b[49m\u001b[38;5;241;43m.\u001b[39;49m\u001b[43mpop\u001b[49m\u001b[43m(\u001b[49m\u001b[38;5;124;43m\"\u001b[39;49m\u001b[38;5;124;43mIronmen\u001b[39;49m\u001b[38;5;124;43m\"\u001b[39;49m\u001b[43m)\u001b[49m\n",
      "\u001b[1;31mTypeError\u001b[0m: set.pop() takes no arguments (1 given)"
     ]
    }
   ],
   "source": [
    "s4=s1.pop(\"Ironmen\")"
   ]
  },
  {
   "cell_type": "code",
   "execution_count": 359,
   "id": "7ef89437-1d9d-47a9-8aab-0e9e776e36a6",
   "metadata": {},
   "outputs": [
    {
     "ename": "NameError",
     "evalue": "name 's4' is not defined",
     "output_type": "error",
     "traceback": [
      "\u001b[1;31m---------------------------------------------------------------------------\u001b[0m",
      "\u001b[1;31mNameError\u001b[0m                                 Traceback (most recent call last)",
      "Input \u001b[1;32mIn [359]\u001b[0m, in \u001b[0;36m<cell line: 1>\u001b[1;34m()\u001b[0m\n\u001b[1;32m----> 1\u001b[0m \u001b[43ms4\u001b[49m\n",
      "\u001b[1;31mNameError\u001b[0m: name 's4' is not defined"
     ]
    }
   ],
   "source": [
    "s4"
   ]
  },
  {
   "cell_type": "code",
   "execution_count": 360,
   "id": "9102e6b0-4091-4405-aa49-aca44bab8b8c",
   "metadata": {},
   "outputs": [
    {
     "ename": "TypeError",
     "evalue": "list.count() takes exactly one argument (0 given)",
     "output_type": "error",
     "traceback": [
      "\u001b[1;31m---------------------------------------------------------------------------\u001b[0m",
      "\u001b[1;31mTypeError\u001b[0m                                 Traceback (most recent call last)",
      "Input \u001b[1;32mIn [360]\u001b[0m, in \u001b[0;36m<cell line: 1>\u001b[1;34m()\u001b[0m\n\u001b[1;32m----> 1\u001b[0m \u001b[43mS1\u001b[49m\u001b[38;5;241;43m.\u001b[39;49m\u001b[43mcount\u001b[49m\u001b[43m(\u001b[49m\u001b[43m)\u001b[49m\n",
      "\u001b[1;31mTypeError\u001b[0m: list.count() takes exactly one argument (0 given)"
     ]
    }
   ],
   "source": [
    "S1.count()"
   ]
  },
  {
   "cell_type": "code",
   "execution_count": 361,
   "id": "24bd25ba-5465-466f-aea8-69705bd81e31",
   "metadata": {},
   "outputs": [
    {
     "data": {
      "text/plain": [
       "1"
      ]
     },
     "execution_count": 361,
     "metadata": {},
     "output_type": "execute_result"
    }
   ],
   "source": [
    "S1.count(\"Ironmen\")"
   ]
  },
  {
   "cell_type": "code",
   "execution_count": 362,
   "id": "5d742665-79c3-4295-bb05-36148952cc41",
   "metadata": {},
   "outputs": [],
   "source": [
    "d1={\"Name1\":\"Harshal\",\"Name2\":\"Gajera\",\"Name3\":\"Hareshbhai\"}"
   ]
  },
  {
   "cell_type": "code",
   "execution_count": 363,
   "id": "9671184f-5b19-449b-a883-fc2dab67f3f2",
   "metadata": {},
   "outputs": [
    {
     "data": {
      "text/plain": [
       "{'Name1': 'Harshal', 'Name2': 'Gajera', 'Name3': 'Hareshbhai'}"
      ]
     },
     "execution_count": 363,
     "metadata": {},
     "output_type": "execute_result"
    }
   ],
   "source": [
    "d1"
   ]
  },
  {
   "cell_type": "code",
   "execution_count": 364,
   "id": "940d2919-7493-4cca-9995-8d2892777f05",
   "metadata": {},
   "outputs": [
    {
     "data": {
      "text/plain": [
       "dict"
      ]
     },
     "execution_count": 364,
     "metadata": {},
     "output_type": "execute_result"
    }
   ],
   "source": [
    "type(d1)"
   ]
  },
  {
   "cell_type": "code",
   "execution_count": 365,
   "id": "0c211be6-6f22-4cb1-93d5-ebacef621a00",
   "metadata": {},
   "outputs": [
    {
     "data": {
      "text/plain": [
       "dict_keys(['Name1', 'Name2', 'Name3'])"
      ]
     },
     "execution_count": 365,
     "metadata": {},
     "output_type": "execute_result"
    }
   ],
   "source": [
    "d1.keys()"
   ]
  },
  {
   "cell_type": "code",
   "execution_count": 366,
   "id": "f2b44a65-aa13-4d92-be5a-5eeab2dd82d0",
   "metadata": {},
   "outputs": [
    {
     "ename": "NameError",
     "evalue": "name 'EMAN' is not defined",
     "output_type": "error",
     "traceback": [
      "\u001b[1;31m---------------------------------------------------------------------------\u001b[0m",
      "\u001b[1;31mNameError\u001b[0m                                 Traceback (most recent call last)",
      "Input \u001b[1;32mIn [366]\u001b[0m, in \u001b[0;36m<cell line: 1>\u001b[1;34m()\u001b[0m\n\u001b[1;32m----> 1\u001b[0m d1\u001b[38;5;241m.\u001b[39mfromkeys(\u001b[43mEMAN\u001b[49m)\n",
      "\u001b[1;31mNameError\u001b[0m: name 'EMAN' is not defined"
     ]
    }
   ],
   "source": [
    "d1.fromkeys(EMAN)"
   ]
  },
  {
   "cell_type": "code",
   "execution_count": 367,
   "id": "339b2ab2-71fc-4388-8180-70beb2f21e77",
   "metadata": {},
   "outputs": [
    {
     "ename": "TypeError",
     "evalue": "fromkeys expected at least 1 argument, got 0",
     "output_type": "error",
     "traceback": [
      "\u001b[1;31m---------------------------------------------------------------------------\u001b[0m",
      "\u001b[1;31mTypeError\u001b[0m                                 Traceback (most recent call last)",
      "Input \u001b[1;32mIn [367]\u001b[0m, in \u001b[0;36m<cell line: 1>\u001b[1;34m()\u001b[0m\n\u001b[1;32m----> 1\u001b[0m \u001b[43md1\u001b[49m\u001b[38;5;241;43m.\u001b[39;49m\u001b[43mfromkeys\u001b[49m\u001b[43m(\u001b[49m\u001b[43m)\u001b[49m\n",
      "\u001b[1;31mTypeError\u001b[0m: fromkeys expected at least 1 argument, got 0"
     ]
    }
   ],
   "source": [
    "d1.fromkeys()"
   ]
  },
  {
   "cell_type": "code",
   "execution_count": null,
   "id": "1af416b9-d5e8-415f-8605-dec7ccfc7eb6",
   "metadata": {},
   "outputs": [],
   "source": []
  },
  {
   "cell_type": "code",
   "execution_count": 368,
   "id": "936140cc-928d-49e6-9b81-b53ba097271b",
   "metadata": {},
   "outputs": [
    {
     "data": {
      "text/plain": [
       "dict"
      ]
     },
     "execution_count": 368,
     "metadata": {},
     "output_type": "execute_result"
    }
   ],
   "source": [
    "dict"
   ]
  },
  {
   "cell_type": "code",
   "execution_count": 369,
   "id": "d18a17c6-6c63-4f81-905a-dbab65c85e3b",
   "metadata": {},
   "outputs": [
    {
     "data": {
      "text/plain": [
       "{'Name1': 'Harshal', 'Name2': 'Gajera', 'Name3': 'Hareshbhai'}"
      ]
     },
     "execution_count": 369,
     "metadata": {},
     "output_type": "execute_result"
    }
   ],
   "source": [
    "d1"
   ]
  },
  {
   "cell_type": "code",
   "execution_count": 370,
   "id": "a348c37d-f083-4f51-8824-23f8e18df455",
   "metadata": {},
   "outputs": [],
   "source": [
    "d1={\"Name1\":\"Harshal\",\"Name2\":\"Gajera\",\"Name3\":\"Hareshbhai\"}"
   ]
  },
  {
   "cell_type": "code",
   "execution_count": 371,
   "id": "153e0170-a39b-4425-a505-9b590deeece9",
   "metadata": {},
   "outputs": [
    {
     "data": {
      "text/plain": [
       "dict"
      ]
     },
     "execution_count": 371,
     "metadata": {},
     "output_type": "execute_result"
    }
   ],
   "source": [
    "type(d1)"
   ]
  },
  {
   "cell_type": "code",
   "execution_count": 372,
   "id": "f9d27a62-a53c-4387-8424-8d4eacb0b811",
   "metadata": {},
   "outputs": [
    {
     "data": {
      "text/plain": [
       "dict"
      ]
     },
     "execution_count": 372,
     "metadata": {},
     "output_type": "execute_result"
    }
   ],
   "source": [
    "type(d1)"
   ]
  },
  {
   "cell_type": "code",
   "execution_count": 373,
   "id": "6be186c8-7c0e-4b89-8cd8-114be9f4ec13",
   "metadata": {},
   "outputs": [
    {
     "data": {
      "text/plain": [
       "dict_items([('Name1', 'Harshal'), ('Name2', 'Gajera'), ('Name3', 'Hareshbhai')])"
      ]
     },
     "execution_count": 373,
     "metadata": {},
     "output_type": "execute_result"
    }
   ],
   "source": [
    "d1.items()"
   ]
  },
  {
   "cell_type": "code",
   "execution_count": 374,
   "id": "08559925-4e73-41bd-8e6e-a62c47f5f884",
   "metadata": {},
   "outputs": [
    {
     "data": {
      "text/plain": [
       "dict_keys(['Name1', 'Name2', 'Name3'])"
      ]
     },
     "execution_count": 374,
     "metadata": {},
     "output_type": "execute_result"
    }
   ],
   "source": [
    "d1.keys()"
   ]
  },
  {
   "cell_type": "code",
   "execution_count": 375,
   "id": "3fd7e97d-5b33-4183-a0d8-caee06b36af2",
   "metadata": {},
   "outputs": [
    {
     "data": {
      "text/plain": [
       "'Harshal'"
      ]
     },
     "execution_count": 375,
     "metadata": {},
     "output_type": "execute_result"
    }
   ],
   "source": [
    "d1.get(\"Name1\")"
   ]
  },
  {
   "cell_type": "code",
   "execution_count": 376,
   "id": "17e5dea1-bd3b-4d10-9e1b-5cbe4c59dcb6",
   "metadata": {},
   "outputs": [
    {
     "data": {
      "text/plain": [
       "dict_items([('Name1', 'Harshal'), ('Name2', 'Gajera'), ('Name3', 'Hareshbhai')])"
      ]
     },
     "execution_count": 376,
     "metadata": {},
     "output_type": "execute_result"
    }
   ],
   "source": [
    "d1.items()"
   ]
  },
  {
   "cell_type": "code",
   "execution_count": 377,
   "id": "d54da6f2-6094-44b7-b1cc-4389c715dd83",
   "metadata": {},
   "outputs": [
    {
     "data": {
      "text/plain": [
       "'Gajera'"
      ]
     },
     "execution_count": 377,
     "metadata": {},
     "output_type": "execute_result"
    }
   ],
   "source": [
    "d1.setdefault(\"Name2\")"
   ]
  },
  {
   "cell_type": "code",
   "execution_count": 378,
   "id": "0134212b-a2e3-4ac6-b041-878c9a10cfa7",
   "metadata": {},
   "outputs": [
    {
     "ename": "TypeError",
     "evalue": "setdefault expected at least 1 argument, got 0",
     "output_type": "error",
     "traceback": [
      "\u001b[1;31m---------------------------------------------------------------------------\u001b[0m",
      "\u001b[1;31mTypeError\u001b[0m                                 Traceback (most recent call last)",
      "Input \u001b[1;32mIn [378]\u001b[0m, in \u001b[0;36m<cell line: 1>\u001b[1;34m()\u001b[0m\n\u001b[1;32m----> 1\u001b[0m \u001b[43md1\u001b[49m\u001b[38;5;241;43m.\u001b[39;49m\u001b[43msetdefault\u001b[49m\u001b[43m(\u001b[49m\u001b[43m)\u001b[49m\n",
      "\u001b[1;31mTypeError\u001b[0m: setdefault expected at least 1 argument, got 0"
     ]
    }
   ],
   "source": [
    "d1.setdefault()"
   ]
  },
  {
   "cell_type": "code",
   "execution_count": 379,
   "id": "5a77568e-1cfc-4aa6-8731-f95658d829f2",
   "metadata": {},
   "outputs": [],
   "source": [
    "d1.update()"
   ]
  },
  {
   "cell_type": "code",
   "execution_count": 380,
   "id": "8afd2ac8-9a2b-4880-99f3-ea9122549e0e",
   "metadata": {},
   "outputs": [
    {
     "data": {
      "text/plain": [
       "{'Name1': 'Harshal', 'Name2': 'Gajera', 'Name3': 'Hareshbhai'}"
      ]
     },
     "execution_count": 380,
     "metadata": {},
     "output_type": "execute_result"
    }
   ],
   "source": [
    "d1"
   ]
  },
  {
   "cell_type": "code",
   "execution_count": 381,
   "id": "ac8bc18d-8b66-4400-9930-842d9acacbd5",
   "metadata": {},
   "outputs": [],
   "source": [
    "d1[\"Name4\"]=\"Jinal\""
   ]
  },
  {
   "cell_type": "code",
   "execution_count": 382,
   "id": "936bdd0d-b90c-450e-896f-9ff16d31b19e",
   "metadata": {},
   "outputs": [
    {
     "data": {
      "text/plain": [
       "{'Name1': 'Harshal',\n",
       " 'Name2': 'Gajera',\n",
       " 'Name3': 'Hareshbhai',\n",
       " 'Name4': 'Jinal'}"
      ]
     },
     "execution_count": 382,
     "metadata": {},
     "output_type": "execute_result"
    }
   ],
   "source": [
    "d1"
   ]
  },
  {
   "cell_type": "code",
   "execution_count": 383,
   "id": "0b3b2d0f-aac2-450a-b7ff-093fcf2ea5f8",
   "metadata": {},
   "outputs": [],
   "source": [
    "d1[\"Name1\"]=\"Hulk\""
   ]
  },
  {
   "cell_type": "code",
   "execution_count": 384,
   "id": "d1e64986-1ae6-4722-8fd8-1b80695334be",
   "metadata": {},
   "outputs": [
    {
     "data": {
      "text/plain": [
       "{'Name1': 'Hulk', 'Name2': 'Gajera', 'Name3': 'Hareshbhai', 'Name4': 'Jinal'}"
      ]
     },
     "execution_count": 384,
     "metadata": {},
     "output_type": "execute_result"
    }
   ],
   "source": [
    "d1"
   ]
  },
  {
   "cell_type": "code",
   "execution_count": 385,
   "id": "151b80ea-65d0-4185-939a-3dc19edd062a",
   "metadata": {},
   "outputs": [],
   "source": [
    "d1={\"Avenger1\":\"captain America\"}\n",
    "d2={\"Avenger2\":\"Ironmen\"}\n",
    "d3={\"Avenger3\":\"Hulk\"}\n",
    "d4={\"Avenger4\":\"MS marvel\"}"
   ]
  },
  {
   "cell_type": "code",
   "execution_count": 386,
   "id": "33e6fcf8-9172-4d93-9f49-44ec6b61dee4",
   "metadata": {},
   "outputs": [
    {
     "data": {
      "text/plain": [
       "{'Avenger1': 'captain America'}"
      ]
     },
     "execution_count": 386,
     "metadata": {},
     "output_type": "execute_result"
    }
   ],
   "source": [
    "d1"
   ]
  },
  {
   "cell_type": "code",
   "execution_count": 387,
   "id": "0911dda7-01df-44c5-8b0e-4195b1732f93",
   "metadata": {},
   "outputs": [
    {
     "data": {
      "text/plain": [
       "{'Avenger1': 'captain America'}"
      ]
     },
     "execution_count": 387,
     "metadata": {},
     "output_type": "execute_result"
    }
   ],
   "source": [
    "d1"
   ]
  },
  {
   "cell_type": "code",
   "execution_count": 388,
   "id": "2efc17a1-e2b3-4f80-a66e-6c2389cb4bb1",
   "metadata": {},
   "outputs": [
    {
     "data": {
      "text/plain": [
       "40"
      ]
     },
     "execution_count": 388,
     "metadata": {},
     "output_type": "execute_result"
    }
   ],
   "source": [
    "d"
   ]
  },
  {
   "cell_type": "code",
   "execution_count": 389,
   "id": "031e2c3c-2834-431b-ab6c-f4505a82c55a",
   "metadata": {},
   "outputs": [
    {
     "ename": "SyntaxError",
     "evalue": "unexpected EOF while parsing (2092501499.py, line 1)",
     "output_type": "error",
     "traceback": [
      "\u001b[1;36m  Input \u001b[1;32mIn [389]\u001b[1;36m\u001b[0m\n\u001b[1;33m    @d2\u001b[0m\n\u001b[1;37m       ^\u001b[0m\n\u001b[1;31mSyntaxError\u001b[0m\u001b[1;31m:\u001b[0m unexpected EOF while parsing\n"
     ]
    }
   ],
   "source": [
    "@d2"
   ]
  },
  {
   "cell_type": "code",
   "execution_count": 390,
   "id": "f01a29d9-903e-48b9-8381-57c4c6aeaaaf",
   "metadata": {},
   "outputs": [
    {
     "data": {
      "text/plain": [
       "{'Avenger2': 'Ironmen'}"
      ]
     },
     "execution_count": 390,
     "metadata": {},
     "output_type": "execute_result"
    }
   ],
   "source": [
    "d2"
   ]
  },
  {
   "cell_type": "code",
   "execution_count": 391,
   "id": "4c8d3ff0-d9da-4982-848b-716a9c042e52",
   "metadata": {},
   "outputs": [],
   "source": [
    "dict_avengers={\"Movie1\":d1,\"Movie2\":d2,\"Movie3\":d3,\"Movie4\":d4}"
   ]
  },
  {
   "cell_type": "code",
   "execution_count": 392,
   "id": "fe54c4af-d318-46bc-b94f-1bf82589212e",
   "metadata": {},
   "outputs": [
    {
     "data": {
      "text/plain": [
       "{'Movie1': {'Avenger1': 'captain America'},\n",
       " 'Movie2': {'Avenger2': 'Ironmen'},\n",
       " 'Movie3': {'Avenger3': 'Hulk'},\n",
       " 'Movie4': {'Avenger4': 'MS marvel'}}"
      ]
     },
     "execution_count": 392,
     "metadata": {},
     "output_type": "execute_result"
    }
   ],
   "source": [
    "dict_avengers"
   ]
  },
  {
   "cell_type": "code",
   "execution_count": 393,
   "id": "ad73210c-6a9b-499e-9089-221788d190d6",
   "metadata": {},
   "outputs": [
    {
     "name": "stdout",
     "output_type": "stream",
     "text": [
      "{'Movie1': {'Avenger1': 'captain America'}, 'Movie2': {'Avenger2': 'Ironmen'}, 'Movie3': {'Avenger3': 'Hulk'}, 'Movie4': {'Avenger4': 'MS marvel'}}\n"
     ]
    }
   ],
   "source": [
    "print(dict_avengers)"
   ]
  },
  {
   "cell_type": "code",
   "execution_count": 394,
   "id": "498a5d0d-44c4-43d1-b187-634cd930dbde",
   "metadata": {},
   "outputs": [
    {
     "data": {
      "text/plain": [
       "{'Avenger1': 'captain America'}"
      ]
     },
     "execution_count": 394,
     "metadata": {},
     "output_type": "execute_result"
    }
   ],
   "source": [
    "dict_avengers[\"Movie1\"]"
   ]
  },
  {
   "cell_type": "code",
   "execution_count": 395,
   "id": "0bf97790-6b15-4117-b423-0003e32732eb",
   "metadata": {},
   "outputs": [
    {
     "ename": "SyntaxError",
     "evalue": "invalid syntax (1577912957.py, line 1)",
     "output_type": "error",
     "traceback": [
      "\u001b[1;36m  Input \u001b[1;32mIn [395]\u001b[1;36m\u001b[0m\n\u001b[1;33m    dict_avengers[]\u001b[0m\n\u001b[1;37m                  ^\u001b[0m\n\u001b[1;31mSyntaxError\u001b[0m\u001b[1;31m:\u001b[0m invalid syntax\n"
     ]
    }
   ],
   "source": [
    "dict_avengers[]"
   ]
  },
  {
   "cell_type": "code",
   "execution_count": 396,
   "id": "96ea8d8b-85ad-45da-945a-8616a6fa2f47",
   "metadata": {},
   "outputs": [
    {
     "data": {
      "text/plain": [
       "{'Avenger1': 'captain America'}"
      ]
     },
     "execution_count": 396,
     "metadata": {},
     "output_type": "execute_result"
    }
   ],
   "source": [
    "dict_avengers[\"Movie1\"]"
   ]
  },
  {
   "cell_type": "code",
   "execution_count": 397,
   "id": "2c1429c6-2261-4493-a175-f43efed2f5dc",
   "metadata": {},
   "outputs": [
    {
     "ename": "NameError",
     "evalue": "name 'D1' is not defined",
     "output_type": "error",
     "traceback": [
      "\u001b[1;31m---------------------------------------------------------------------------\u001b[0m",
      "\u001b[1;31mNameError\u001b[0m                                 Traceback (most recent call last)",
      "Input \u001b[1;32mIn [397]\u001b[0m, in \u001b[0;36m<cell line: 1>\u001b[1;34m()\u001b[0m\n\u001b[1;32m----> 1\u001b[0m \u001b[43mD1\u001b[49m[\u001b[38;5;124m\"\u001b[39m\u001b[38;5;124mf1\u001b[39m\u001b[38;5;124m\"\u001b[39m]\u001b[38;5;241m=\u001b[39m\u001b[38;5;124m\"\u001b[39m\u001b[38;5;124mj\u001b[39m\u001b[38;5;124m\"\u001b[39m\n\u001b[0;32m      2\u001b[0m D1[\u001b[38;5;124m\"\u001b[39m\u001b[38;5;124mf2\u001b[39m\u001b[38;5;124m\"\u001b[39m]\u001b[38;5;241m=\u001b[39m\u001b[38;5;124m\"\u001b[39m\u001b[38;5;124ml\u001b[39m\u001b[38;5;124m\"\u001b[39m\n",
      "\u001b[1;31mNameError\u001b[0m: name 'D1' is not defined"
     ]
    }
   ],
   "source": [
    "D1[\"f1\"]=\"j\"\n",
    "D1[\"f2\"]=\"l\""
   ]
  },
  {
   "cell_type": "code",
   "execution_count": 398,
   "id": "f754ee62-51c6-4783-b409-10a6600c1b24",
   "metadata": {},
   "outputs": [
    {
     "ename": "NameError",
     "evalue": "name 'my_tuple' is not defined",
     "output_type": "error",
     "traceback": [
      "\u001b[1;31m---------------------------------------------------------------------------\u001b[0m",
      "\u001b[1;31mNameError\u001b[0m                                 Traceback (most recent call last)",
      "Input \u001b[1;32mIn [398]\u001b[0m, in \u001b[0;36m<cell line: 1>\u001b[1;34m()\u001b[0m\n\u001b[1;32m----> 1\u001b[0m \u001b[38;5;28mtuple\u001b[39m(\u001b[43mmy_tuple\u001b[49m)\n",
      "\u001b[1;31mNameError\u001b[0m: name 'my_tuple' is not defined"
     ]
    }
   ],
   "source": [
    " tuple(my_tuple)"
   ]
  },
  {
   "cell_type": "code",
   "execution_count": 399,
   "id": "235e6596-2db2-440b-806d-eb13e9ab316e",
   "metadata": {},
   "outputs": [],
   "source": [
    "Movie=(\"Hulk\",\"Ironman\",\"Captain America\")"
   ]
  },
  {
   "cell_type": "code",
   "execution_count": 400,
   "id": "0a2dbb72-a2c1-4eaf-b690-04906ac9b6d6",
   "metadata": {},
   "outputs": [
    {
     "data": {
      "text/plain": [
       "('Hulk', 'Ironman', 'Captain America')"
      ]
     },
     "execution_count": 400,
     "metadata": {},
     "output_type": "execute_result"
    }
   ],
   "source": [
    "Movie"
   ]
  },
  {
   "cell_type": "code",
   "execution_count": 401,
   "id": "0d62f85f-cdca-4780-a6f7-a1afbd884593",
   "metadata": {},
   "outputs": [
    {
     "data": {
      "text/plain": [
       "tuple"
      ]
     },
     "execution_count": 401,
     "metadata": {},
     "output_type": "execute_result"
    }
   ],
   "source": [
    "type(Movie)"
   ]
  },
  {
   "cell_type": "code",
   "execution_count": 402,
   "id": "a620818d-101c-48cc-8075-3d8777d57f76",
   "metadata": {},
   "outputs": [],
   "source": [
    "L1=[\"Hulk\",\"Ironman\",\"Captain America\",\"Ironman\",\"Hulk\",\"Ironman\",\"Captain America\"]"
   ]
  },
  {
   "cell_type": "code",
   "execution_count": 403,
   "id": "dac5c66d-2b0d-4aa2-b6fe-688bb1fda3af",
   "metadata": {},
   "outputs": [
    {
     "data": {
      "text/plain": [
       "list"
      ]
     },
     "execution_count": 403,
     "metadata": {},
     "output_type": "execute_result"
    }
   ],
   "source": [
    "type(L1)"
   ]
  },
  {
   "cell_type": "code",
   "execution_count": 404,
   "id": "659c5a40-7d97-4815-b1ac-5a38239a6f3b",
   "metadata": {},
   "outputs": [
    {
     "data": {
      "text/plain": [
       "'Hulk'"
      ]
     },
     "execution_count": 404,
     "metadata": {},
     "output_type": "execute_result"
    }
   ],
   "source": [
    "L1[0]"
   ]
  },
  {
   "cell_type": "code",
   "execution_count": 405,
   "id": "296fb29d-118c-41d4-a89c-94560754accc",
   "metadata": {},
   "outputs": [
    {
     "data": {
      "text/plain": [
       "'Hulk'"
      ]
     },
     "execution_count": 405,
     "metadata": {},
     "output_type": "execute_result"
    }
   ],
   "source": [
    "Movie[0]"
   ]
  },
  {
   "cell_type": "code",
   "execution_count": 406,
   "id": "3ff10a67-eab1-424a-9d71-f704f8176b83",
   "metadata": {},
   "outputs": [
    {
     "data": {
      "text/plain": [
       "'Captain America'"
      ]
     },
     "execution_count": 406,
     "metadata": {},
     "output_type": "execute_result"
    }
   ],
   "source": [
    "Movie[2]"
   ]
  },
  {
   "cell_type": "code",
   "execution_count": 407,
   "id": "84978e18-c7e5-443d-a36c-7554ca633e02",
   "metadata": {},
   "outputs": [
    {
     "data": {
      "text/plain": [
       "1"
      ]
     },
     "execution_count": 407,
     "metadata": {},
     "output_type": "execute_result"
    }
   ],
   "source": [
    "Movie.count(\"Hulk\")"
   ]
  },
  {
   "cell_type": "code",
   "execution_count": 408,
   "id": "5ca7abf2-822f-4735-8227-6e4229166a97",
   "metadata": {},
   "outputs": [
    {
     "ename": "SyntaxError",
     "evalue": "invalid syntax (3830776346.py, line 1)",
     "output_type": "error",
     "traceback": [
      "\u001b[1;36m  Input \u001b[1;32mIn [408]\u001b[1;36m\u001b[0m\n\u001b[1;33m    Movie.index(\"Ironman\",,5)\u001b[0m\n\u001b[1;37m                          ^\u001b[0m\n\u001b[1;31mSyntaxError\u001b[0m\u001b[1;31m:\u001b[0m invalid syntax\n"
     ]
    }
   ],
   "source": [
    "Movie.index(\"Ironman\",,5)"
   ]
  },
  {
   "cell_type": "code",
   "execution_count": 409,
   "id": "b1b26cf7-e13d-49f6-a6ba-5a8c632dfaac",
   "metadata": {},
   "outputs": [],
   "source": [
    "movie=(\"Hulk\",\"Captain America\",\"Ironman\",\"Hulk\",\"Ironman\",\"Captain America\")"
   ]
  },
  {
   "cell_type": "code",
   "execution_count": 410,
   "id": "3fed86ab-5a11-4ebc-9662-ecb63f189385",
   "metadata": {},
   "outputs": [
    {
     "data": {
      "text/plain": [
       "tuple"
      ]
     },
     "execution_count": 410,
     "metadata": {},
     "output_type": "execute_result"
    }
   ],
   "source": [
    "type(movie)"
   ]
  },
  {
   "cell_type": "code",
   "execution_count": 411,
   "id": "8bdc616d-10db-439f-96be-97b938504e51",
   "metadata": {},
   "outputs": [
    {
     "data": {
      "text/plain": [
       "4"
      ]
     },
     "execution_count": 411,
     "metadata": {},
     "output_type": "execute_result"
    }
   ],
   "source": [
    "movie.index(\"Ironman\",3,5)"
   ]
  },
  {
   "cell_type": "code",
   "execution_count": 412,
   "id": "831a418b-67ea-4866-bb43-f0b0c86e7fc1",
   "metadata": {},
   "outputs": [
    {
     "data": {
      "text/plain": [
       "2"
      ]
     },
     "execution_count": 412,
     "metadata": {},
     "output_type": "execute_result"
    }
   ],
   "source": [
    "movie.count(\"Ironman\")"
   ]
  },
  {
   "cell_type": "code",
   "execution_count": 413,
   "id": "fdeb04a3-9c89-410b-b883-1004a1d96f78",
   "metadata": {},
   "outputs": [],
   "source": [
    "import numpy as np"
   ]
  },
  {
   "cell_type": "code",
   "execution_count": 414,
   "id": "f6ca1cda-9275-474e-ac4a-fdde460b8154",
   "metadata": {},
   "outputs": [],
   "source": [
    "my_list=[1,2,3,4,5]"
   ]
  },
  {
   "cell_type": "code",
   "execution_count": 415,
   "id": "889344cf-9854-4436-a01d-3a685c7ffff6",
   "metadata": {},
   "outputs": [],
   "source": [
    "arr=np.array(my_list)"
   ]
  },
  {
   "cell_type": "code",
   "execution_count": 416,
   "id": "8789d104-795f-400e-9b2f-ecbfca40dd7d",
   "metadata": {},
   "outputs": [
    {
     "data": {
      "text/plain": [
       "array([1, 2, 3, 4, 5])"
      ]
     },
     "execution_count": 416,
     "metadata": {},
     "output_type": "execute_result"
    }
   ],
   "source": [
    "arr"
   ]
  },
  {
   "cell_type": "code",
   "execution_count": 417,
   "id": "2640d924-3c3b-40c4-9c4c-ead98fe81abd",
   "metadata": {},
   "outputs": [
    {
     "data": {
      "text/plain": [
       "numpy.ndarray"
      ]
     },
     "execution_count": 417,
     "metadata": {},
     "output_type": "execute_result"
    }
   ],
   "source": [
    "type(arr)"
   ]
  },
  {
   "cell_type": "code",
   "execution_count": 418,
   "id": "3e43acc0-9bdd-4e0c-a7cf-1b2ab4e3456d",
   "metadata": {},
   "outputs": [
    {
     "ename": "TypeError",
     "evalue": "array() missing required argument 'object' (pos 0)",
     "output_type": "error",
     "traceback": [
      "\u001b[1;31m---------------------------------------------------------------------------\u001b[0m",
      "\u001b[1;31mTypeError\u001b[0m                                 Traceback (most recent call last)",
      "Input \u001b[1;32mIn [418]\u001b[0m, in \u001b[0;36m<cell line: 1>\u001b[1;34m()\u001b[0m\n\u001b[1;32m----> 1\u001b[0m \u001b[43mnp\u001b[49m\u001b[38;5;241;43m.\u001b[39;49m\u001b[43marray\u001b[49m\u001b[43m(\u001b[49m\u001b[43m)\u001b[49m\n",
      "\u001b[1;31mTypeError\u001b[0m: array() missing required argument 'object' (pos 0)"
     ]
    }
   ],
   "source": [
    "np.array()"
   ]
  },
  {
   "cell_type": "code",
   "execution_count": 419,
   "id": "9f285ed1-617f-4eeb-8208-80c543a5e04b",
   "metadata": {},
   "outputs": [],
   "source": [
    "list=[\"hrshal\",\"Gajera\"]"
   ]
  },
  {
   "cell_type": "code",
   "execution_count": 420,
   "id": "22689610-4f52-4a27-bb21-3eae2fe94f3e",
   "metadata": {},
   "outputs": [
    {
     "data": {
      "text/plain": [
       "list"
      ]
     },
     "execution_count": 420,
     "metadata": {},
     "output_type": "execute_result"
    }
   ],
   "source": [
    "type(list)"
   ]
  },
  {
   "cell_type": "code",
   "execution_count": 421,
   "id": "39aab005-8e21-4cc3-b312-fae547bb5a0b",
   "metadata": {},
   "outputs": [],
   "source": [
    "a=np.array(list)"
   ]
  },
  {
   "cell_type": "code",
   "execution_count": 422,
   "id": "a09eef6a-54e8-40b2-8d0d-812b3c0652d4",
   "metadata": {},
   "outputs": [
    {
     "data": {
      "text/plain": [
       "numpy.ndarray"
      ]
     },
     "execution_count": 422,
     "metadata": {},
     "output_type": "execute_result"
    }
   ],
   "source": [
    "type(a)"
   ]
  },
  {
   "cell_type": "code",
   "execution_count": 423,
   "id": "ffe7f0c8-1626-4a06-9ef9-f0abfc06c6c2",
   "metadata": {},
   "outputs": [
    {
     "ename": "AttributeError",
     "evalue": "'numpy.ndarray' object has no attribute 'array'",
     "output_type": "error",
     "traceback": [
      "\u001b[1;31m---------------------------------------------------------------------------\u001b[0m",
      "\u001b[1;31mAttributeError\u001b[0m                            Traceback (most recent call last)",
      "Input \u001b[1;32mIn [423]\u001b[0m, in \u001b[0;36m<cell line: 1>\u001b[1;34m()\u001b[0m\n\u001b[1;32m----> 1\u001b[0m a\u001b[38;5;241m=\u001b[39m\u001b[43marr\u001b[49m\u001b[38;5;241;43m.\u001b[39;49m\u001b[43marray\u001b[49m(\u001b[38;5;124m\"\u001b[39m\u001b[38;5;124mf\u001b[39m\u001b[38;5;124m\"\u001b[39m, [\u001b[38;5;241m1.2\u001b[39m,\u001b[38;5;241m1.4\u001b[39m,\u001b[38;5;241m2.34\u001b[39m])\n",
      "\u001b[1;31mAttributeError\u001b[0m: 'numpy.ndarray' object has no attribute 'array'"
     ]
    }
   ],
   "source": [
    "a=arr.array(\"f\", [1.2,1.4,2.34])"
   ]
  },
  {
   "cell_type": "code",
   "execution_count": 424,
   "id": "5e97f3a2-3e43-49c7-8578-0f38fd3db2c6",
   "metadata": {},
   "outputs": [],
   "source": [
    "import array as arr"
   ]
  },
  {
   "cell_type": "code",
   "execution_count": 425,
   "id": "d06c567b-8f8f-43a3-9a7a-76c31e79fbaa",
   "metadata": {},
   "outputs": [],
   "source": [
    "a=arr.array(\"f\", [1.2,1.4,2.34])"
   ]
  },
  {
   "cell_type": "code",
   "execution_count": 426,
   "id": "0ab5485d-980c-4b55-abc3-ad5cc97baa9e",
   "metadata": {},
   "outputs": [
    {
     "data": {
      "text/plain": [
       "array('f', [1.2000000476837158, 1.399999976158142, 2.3399999141693115])"
      ]
     },
     "execution_count": 426,
     "metadata": {},
     "output_type": "execute_result"
    }
   ],
   "source": [
    "a"
   ]
  },
  {
   "cell_type": "code",
   "execution_count": 427,
   "id": "ce458cef-f2ef-4c58-9948-cd6c42388035",
   "metadata": {},
   "outputs": [],
   "source": [
    "a={\"Hulk\",\"Ironman\",\"Captain america\",\"Doctor strange\"}"
   ]
  },
  {
   "cell_type": "code",
   "execution_count": 428,
   "id": "f41e60fe-cb66-4257-97a9-01d3af5d8fd2",
   "metadata": {},
   "outputs": [
    {
     "name": "stdout",
     "output_type": "stream",
     "text": [
      "Type your name:\n"
     ]
    }
   ],
   "source": [
    "name= input(\"Type your name:\")"
   ]
  },
  {
   "cell_type": "code",
   "execution_count": 429,
   "id": "f9ca7eab-e2d4-4184-b973-5eb66dae2746",
   "metadata": {},
   "outputs": [
    {
     "ename": "SyntaxError",
     "evalue": "invalid syntax (902411365.py, line 1)",
     "output_type": "error",
     "traceback": [
      "\u001b[1;36m  Input \u001b[1;32mIn [429]\u001b[1;36m\u001b[0m\n\u001b[1;33m    roll no.= input(\"No only:\")\u001b[0m\n\u001b[1;37m         ^\u001b[0m\n\u001b[1;31mSyntaxError\u001b[0m\u001b[1;31m:\u001b[0m invalid syntax\n"
     ]
    }
   ],
   "source": [
    "roll no.= input(\"No only:\")"
   ]
  },
  {
   "cell_type": "code",
   "execution_count": 430,
   "id": "3d984525-dcc3-41f6-9f35-1a58a6bad4cd",
   "metadata": {},
   "outputs": [
    {
     "name": "stdout",
     "output_type": "stream",
     "text": [
      "Write done your name:\n"
     ]
    },
    {
     "ename": "ValueError",
     "evalue": "invalid literal for int() with base 10: ''",
     "output_type": "error",
     "traceback": [
      "\u001b[1;31m---------------------------------------------------------------------------\u001b[0m",
      "\u001b[1;31mValueError\u001b[0m                                Traceback (most recent call last)",
      "Input \u001b[1;32mIn [430]\u001b[0m, in \u001b[0;36m<cell line: 1>\u001b[1;34m()\u001b[0m\n\u001b[1;32m----> 1\u001b[0m a\u001b[38;5;241m=\u001b[39m \u001b[38;5;28;43mint\u001b[39;49m\u001b[43m(\u001b[49m\u001b[38;5;28;43minput\u001b[39;49m\u001b[43m(\u001b[49m\u001b[38;5;124;43m\"\u001b[39;49m\u001b[38;5;124;43mWrite done your name:\u001b[39;49m\u001b[38;5;124;43m\"\u001b[39;49m\u001b[43m)\u001b[49m\u001b[43m)\u001b[49m\n",
      "\u001b[1;31mValueError\u001b[0m: invalid literal for int() with base 10: ''"
     ]
    }
   ],
   "source": [
    "a= int(input(\"Write done your name:\"))"
   ]
  },
  {
   "cell_type": "code",
   "execution_count": 431,
   "id": "58e199e0-9839-4ee9-bde7-1a53fd9f4b96",
   "metadata": {},
   "outputs": [
    {
     "name": "stdout",
     "output_type": "stream",
     "text": [
      "Enter no1.\n"
     ]
    },
    {
     "ename": "ValueError",
     "evalue": "invalid literal for int() with base 10: ''",
     "output_type": "error",
     "traceback": [
      "\u001b[1;31m---------------------------------------------------------------------------\u001b[0m",
      "\u001b[1;31mValueError\u001b[0m                                Traceback (most recent call last)",
      "Input \u001b[1;32mIn [431]\u001b[0m, in \u001b[0;36m<cell line: 1>\u001b[1;34m()\u001b[0m\n\u001b[1;32m----> 1\u001b[0m num1 \u001b[38;5;241m=\u001b[39m \u001b[38;5;28;43mint\u001b[39;49m\u001b[43m(\u001b[49m\u001b[38;5;28;43minput\u001b[39;49m\u001b[43m(\u001b[49m\u001b[38;5;124;43m\"\u001b[39;49m\u001b[38;5;124;43mEnter no1.\u001b[39;49m\u001b[38;5;124;43m\"\u001b[39;49m\u001b[43m)\u001b[49m\u001b[43m)\u001b[49m\n\u001b[0;32m      2\u001b[0m num2 \u001b[38;5;241m=\u001b[39m \u001b[38;5;28mint\u001b[39m(\u001b[38;5;28minput\u001b[39m(\u001b[38;5;124m\"\u001b[39m\u001b[38;5;124mEnter no2.\u001b[39m\u001b[38;5;124m\"\u001b[39m))\n\u001b[0;32m      3\u001b[0m num3 \u001b[38;5;241m=\u001b[39m num1 \u001b[38;5;241m*\u001b[39m num2\n",
      "\u001b[1;31mValueError\u001b[0m: invalid literal for int() with base 10: ''"
     ]
    }
   ],
   "source": [
    "num1 = int(input(\"Enter no1.\"))\n",
    "num2 = int(input(\"Enter no2.\"))\n",
    "num3 = num1 * num2"
   ]
  },
  {
   "cell_type": "code",
   "execution_count": 432,
   "id": "e3f7c030-6454-4952-9bb6-bffebf05fe48",
   "metadata": {},
   "outputs": [
    {
     "ename": "NameError",
     "evalue": "name 'num3' is not defined",
     "output_type": "error",
     "traceback": [
      "\u001b[1;31m---------------------------------------------------------------------------\u001b[0m",
      "\u001b[1;31mNameError\u001b[0m                                 Traceback (most recent call last)",
      "Input \u001b[1;32mIn [432]\u001b[0m, in \u001b[0;36m<cell line: 1>\u001b[1;34m()\u001b[0m\n\u001b[1;32m----> 1\u001b[0m \u001b[43mnum3\u001b[49m\n",
      "\u001b[1;31mNameError\u001b[0m: name 'num3' is not defined"
     ]
    }
   ],
   "source": [
    "num3"
   ]
  },
  {
   "cell_type": "code",
   "execution_count": 433,
   "id": "1fd98844-c708-42ce-95f2-34334defedb8",
   "metadata": {},
   "outputs": [
    {
     "name": "stdout",
     "output_type": "stream",
     "text": [
      "Enter the value of number:\n"
     ]
    },
    {
     "ename": "ValueError",
     "evalue": "invalid literal for int() with base 10: ''",
     "output_type": "error",
     "traceback": [
      "\u001b[1;31m---------------------------------------------------------------------------\u001b[0m",
      "\u001b[1;31mValueError\u001b[0m                                Traceback (most recent call last)",
      "Input \u001b[1;32mIn [433]\u001b[0m, in \u001b[0;36m<cell line: 1>\u001b[1;34m()\u001b[0m\n\u001b[1;32m----> 1\u001b[0m num \u001b[38;5;241m=\u001b[39m \u001b[38;5;28;43mint\u001b[39;49m\u001b[43m(\u001b[49m\u001b[38;5;28;43minput\u001b[39;49m\u001b[43m(\u001b[49m\u001b[38;5;124;43m\"\u001b[39;49m\u001b[38;5;124;43mEnter the value of number:\u001b[39;49m\u001b[38;5;124;43m\"\u001b[39;49m\u001b[43m)\u001b[49m\u001b[43m)\u001b[49m\n\u001b[0;32m      2\u001b[0m \u001b[38;5;28;01mif\u001b[39;00m num\u001b[38;5;241m>\u001b[39m\u001b[38;5;241m12\u001b[39m \u001b[38;5;129;01mand\u001b[39;00m num\u001b[38;5;241m<\u001b[39m\u001b[38;5;241m35\u001b[39m:\n\u001b[0;32m      3\u001b[0m     \u001b[38;5;28mprint\u001b[39m(\u001b[38;5;124m\"\u001b[39m\u001b[38;5;124mNumber if good\u001b[39m\u001b[38;5;124m\"\u001b[39m)\n",
      "\u001b[1;31mValueError\u001b[0m: invalid literal for int() with base 10: ''"
     ]
    }
   ],
   "source": [
    "num = int(input(\"Enter the value of number:\"))\n",
    "if num>12 and num<35:\n",
    "    print(\"Number if good\")\n",
    "elif num>35:\n",
    "    print(\"Number is not to good\")\n",
    "else:\n",
    "    print(\"Number is great\")"
   ]
  },
  {
   "cell_type": "code",
   "execution_count": 434,
   "id": "5603d57f-fb10-4da1-9fe1-3246d571b67e",
   "metadata": {},
   "outputs": [],
   "source": [
    "def Hello():\n",
    "    print(\"Hello world\")\n",
    "    print(\"World\")"
   ]
  },
  {
   "cell_type": "code",
   "execution_count": 435,
   "id": "556fe931-653f-43a4-bc04-58c7b1df40a3",
   "metadata": {},
   "outputs": [
    {
     "name": "stdout",
     "output_type": "stream",
     "text": [
      "Hello world\n",
      "World\n"
     ]
    }
   ],
   "source": [
    "Hello()"
   ]
  },
  {
   "cell_type": "code",
   "execution_count": 436,
   "id": "7a74b6ec-2801-4d87-8ee7-240b2cc93b16",
   "metadata": {},
   "outputs": [
    {
     "name": "stdout",
     "output_type": "stream",
     "text": [
      "The Zen of Python, by Tim Peters\n",
      "\n",
      "Beautiful is better than ugly.\n",
      "Explicit is better than implicit.\n",
      "Simple is better than complex.\n",
      "Complex is better than complicated.\n",
      "Flat is better than nested.\n",
      "Sparse is better than dense.\n",
      "Readability counts.\n",
      "Special cases aren't special enough to break the rules.\n",
      "Although practicality beats purity.\n",
      "Errors should never pass silently.\n",
      "Unless explicitly silenced.\n",
      "In the face of ambiguity, refuse the temptation to guess.\n",
      "There should be one-- and preferably only one --obvious way to do it.\n",
      "Although that way may not be obvious at first unless you're Dutch.\n",
      "Now is better than never.\n",
      "Although never is often better than *right* now.\n",
      "If the implementation is hard to explain, it's a bad idea.\n",
      "If the implementation is easy to explain, it may be a good idea.\n",
      "Namespaces are one honking great idea -- let's do more of those!\n"
     ]
    }
   ],
   "source": [
    "import this"
   ]
  },
  {
   "cell_type": "code",
   "execution_count": 437,
   "id": "d5fa77af-0130-4458-bde8-80e5b102bcc4",
   "metadata": {},
   "outputs": [
    {
     "name": "stdout",
     "output_type": "stream",
     "text": [
      "Harshal\n"
     ]
    }
   ],
   "source": [
    "print(\"Harshal\")"
   ]
  },
  {
   "cell_type": "code",
   "execution_count": null,
   "id": "d0f15681-87c2-479d-80f0-071c8a281491",
   "metadata": {},
   "outputs": [],
   "source": []
  },
  {
   "cell_type": "code",
   "execution_count": null,
   "id": "366157b8-f876-4b56-9bf6-97a54beacf57",
   "metadata": {},
   "outputs": [],
   "source": []
  },
  {
   "cell_type": "code",
   "execution_count": 438,
   "id": "cdb5cc8c-d2b8-4f12-8157-fa64296d83e7",
   "metadata": {},
   "outputs": [
    {
     "name": "stdout",
     "output_type": "stream",
     "text": [
      "Hello world\n"
     ]
    }
   ],
   "source": [
    "print(\"Hello world\")"
   ]
  },
  {
   "cell_type": "code",
   "execution_count": 439,
   "id": "7a33ac63-5b43-41e5-b57a-35ee4102e877",
   "metadata": {},
   "outputs": [
    {
     "name": "stdout",
     "output_type": "stream",
     "text": [
      "Hello world\n",
      "How are you\n",
      "world\n"
     ]
    }
   ],
   "source": [
    "print(\"Hello world\")\n",
    "print(\"How are you\" \"\\n\" \"world\")"
   ]
  },
  {
   "cell_type": "code",
   "execution_count": 440,
   "id": "8d2c6802-9f49-417c-9ae0-879d214126c3",
   "metadata": {},
   "outputs": [
    {
     "data": {
      "text/plain": [
       "'welcome to my \\nyoutube \\nchannel'"
      ]
     },
     "execution_count": 440,
     "metadata": {},
     "output_type": "execute_result"
    }
   ],
   "source": [
    "#single line and multiline comments\n",
    "\"\"\"welcome to my \n",
    "youtube \n",
    "channel\"\"\""
   ]
  },
  {
   "cell_type": "code",
   "execution_count": 441,
   "id": "514416f2-c93f-46c8-8bda-b92c3a80ce44",
   "metadata": {},
   "outputs": [],
   "source": [
    "# variable declaration\n",
    "a = 1"
   ]
  },
  {
   "cell_type": "code",
   "execution_count": 442,
   "id": "85bedcb4-98ce-4e96-af7d-e40a7dab059a",
   "metadata": {},
   "outputs": [
    {
     "data": {
      "text/plain": [
       "int"
      ]
     },
     "execution_count": 442,
     "metadata": {},
     "output_type": "execute_result"
    }
   ],
   "source": [
    "type(a)"
   ]
  },
  {
   "cell_type": "code",
   "execution_count": 443,
   "id": "cf976627-2ec5-4bab-8020-68ca9ec1f87c",
   "metadata": {},
   "outputs": [
    {
     "name": "stdout",
     "output_type": "stream",
     "text": [
      "Harshal\n"
     ]
    }
   ],
   "source": [
    "first_name = \"Harshal\"\n",
    "print(first_name)"
   ]
  },
  {
   "cell_type": "code",
   "execution_count": 444,
   "id": "39a8c52d-97a3-48f9-8c22-3f0215808320",
   "metadata": {},
   "outputs": [],
   "source": [
    "a = 1945.354"
   ]
  },
  {
   "cell_type": "code",
   "execution_count": 445,
   "id": "c3d5ff8c-f1e0-4292-a0fd-821b8e78613d",
   "metadata": {},
   "outputs": [
    {
     "data": {
      "text/plain": [
       "float"
      ]
     },
     "execution_count": 445,
     "metadata": {},
     "output_type": "execute_result"
    }
   ],
   "source": [
    "type(a)"
   ]
  },
  {
   "cell_type": "code",
   "execution_count": 446,
   "id": "3baafdbd-17d9-4b55-a6cb-ac5938d59fcd",
   "metadata": {},
   "outputs": [
    {
     "name": "stdout",
     "output_type": "stream",
     "text": [
      "<class 'float'>\n"
     ]
    }
   ],
   "source": [
    "print(type(a))"
   ]
  },
  {
   "cell_type": "code",
   "execution_count": 447,
   "id": "c074bb20-2bf2-44e0-9510-9d5de8c81010",
   "metadata": {},
   "outputs": [
    {
     "data": {
      "text/plain": [
       "1945"
      ]
     },
     "execution_count": 447,
     "metadata": {},
     "output_type": "execute_result"
    }
   ],
   "source": [
    "int(a)"
   ]
  },
  {
   "cell_type": "code",
   "execution_count": 448,
   "id": "1f1fc67c-4bce-4cb5-b327-240731a05c5b",
   "metadata": {},
   "outputs": [
    {
     "data": {
      "text/plain": [
       "'1945.354'"
      ]
     },
     "execution_count": 448,
     "metadata": {},
     "output_type": "execute_result"
    }
   ],
   "source": [
    "str(a)"
   ]
  },
  {
   "cell_type": "code",
   "execution_count": 449,
   "id": "91e926a8-cbf6-4cec-a62b-efa3211e308e",
   "metadata": {},
   "outputs": [
    {
     "data": {
      "text/plain": [
       "True"
      ]
     },
     "execution_count": 449,
     "metadata": {},
     "output_type": "execute_result"
    }
   ],
   "source": [
    "bool(a)"
   ]
  },
  {
   "cell_type": "code",
   "execution_count": 450,
   "id": "973dd8cc-4ef7-4019-b247-814af9127347",
   "metadata": {},
   "outputs": [
    {
     "data": {
      "text/plain": [
       "1946.354"
      ]
     },
     "execution_count": 450,
     "metadata": {},
     "output_type": "execute_result"
    }
   ],
   "source": [
    "a + 1"
   ]
  },
  {
   "cell_type": "code",
   "execution_count": 451,
   "id": "51fa37f7-9bac-4fca-a154-a4f1974d2570",
   "metadata": {},
   "outputs": [],
   "source": [
    "a = \"Harshal\""
   ]
  },
  {
   "cell_type": "code",
   "execution_count": 452,
   "id": "e776ce9d-332d-4fbe-b0b8-402bf9228184",
   "metadata": {},
   "outputs": [
    {
     "data": {
      "text/plain": [
       "'HarshalGajera'"
      ]
     },
     "execution_count": 452,
     "metadata": {},
     "output_type": "execute_result"
    }
   ],
   "source": [
    "a+ \"Gajera\""
   ]
  },
  {
   "cell_type": "code",
   "execution_count": 453,
   "id": "50dc10da-2c0b-4040-b8ed-7eb5f8b5b3a8",
   "metadata": {},
   "outputs": [],
   "source": [
    "# complex number\n",
    "i= 1.0+3.2j"
   ]
  },
  {
   "cell_type": "code",
   "execution_count": 454,
   "id": "ceadaccb-c933-46d2-999d-7dec27f7fed1",
   "metadata": {},
   "outputs": [
    {
     "data": {
      "text/plain": [
       "(1+3.2j)"
      ]
     },
     "execution_count": 454,
     "metadata": {},
     "output_type": "execute_result"
    }
   ],
   "source": [
    "i"
   ]
  },
  {
   "cell_type": "code",
   "execution_count": 455,
   "id": "02605752-bd95-454f-92f3-63d29d236457",
   "metadata": {},
   "outputs": [
    {
     "data": {
      "text/plain": [
       "complex"
      ]
     },
     "execution_count": 455,
     "metadata": {},
     "output_type": "execute_result"
    }
   ],
   "source": [
    "type(i)"
   ]
  },
  {
   "cell_type": "code",
   "execution_count": 456,
   "id": "cebcb736-b775-47da-bc79-adc70766f041",
   "metadata": {},
   "outputs": [
    {
     "data": {
      "text/plain": [
       "float"
      ]
     },
     "execution_count": 456,
     "metadata": {},
     "output_type": "execute_result"
    }
   ],
   "source": [
    "type(i.real)"
   ]
  },
  {
   "cell_type": "code",
   "execution_count": 457,
   "id": "b125d90c-f2f0-4c64-8911-b73c4bc508cc",
   "metadata": {},
   "outputs": [
    {
     "data": {
      "text/plain": [
       "float"
      ]
     },
     "execution_count": 457,
     "metadata": {},
     "output_type": "execute_result"
    }
   ],
   "source": [
    "type(i.imag)"
   ]
  },
  {
   "cell_type": "code",
   "execution_count": 473,
   "id": "9c98db43-e420-49a1-a616-2f1da73150d2",
   "metadata": {},
   "outputs": [
    {
     "ename": "TypeError",
     "evalue": "'str' object is not callable",
     "output_type": "error",
     "traceback": [
      "\u001b[1;31m---------------------------------------------------------------------------\u001b[0m",
      "\u001b[1;31mTypeError\u001b[0m                                 Traceback (most recent call last)",
      "Input \u001b[1;32mIn [473]\u001b[0m, in \u001b[0;36m<cell line: 1>\u001b[1;34m()\u001b[0m\n\u001b[1;32m----> 1\u001b[0m \u001b[43mvalue\u001b[49m\u001b[43m(\u001b[49m\u001b[43ma\u001b[49m\u001b[43m)\u001b[49m\n",
      "\u001b[1;31mTypeError\u001b[0m: 'str' object is not callable"
     ]
    }
   ],
   "source": [
    "value(a)"
   ]
  },
  {
   "cell_type": "code",
   "execution_count": 474,
   "id": "cd10757c-bfc5-4d03-9be6-12edfe91bff3",
   "metadata": {},
   "outputs": [
    {
     "name": "stdout",
     "output_type": "stream",
     "text": [
      "My first name is Harshal and my last name is Gajera\n"
     ]
    }
   ],
   "source": [
    "first_name=\"Harshal\"\n",
    "last_name=\"Gajera\"\n",
    "\n",
    "print(\"My first name is {a} and my last name is {b}\".format(b=last_name,a=first_name))"
   ]
  },
  {
   "cell_type": "code",
   "execution_count": 475,
   "id": "42d752ac-9a4f-4f7e-a3a1-158b0871fd80",
   "metadata": {},
   "outputs": [
    {
     "name": "stdout",
     "output_type": "stream",
     "text": [
      "Enter you first nameHarshal\n",
      "Enter you last nameGajera\n",
      "Enter the issue your face in you lifePain\n",
      "Harshal Gajera, facing Pain issues, stay strong, your Pain issues will be solved.\n"
     ]
    }
   ],
   "source": [
    "#input and formating\n",
    "First_Name = input(\"Enter you first name\")\n",
    "Last_Name = input(\"Enter you last name\")\n",
    "Problem_With_Life = str(input(\"Enter the issue your face in you life\")) #just the main issues faced by you\n",
    "print(\"{a} {b}, facing {c} issues, stay strong, your {c} issues will be solved.\".format(a = First_Name, b = Last_Name, c = Problem_With_Life))"
   ]
  },
  {
   "cell_type": "code",
   "execution_count": 476,
   "id": "2815a9b5-4163-4088-8f43-8e2a20c34adb",
   "metadata": {},
   "outputs": [
    {
     "name": "stdout",
     "output_type": "stream",
     "text": [
      "Enter the value of A:2\n",
      "Enter the value of B:3\n",
      "5\n"
     ]
    }
   ],
   "source": [
    "#input\n",
    "a = input(\"Enter the value of A:\")\n",
    "b = input(\"Enter the value of B:\")\n",
    "\n",
    "print(int(a)+int(b))"
   ]
  },
  {
   "cell_type": "code",
   "execution_count": null,
   "id": "83972587-37ab-4ef1-924d-02d3820f03d1",
   "metadata": {},
   "outputs": [],
   "source": [
    "value = input(\"Enter the require value\")\n",
    "value_float = float(value)\n",
    "if(value_float%2==0):\n",
    "    print(\"Entered number is even\")\n",
    "elif(value_float>100 and value_float<500):\n",
    "    print(\"Number satisfies all the require conditions\")\n",
    "else:\n",
    "    print(\"Number is odd\")"
   ]
  },
  {
   "cell_type": "code",
   "execution_count": null,
   "id": "0cb2f6b1-08b7-4bfd-b175-73ff314da0fc",
   "metadata": {},
   "outputs": [],
   "source": [
    "value_float"
   ]
  },
  {
   "cell_type": "code",
   "execution_count": 464,
   "id": "4ca2c3f4-d5de-4ffe-b2bf-484030d41b05",
   "metadata": {},
   "outputs": [
    {
     "ename": "NameError",
     "evalue": "name 'value_float' is not defined",
     "output_type": "error",
     "traceback": [
      "\u001b[1;31m---------------------------------------------------------------------------\u001b[0m",
      "\u001b[1;31mNameError\u001b[0m                                 Traceback (most recent call last)",
      "Input \u001b[1;32mIn [464]\u001b[0m, in \u001b[0;36m<cell line: 1>\u001b[1;34m()\u001b[0m\n\u001b[1;32m----> 1\u001b[0m \u001b[38;5;28mtype\u001b[39m(\u001b[43mvalue_float\u001b[49m)\n",
      "\u001b[1;31mNameError\u001b[0m: name 'value_float' is not defined"
     ]
    }
   ],
   "source": [
    "type(value_float)"
   ]
  },
  {
   "cell_type": "code",
   "execution_count": 465,
   "id": "4fa1961b-f7c0-4283-976b-063593951e34",
   "metadata": {},
   "outputs": [
    {
     "name": "stdout",
     "output_type": "stream",
     "text": [
      "Enter the value\n"
     ]
    },
    {
     "ename": "ValueError",
     "evalue": "invalid literal for int() with base 10: ''",
     "output_type": "error",
     "traceback": [
      "\u001b[1;31m---------------------------------------------------------------------------\u001b[0m",
      "\u001b[1;31mValueError\u001b[0m                                Traceback (most recent call last)",
      "Input \u001b[1;32mIn [465]\u001b[0m, in \u001b[0;36m<cell line: 2>\u001b[1;34m()\u001b[0m\n\u001b[0;32m      1\u001b[0m value \u001b[38;5;241m=\u001b[39m \u001b[38;5;28minput\u001b[39m(\u001b[38;5;124m\"\u001b[39m\u001b[38;5;124mEnter the value\u001b[39m\u001b[38;5;124m\"\u001b[39m)\n\u001b[1;32m----> 2\u001b[0m value_int\u001b[38;5;241m=\u001b[39m \u001b[38;5;28;43mint\u001b[39;49m\u001b[43m(\u001b[49m\u001b[43mvalue\u001b[49m\u001b[43m)\u001b[49m\n\u001b[0;32m      3\u001b[0m \u001b[38;5;28;01mif\u001b[39;00m((value_int\u001b[38;5;241m-\u001b[39m\u001b[38;5;241m1\u001b[39m)\u001b[38;5;241m%\u001b[39m\u001b[38;5;241m6\u001b[39m\u001b[38;5;241m==\u001b[39m\u001b[38;5;241m0\u001b[39m \u001b[38;5;129;01mor\u001b[39;00m (value_int\u001b[38;5;241m+\u001b[39m\u001b[38;5;241m1\u001b[39m)\u001b[38;5;241m%\u001b[39m\u001b[38;5;241m6\u001b[39m\u001b[38;5;241m==\u001b[39m\u001b[38;5;241m0\u001b[39m):\n\u001b[0;32m      4\u001b[0m     \u001b[38;5;28mprint\u001b[39m(\u001b[38;5;124m\"\u001b[39m\u001b[38;5;124mgiven number is prime\u001b[39m\u001b[38;5;124m\"\u001b[39m)\n",
      "\u001b[1;31mValueError\u001b[0m: invalid literal for int() with base 10: ''"
     ]
    }
   ],
   "source": [
    "value = input(\"Enter the value\")\n",
    "value_int= int(value)\n",
    "if((value_int-1)%6==0 or (value_int+1)%6==0):\n",
    "    print(\"given number is prime\")\n",
    "else:\n",
    "    print(\"Number is not prime\")"
   ]
  },
  {
   "cell_type": "code",
   "execution_count": 466,
   "id": "22483c3d-b946-479e-b4bf-930528834f4d",
   "metadata": {},
   "outputs": [
    {
     "name": "stdout",
     "output_type": "stream",
     "text": [
      "What is you age\n"
     ]
    },
    {
     "ename": "ValueError",
     "evalue": "could not convert string to float: ''",
     "output_type": "error",
     "traceback": [
      "\u001b[1;31m---------------------------------------------------------------------------\u001b[0m",
      "\u001b[1;31mValueError\u001b[0m                                Traceback (most recent call last)",
      "Input \u001b[1;32mIn [466]\u001b[0m, in \u001b[0;36m<cell line: 3>\u001b[1;34m()\u001b[0m\n\u001b[0;32m      1\u001b[0m \u001b[38;5;66;03m#if-elif-else condition\u001b[39;00m\n\u001b[0;32m      2\u001b[0m Enter_Age \u001b[38;5;241m=\u001b[39m \u001b[38;5;28minput\u001b[39m(\u001b[38;5;124m\"\u001b[39m\u001b[38;5;124mWhat is you age\u001b[39m\u001b[38;5;124m\"\u001b[39m)\n\u001b[1;32m----> 3\u001b[0m Enter_your_age \u001b[38;5;241m=\u001b[39m \u001b[38;5;28;43mfloat\u001b[39;49m\u001b[43m(\u001b[49m\u001b[43mEnter_Age\u001b[49m\u001b[43m)\u001b[49m\n\u001b[0;32m      5\u001b[0m \u001b[38;5;28;01mif\u001b[39;00m(Enter_your_age\u001b[38;5;241m<\u001b[39m\u001b[38;5;241m18\u001b[39m):\n\u001b[0;32m      6\u001b[0m     \u001b[38;5;28mprint\u001b[39m(\u001b[38;5;124m\"\u001b[39m\u001b[38;5;124mYou are children\u001b[39m\u001b[38;5;124m\"\u001b[39m)\n",
      "\u001b[1;31mValueError\u001b[0m: could not convert string to float: ''"
     ]
    }
   ],
   "source": [
    "#if-elif-else condition\n",
    "Enter_Age = input(\"What is you age\")\n",
    "Enter_your_age = float(Enter_Age)\n",
    "\n",
    "if(Enter_your_age<18):\n",
    "    print(\"You are children\")\n",
    "    if(Enter_your_age>14 and Enter_your_age<=5):\n",
    "        print(\"You are in collage\")\n",
    "    elif(Enter_your_age<5):\n",
    "        print(\"You are not aligible to attend school\")\n",
    "    else:\n",
    "        print(\"You are in school\")\n",
    "elif(Enter_your_age>=18 and Enter_your_age<50):\n",
    "    print(\"You are in mid age\")\n",
    "    if (Enter_your_age>=18 and Enter_your_age<=30):\n",
    "        print(\"You are not merried\")\n",
    "        if(Enter_your_age>=18 and Enter_your_age<=24):\n",
    "            print(\"You are not married by choice\")\n",
    "        else:\n",
    "            print(\"You are not merried beacuse you don't get girl\")\n",
    "    else:\n",
    "        print(\"you are merried\")\n",
    "        if(Enter_your_age>=40 and Enter_your_age<=45):\n",
    "            print(\"you are ahving one children\")\n",
    "        elif(Enter_your_age>45):\n",
    "            print(\"You are having two childrens\")\n",
    "        else:\n",
    "            print(\"you are not having any children\")\n",
    "elif(Enter_your_age>=50 and Enter_your_age<55):\n",
    "    print(\"You are senior citizen of the counter\")\n",
    "    print(\"You are taking care of yuor family\")\n",
    "else:\n",
    "    print(\"You are about to die\")"
   ]
  },
  {
   "cell_type": "code",
   "execution_count": null,
   "id": "048d66a8-bd87-4ca3-b6bd-c16a9151ad63",
   "metadata": {},
   "outputs": [],
   "source": []
  },
  {
   "cell_type": "code",
   "execution_count": 467,
   "id": "fd4ad8cf-743c-47c1-925a-87527c97a6a2",
   "metadata": {},
   "outputs": [],
   "source": [
    "#sum using looping\n",
    "lst_name = [1,2,3,4,5,6,7,8,9,10]"
   ]
  },
  {
   "cell_type": "code",
   "execution_count": 468,
   "id": "8edffabf-f574-4003-8aa4-4ed378a56cbb",
   "metadata": {},
   "outputs": [
    {
     "data": {
      "text/plain": [
       "[1, 2, 3, 4, 5, 6, 7, 8, 9, 10]"
      ]
     },
     "execution_count": 468,
     "metadata": {},
     "output_type": "execute_result"
    }
   ],
   "source": [
    "lst_name"
   ]
  },
  {
   "cell_type": "code",
   "execution_count": 469,
   "id": "fd4ab43b-7573-4d5c-aa43-ceefa40d5a20",
   "metadata": {},
   "outputs": [
    {
     "data": {
      "text/plain": [
       "list"
      ]
     },
     "execution_count": 469,
     "metadata": {},
     "output_type": "execute_result"
    }
   ],
   "source": [
    "type(lst_name)"
   ]
  },
  {
   "cell_type": "code",
   "execution_count": 470,
   "id": "8f815838-33e4-4abb-a729-bdf629869482",
   "metadata": {},
   "outputs": [
    {
     "name": "stdout",
     "output_type": "stream",
     "text": [
      "55\n"
     ]
    }
   ],
   "source": [
    "sum1=0\n",
    "for i in lst_name:\n",
    "    sum1= sum1+i\n",
    "print(sum1)"
   ]
  },
  {
   "cell_type": "code",
   "execution_count": 471,
   "id": "f99203f1-b75e-426a-9647-d87107c5feb0",
   "metadata": {},
   "outputs": [
    {
     "name": "stdout",
     "output_type": "stream",
     "text": [
      "Even sum of the list is 30, odd sum of the list 25\n",
      "Even sum is 30\n",
      "odd sum is 25\n"
     ]
    }
   ],
   "source": [
    "lst_name = [1,2,3,4,5,6,7,8,9,10]\n",
    "even_sum=0\n",
    "odd_sum=0\n",
    "\n",
    "for i in lst_name:\n",
    "    if((i-1)%2==0 or  (i+1)%2==0):\n",
    "        odd_sum = odd_sum+i\n",
    "    else:\n",
    "        even_sum=even_sum+i\n",
    "print(\"Even sum of the list is {}, odd sum of the list {}\".format(even_sum,odd_sum))\n",
    "print(\"Even sum is {}\".format(even_sum))\n",
    "print(\"odd sum is {}\".format(odd_sum))"
   ]
  },
  {
   "cell_type": "code",
   "execution_count": 472,
   "id": "b163b6df-d1c8-48cd-b6e2-07f08c34abf2",
   "metadata": {},
   "outputs": [
    {
     "data": {
      "text/plain": [
       "30"
      ]
     },
     "execution_count": 472,
     "metadata": {},
     "output_type": "execute_result"
    }
   ],
   "source": [
    "even_sum"
   ]
  },
  {
   "cell_type": "code",
   "execution_count": 100,
   "id": "4c88cb5a-cb1e-42c5-9b04-a14c80d02591",
   "metadata": {},
   "outputs": [
    {
     "data": {
      "text/plain": [
       "25"
      ]
     },
     "execution_count": 100,
     "metadata": {},
     "output_type": "execute_result"
    }
   ],
   "source": [
    "odd_sum"
   ]
  },
  {
   "cell_type": "code",
   "execution_count": 6,
   "id": "ed866a49-6eef-4484-9f75-f5ffc90609c3",
   "metadata": {},
   "outputs": [
    {
     "name": "stdout",
     "output_type": "stream",
     "text": [
      "30 25\n"
     ]
    }
   ],
   "source": [
    "i=0\n",
    "even_sum=0\n",
    "odd_sum=0\n",
    "\n",
    "while(i<=10):\n",
    "    if(i%2==0):\n",
    "        even_sum=even_sum+i\n",
    "    else:\n",
    "        odd_sum=odd_sum+i\n",
    "    i=i+1\n",
    "print(even_sum,odd_sum)"
   ]
  },
  {
   "cell_type": "code",
   "execution_count": 107,
   "id": "d450e27d-8137-4571-8506-93af2d08fec0",
   "metadata": {},
   "outputs": [
    {
     "data": {
      "text/plain": [
       "11"
      ]
     },
     "execution_count": 107,
     "metadata": {},
     "output_type": "execute_result"
    }
   ],
   "source": [
    "i"
   ]
  },
  {
   "cell_type": "code",
   "execution_count": null,
   "id": "edf3c424-ee64-49ca-8898-832e2177b137",
   "metadata": {},
   "outputs": [],
   "source": [
    "print(even_sum)"
   ]
  },
  {
   "cell_type": "code",
   "execution_count": 3,
   "id": "4cb014be-b6f2-43ba-9a94-b42970449db3",
   "metadata": {},
   "outputs": [
    {
     "name": "stdout",
     "output_type": "stream",
     "text": [
      "0 0\n"
     ]
    }
   ],
   "source": [
    "print(even_sum,odd_sum)"
   ]
  },
  {
   "cell_type": "code",
   "execution_count": 7,
   "id": "f573bcc4-4661-49db-9445-7d4b7bb01461",
   "metadata": {},
   "outputs": [
    {
     "name": "stdout",
     "output_type": "stream",
     "text": [
      "30 25\n"
     ]
    }
   ],
   "source": [
    "i=0\n",
    "even_sum=0\n",
    "odd_sum=0\n",
    "\n",
    "while(i<=10):\n",
    "    if(i%2==0):\n",
    "        even_sum=even_sum+i\n",
    "    else:\n",
    "        odd_sum=odd_sum+i\n",
    "    i=i+1\n",
    "print(even_sum,odd_sum)"
   ]
  },
  {
   "cell_type": "code",
   "execution_count": 11,
   "id": "2ab4bd84-9cf8-4d30-8191-77e053e82473",
   "metadata": {},
   "outputs": [
    {
     "name": "stdout",
     "output_type": "stream",
     "text": [
      "1\n",
      "2\n",
      "3\n",
      "4\n",
      "5\n"
     ]
    }
   ],
   "source": [
    "i=0\n",
    "even_sum=even_sum+i\n",
    "while(i<=10):\n",
    "    if i==5:\n",
    "        break\n",
    "    i=i+1\n",
    "    print(i)"
   ]
  },
  {
   "cell_type": "code",
   "execution_count": null,
   "id": "07ad2b88-8ed0-4e79-85bc-63f1adb366f2",
   "metadata": {},
   "outputs": [],
   "source": [
    "i=0\n",
    "even_sum=0\n",
    "odd_sum=0\n",
    "\n",
    "while(i<=10):\n",
    "    if(i%2==0):\n",
    "        even_sum=even_sum+i\n",
    "    else:\n",
    "        odd_sum=odd_sum+i\n",
    "print(even_sum,odd_sum)\n",
    "        "
   ]
  },
  {
   "cell_type": "code",
   "execution_count": null,
   "id": "c604371e-dc4c-431c-bbf4-f43072300450",
   "metadata": {},
   "outputs": [],
   "source": [
    "i=0"
   ]
  },
  {
   "cell_type": "code",
   "execution_count": null,
   "id": "5488488e-31eb-4f4d-9cf9-159d2725e632",
   "metadata": {},
   "outputs": [],
   "source": []
  }
 ],
 "metadata": {
  "kernelspec": {
   "display_name": "Python 3 (ipykernel)",
   "language": "python",
   "name": "python3"
  },
  "language_info": {
   "codemirror_mode": {
    "name": "ipython",
    "version": 3
   },
   "file_extension": ".py",
   "mimetype": "text/x-python",
   "name": "python",
   "nbconvert_exporter": "python",
   "pygments_lexer": "ipython3",
   "version": "3.9.12"
  }
 },
 "nbformat": 4,
 "nbformat_minor": 5
}
