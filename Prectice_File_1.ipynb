{
 "cells": [
  {
   "cell_type": "code",
   "execution_count": 8,
   "id": "aced5be7-e5e9-469a-9496-1d9dd95c0ddd",
   "metadata": {},
   "outputs": [],
   "source": [
    "lst = [\"Hulk\",\"Ironman\",\"BLack panthor\",\"Ironman\",\"Captain America\",\"Dr. Strange\"]"
   ]
  },
  {
   "cell_type": "code",
   "execution_count": null,
   "id": "63c82911-1cfb-4d7b-b309-30e4bd281b82",
   "metadata": {},
   "outputs": [],
   "source": []
  },
  {
   "cell_type": "code",
   "execution_count": 2,
   "id": "8fcde7ef-1085-451e-9a92-b4ab34301f9b",
   "metadata": {},
   "outputs": [
    {
     "data": {
      "text/plain": [
       "['Hulk', 'Ironman', 'BLack panthor', 'Captain America', 'Dr. Strange']"
      ]
     },
     "execution_count": 2,
     "metadata": {},
     "output_type": "execute_result"
    }
   ],
   "source": [
    "lst"
   ]
  },
  {
   "cell_type": "code",
   "execution_count": 3,
   "id": "7a5c30ce-66cb-4a0a-ba28-38aeacfc54ec",
   "metadata": {},
   "outputs": [
    {
     "data": {
      "text/plain": [
       "list"
      ]
     },
     "execution_count": 3,
     "metadata": {},
     "output_type": "execute_result"
    }
   ],
   "source": [
    "type(lst)"
   ]
  },
  {
   "cell_type": "code",
   "execution_count": 4,
   "id": "cba4564d-c9da-4332-bd7e-ba563079cceb",
   "metadata": {},
   "outputs": [
    {
     "data": {
      "text/plain": [
       "'Hulk'"
      ]
     },
     "execution_count": 4,
     "metadata": {},
     "output_type": "execute_result"
    }
   ],
   "source": [
    "lst[0]"
   ]
  },
  {
   "cell_type": "code",
   "execution_count": 13,
   "id": "3edfe6bb-7a73-4f4a-9272-be6f5d84fe99",
   "metadata": {},
   "outputs": [],
   "source": [
    "lst.()"
   ]
  },
  {
   "cell_type": "code",
   "execution_count": 18,
   "id": "f051f3b0-c481-4a9e-b293-0ce0ecd41ba4",
   "metadata": {},
   "outputs": [
    {
     "data": {
      "text/plain": [
       "['Hulk',\n",
       " 'Ironman',\n",
       " 'BLack panthor',\n",
       " 'Ironman',\n",
       " 'Captain America',\n",
       " 'Dr. Strange',\n",
       " 'F',\n",
       " 'a',\n",
       " 'l',\n",
       " 'k',\n",
       " 'o',\n",
       " 'n',\n",
       " '(',\n",
       " 'F',\n",
       " 'a',\n",
       " 'l',\n",
       " 'k',\n",
       " 'o',\n",
       " 'n',\n",
       " ')']"
      ]
     },
     "execution_count": 18,
     "metadata": {},
     "output_type": "execute_result"
    }
   ],
   "source": [
    "lst"
   ]
  },
  {
   "cell_type": "code",
   "execution_count": 19,
   "id": "fa6673fd-9aa9-49b7-b886-c8f5230680c8",
   "metadata": {},
   "outputs": [],
   "source": [
    "lst = [\"Hulk\",\"Ironman\",\"BLack panthor\",\"Ironman\",\"Captain America\",\"Dr. Strange\"]"
   ]
  },
  {
   "cell_type": "code",
   "execution_count": 20,
   "id": "d1540864-af22-46d7-94b1-f0287acbc715",
   "metadata": {},
   "outputs": [
    {
     "data": {
      "text/plain": [
       "['Hulk',\n",
       " 'Ironman',\n",
       " 'BLack panthor',\n",
       " 'Ironman',\n",
       " 'Captain America',\n",
       " 'Dr. Strange']"
      ]
     },
     "execution_count": 20,
     "metadata": {},
     "output_type": "execute_result"
    }
   ],
   "source": [
    "lst"
   ]
  },
  {
   "cell_type": "code",
   "execution_count": 21,
   "id": "c500a5c5-35ad-438d-8305-20805505e6e7",
   "metadata": {},
   "outputs": [],
   "source": [
    "lst.append(\"Falkon\")"
   ]
  },
  {
   "cell_type": "code",
   "execution_count": 22,
   "id": "78ebd81b-7eee-4214-9095-bafe6b8c5d4c",
   "metadata": {},
   "outputs": [
    {
     "data": {
      "text/plain": [
       "['Hulk',\n",
       " 'Ironman',\n",
       " 'BLack panthor',\n",
       " 'Ironman',\n",
       " 'Captain America',\n",
       " 'Dr. Strange',\n",
       " 'Falkon']"
      ]
     },
     "execution_count": 22,
     "metadata": {},
     "output_type": "execute_result"
    }
   ],
   "source": [
    "lst"
   ]
  },
  {
   "cell_type": "code",
   "execution_count": 23,
   "id": "85b71e63-f254-44f6-a903-e4d8a5d15e74",
   "metadata": {},
   "outputs": [
    {
     "ename": "TypeError",
     "evalue": "list.extend() takes exactly one argument (2 given)",
     "output_type": "error",
     "traceback": [
      "\u001b[1;31m---------------------------------------------------------------------------\u001b[0m",
      "\u001b[1;31mTypeError\u001b[0m                                 Traceback (most recent call last)",
      "Input \u001b[1;32mIn [23]\u001b[0m, in \u001b[0;36m<cell line: 1>\u001b[1;34m()\u001b[0m\n\u001b[1;32m----> 1\u001b[0m \u001b[43mlst\u001b[49m\u001b[38;5;241;43m.\u001b[39;49m\u001b[43mextend\u001b[49m\u001b[43m(\u001b[49m\u001b[38;5;124;43m\"\u001b[39;49m\u001b[38;5;124;43mHarshal\u001b[39;49m\u001b[38;5;124;43m\"\u001b[39;49m\u001b[43m,\u001b[49m\u001b[38;5;124;43m\"\u001b[39;49m\u001b[38;5;124;43mGajera\u001b[39;49m\u001b[38;5;124;43m\"\u001b[39;49m\u001b[43m)\u001b[49m\n",
      "\u001b[1;31mTypeError\u001b[0m: list.extend() takes exactly one argument (2 given)"
     ]
    }
   ],
   "source": [
    "lst.extend(\"Harshal\",\"Gajera\")"
   ]
  },
  {
   "cell_type": "code",
   "execution_count": 24,
   "id": "555db5f9-7cb7-4529-b9e0-ba313adeb622",
   "metadata": {},
   "outputs": [],
   "source": [
    "lst.insert(3,\"Antman\")"
   ]
  },
  {
   "cell_type": "code",
   "execution_count": 25,
   "id": "1f81f1fd-4103-4995-9d39-26887f624107",
   "metadata": {},
   "outputs": [
    {
     "data": {
      "text/plain": [
       "['Hulk',\n",
       " 'Ironman',\n",
       " 'BLack panthor',\n",
       " 'Antman',\n",
       " 'Ironman',\n",
       " 'Captain America',\n",
       " 'Dr. Strange',\n",
       " 'Falkon']"
      ]
     },
     "execution_count": 25,
     "metadata": {},
     "output_type": "execute_result"
    }
   ],
   "source": [
    "lst"
   ]
  },
  {
   "cell_type": "code",
   "execution_count": 26,
   "id": "70f3e21c-fdfb-4e05-a7a2-52633e71d7a7",
   "metadata": {},
   "outputs": [],
   "source": [
    "lst.sort()"
   ]
  },
  {
   "cell_type": "code",
   "execution_count": 27,
   "id": "091d7c51-ced8-4a89-a2f3-91011c66c6a9",
   "metadata": {},
   "outputs": [
    {
     "data": {
      "text/plain": [
       "['Antman',\n",
       " 'BLack panthor',\n",
       " 'Captain America',\n",
       " 'Dr. Strange',\n",
       " 'Falkon',\n",
       " 'Hulk',\n",
       " 'Ironman',\n",
       " 'Ironman']"
      ]
     },
     "execution_count": 27,
     "metadata": {},
     "output_type": "execute_result"
    }
   ],
   "source": [
    "lst"
   ]
  },
  {
   "cell_type": "code",
   "execution_count": 28,
   "id": "4af85ca8-bb25-454a-b710-1454645f4d72",
   "metadata": {},
   "outputs": [
    {
     "data": {
      "text/plain": [
       "['Antman',\n",
       " 'BLack panthor',\n",
       " 'Captain America',\n",
       " 'Dr. Strange',\n",
       " 'Falkon',\n",
       " 'Hulk',\n",
       " 'Ironman',\n",
       " 'Ironman']"
      ]
     },
     "execution_count": 28,
     "metadata": {},
     "output_type": "execute_result"
    }
   ],
   "source": [
    "lst.copy()"
   ]
  },
  {
   "cell_type": "code",
   "execution_count": 29,
   "id": "e4fb383b-95a9-480d-aa0c-1bee1f00fdb2",
   "metadata": {},
   "outputs": [
    {
     "data": {
      "text/plain": [
       "['Antman',\n",
       " 'BLack panthor',\n",
       " 'Captain America',\n",
       " 'Dr. Strange',\n",
       " 'Falkon',\n",
       " 'Hulk',\n",
       " 'Ironman',\n",
       " 'Ironman']"
      ]
     },
     "execution_count": 29,
     "metadata": {},
     "output_type": "execute_result"
    }
   ],
   "source": [
    "lst.copy()"
   ]
  },
  {
   "cell_type": "code",
   "execution_count": 30,
   "id": "0992928d-3991-4924-a3bb-4e6145ed1651",
   "metadata": {},
   "outputs": [
    {
     "ename": "ValueError",
     "evalue": "0 is not in list",
     "output_type": "error",
     "traceback": [
      "\u001b[1;31m---------------------------------------------------------------------------\u001b[0m",
      "\u001b[1;31mValueError\u001b[0m                                Traceback (most recent call last)",
      "Input \u001b[1;32mIn [30]\u001b[0m, in \u001b[0;36m<cell line: 1>\u001b[1;34m()\u001b[0m\n\u001b[1;32m----> 1\u001b[0m \u001b[43mlst\u001b[49m\u001b[38;5;241;43m.\u001b[39;49m\u001b[43mindex\u001b[49m\u001b[43m(\u001b[49m\u001b[38;5;241;43m0\u001b[39;49m\u001b[43m)\u001b[49m\n",
      "\u001b[1;31mValueError\u001b[0m: 0 is not in list"
     ]
    }
   ],
   "source": [
    "lst.index(0)"
   ]
  },
  {
   "cell_type": "code",
   "execution_count": 33,
   "id": "c970bb92-af10-4b3b-946f-846faa6becad",
   "metadata": {},
   "outputs": [
    {
     "data": {
      "text/plain": [
       "6"
      ]
     },
     "execution_count": 33,
     "metadata": {},
     "output_type": "execute_result"
    }
   ],
   "source": [
    "lst.index(\"Ironman\")"
   ]
  },
  {
   "cell_type": "code",
   "execution_count": 34,
   "id": "a444d649-17f5-4600-9620-a275544cb413",
   "metadata": {},
   "outputs": [
    {
     "data": {
      "text/plain": [
       "['Antman',\n",
       " 'BLack panthor',\n",
       " 'Captain America',\n",
       " 'Dr. Strange',\n",
       " 'Falkon',\n",
       " 'Hulk',\n",
       " 'Ironman',\n",
       " 'Ironman']"
      ]
     },
     "execution_count": 34,
     "metadata": {},
     "output_type": "execute_result"
    }
   ],
   "source": [
    "lst"
   ]
  },
  {
   "cell_type": "code",
   "execution_count": 36,
   "id": "74341fa4-fe6b-4554-9ee5-ffb4efaa7ccc",
   "metadata": {},
   "outputs": [
    {
     "data": {
      "text/plain": [
       "0"
      ]
     },
     "execution_count": 36,
     "metadata": {},
     "output_type": "execute_result"
    }
   ],
   "source": [
    "lst.index(\"Antman\")"
   ]
  },
  {
   "cell_type": "code",
   "execution_count": 38,
   "id": "8dd1ab9e-4758-44b0-845f-6c89ffa3517b",
   "metadata": {},
   "outputs": [
    {
     "data": {
      "text/plain": [
       "['Antman',\n",
       " 'BLack panthor',\n",
       " 'Captain America',\n",
       " 'Dr. Strange',\n",
       " 'Falkon',\n",
       " 'Hulk',\n",
       " 'Ironman',\n",
       " 'Ironman']"
      ]
     },
     "execution_count": 38,
     "metadata": {},
     "output_type": "execute_result"
    }
   ],
   "source": [
    "lst"
   ]
  },
  {
   "cell_type": "code",
   "execution_count": 39,
   "id": "1d632414-c1c2-46c9-880a-0a33d84f5869",
   "metadata": {},
   "outputs": [
    {
     "data": {
      "text/plain": [
       "2"
      ]
     },
     "execution_count": 39,
     "metadata": {},
     "output_type": "execute_result"
    }
   ],
   "source": [
    "lst.count(\"Ironman\")"
   ]
  },
  {
   "cell_type": "code",
   "execution_count": 40,
   "id": "14df4feb-c0f2-4013-a1c4-39aee751ff9e",
   "metadata": {},
   "outputs": [],
   "source": [
    "lst.insert(0,\"Black Bolt\")"
   ]
  },
  {
   "cell_type": "code",
   "execution_count": 41,
   "id": "a0843d64-fef9-45df-a918-5e53943ce970",
   "metadata": {},
   "outputs": [
    {
     "data": {
      "text/plain": [
       "['Black Bolt',\n",
       " 'Antman',\n",
       " 'BLack panthor',\n",
       " 'Captain America',\n",
       " 'Dr. Strange',\n",
       " 'Falkon',\n",
       " 'Hulk',\n",
       " 'Ironman',\n",
       " 'Ironman']"
      ]
     },
     "execution_count": 41,
     "metadata": {},
     "output_type": "execute_result"
    }
   ],
   "source": [
    "lst"
   ]
  },
  {
   "cell_type": "code",
   "execution_count": 46,
   "id": "81a5499d-d9c2-4e25-88c2-d4dab1cc75fe",
   "metadata": {},
   "outputs": [],
   "source": [
    "lst.sort()"
   ]
  },
  {
   "cell_type": "code",
   "execution_count": null,
   "id": "b04e8ec5-eb64-4e04-9ebe-f0825af6bf2b",
   "metadata": {},
   "outputs": [],
   "source": []
  },
  {
   "cell_type": "code",
   "execution_count": 47,
   "id": "74571f85-5612-4b18-a2da-8ada7ae8a2d6",
   "metadata": {},
   "outputs": [
    {
     "data": {
      "text/plain": [
       "['Antman',\n",
       " 'BLack panthor',\n",
       " 'Black Bolt',\n",
       " 'Captain America',\n",
       " 'Dr. Strange',\n",
       " 'Falkon',\n",
       " 'Hulk',\n",
       " 'Ironman',\n",
       " 'Ironman']"
      ]
     },
     "execution_count": 47,
     "metadata": {},
     "output_type": "execute_result"
    }
   ],
   "source": [
    "lst"
   ]
  },
  {
   "cell_type": "code",
   "execution_count": 48,
   "id": "7e6c1251-6e93-4727-b42d-94047a7aefe3",
   "metadata": {},
   "outputs": [],
   "source": [
    "lst.remove(\"Black Bolt\")"
   ]
  },
  {
   "cell_type": "code",
   "execution_count": 49,
   "id": "b907e682-0e1f-4ae7-a93f-8af7a5117326",
   "metadata": {},
   "outputs": [
    {
     "ename": "NameError",
     "evalue": "name 'las' is not defined",
     "output_type": "error",
     "traceback": [
      "\u001b[1;31m---------------------------------------------------------------------------\u001b[0m",
      "\u001b[1;31mNameError\u001b[0m                                 Traceback (most recent call last)",
      "Input \u001b[1;32mIn [49]\u001b[0m, in \u001b[0;36m<cell line: 1>\u001b[1;34m()\u001b[0m\n\u001b[1;32m----> 1\u001b[0m \u001b[43mlas\u001b[49m\n",
      "\u001b[1;31mNameError\u001b[0m: name 'las' is not defined"
     ]
    }
   ],
   "source": [
    "las"
   ]
  },
  {
   "cell_type": "code",
   "execution_count": 50,
   "id": "85a438b6-daa9-4024-a7fe-857a87eca714",
   "metadata": {},
   "outputs": [
    {
     "data": {
      "text/plain": [
       "['Antman',\n",
       " 'BLack panthor',\n",
       " 'Captain America',\n",
       " 'Dr. Strange',\n",
       " 'Falkon',\n",
       " 'Hulk',\n",
       " 'Ironman',\n",
       " 'Ironman']"
      ]
     },
     "execution_count": 50,
     "metadata": {},
     "output_type": "execute_result"
    }
   ],
   "source": [
    "lst"
   ]
  },
  {
   "cell_type": "code",
   "execution_count": 51,
   "id": "9118b440-aa28-4c75-a653-b484bfc2be93",
   "metadata": {},
   "outputs": [],
   "source": [
    "lst.append(\"Black Bolt\")"
   ]
  },
  {
   "cell_type": "code",
   "execution_count": 52,
   "id": "bb7cafc9-43aa-4565-af09-eb87e4580b64",
   "metadata": {},
   "outputs": [
    {
     "data": {
      "text/plain": [
       "['Antman',\n",
       " 'BLack panthor',\n",
       " 'Captain America',\n",
       " 'Dr. Strange',\n",
       " 'Falkon',\n",
       " 'Hulk',\n",
       " 'Ironman',\n",
       " 'Ironman',\n",
       " 'Black Bolt']"
      ]
     },
     "execution_count": 52,
     "metadata": {},
     "output_type": "execute_result"
    }
   ],
   "source": [
    "lst"
   ]
  },
  {
   "cell_type": "code",
   "execution_count": 53,
   "id": "267bf143-29ec-45e4-a36f-a1dbb5469bcc",
   "metadata": {},
   "outputs": [
    {
     "ename": "AttributeError",
     "evalue": "'list' object has no attribute 'sprt'",
     "output_type": "error",
     "traceback": [
      "\u001b[1;31m---------------------------------------------------------------------------\u001b[0m",
      "\u001b[1;31mAttributeError\u001b[0m                            Traceback (most recent call last)",
      "Input \u001b[1;32mIn [53]\u001b[0m, in \u001b[0;36m<cell line: 1>\u001b[1;34m()\u001b[0m\n\u001b[1;32m----> 1\u001b[0m \u001b[43mlst\u001b[49m\u001b[38;5;241;43m.\u001b[39;49m\u001b[43msprt\u001b[49m\n",
      "\u001b[1;31mAttributeError\u001b[0m: 'list' object has no attribute 'sprt'"
     ]
    }
   ],
   "source": [
    "lst.sprt"
   ]
  },
  {
   "cell_type": "code",
   "execution_count": 54,
   "id": "e3006137-d924-41fc-bcb8-39c42fb1ad34",
   "metadata": {},
   "outputs": [],
   "source": [
    "lst.sort()"
   ]
  },
  {
   "cell_type": "code",
   "execution_count": 55,
   "id": "ed56d01c-58ba-497a-bf53-87806009dc15",
   "metadata": {},
   "outputs": [
    {
     "data": {
      "text/plain": [
       "['Antman',\n",
       " 'BLack panthor',\n",
       " 'Black Bolt',\n",
       " 'Captain America',\n",
       " 'Dr. Strange',\n",
       " 'Falkon',\n",
       " 'Hulk',\n",
       " 'Ironman',\n",
       " 'Ironman']"
      ]
     },
     "execution_count": 55,
     "metadata": {},
     "output_type": "execute_result"
    }
   ],
   "source": [
    "lst"
   ]
  },
  {
   "cell_type": "code",
   "execution_count": 56,
   "id": "0c9590fa-d000-4554-a00d-97c00a4ac997",
   "metadata": {},
   "outputs": [],
   "source": [
    "lst.insert(4,\"ms.marvel\")"
   ]
  },
  {
   "cell_type": "code",
   "execution_count": 57,
   "id": "93469396-ca0c-48f9-870f-d11b2f68c78a",
   "metadata": {},
   "outputs": [
    {
     "data": {
      "text/plain": [
       "['Antman',\n",
       " 'BLack panthor',\n",
       " 'Black Bolt',\n",
       " 'Captain America',\n",
       " 'ms.marvel',\n",
       " 'Dr. Strange',\n",
       " 'Falkon',\n",
       " 'Hulk',\n",
       " 'Ironman',\n",
       " 'Ironman']"
      ]
     },
     "execution_count": 57,
     "metadata": {},
     "output_type": "execute_result"
    }
   ],
   "source": [
    "lst"
   ]
  },
  {
   "cell_type": "code",
   "execution_count": 58,
   "id": "79b74872-115b-4327-893d-0f211a2f36b3",
   "metadata": {},
   "outputs": [
    {
     "data": {
      "text/plain": [
       "<function list.sort(*, key=None, reverse=False)>"
      ]
     },
     "execution_count": 58,
     "metadata": {},
     "output_type": "execute_result"
    }
   ],
   "source": [
    "lst.sort"
   ]
  },
  {
   "cell_type": "code",
   "execution_count": 59,
   "id": "d6eb8210-4a5e-4917-89a7-337cb4c142e0",
   "metadata": {},
   "outputs": [],
   "source": [
    "lst.sort()"
   ]
  },
  {
   "cell_type": "code",
   "execution_count": 60,
   "id": "f0f932c6-2450-4dd6-b953-3a86fe371da6",
   "metadata": {},
   "outputs": [
    {
     "data": {
      "text/plain": [
       "['Antman',\n",
       " 'BLack panthor',\n",
       " 'Black Bolt',\n",
       " 'Captain America',\n",
       " 'Dr. Strange',\n",
       " 'Falkon',\n",
       " 'Hulk',\n",
       " 'Ironman',\n",
       " 'Ironman',\n",
       " 'ms.marvel']"
      ]
     },
     "execution_count": 60,
     "metadata": {},
     "output_type": "execute_result"
    }
   ],
   "source": [
    "lst "
   ]
  },
  {
   "cell_type": "code",
   "execution_count": null,
   "id": "e1b29957-d0ed-4b65-800a-a3ba8899a717",
   "metadata": {},
   "outputs": [],
   "source": [
    "#use of list and looping\n",
    "Marvel_Charecter = {'Antman','BLack panthor','Black Bolt', 'Captain America','Dr. Strange','Falkon','Hulk', 'Ironman','Ironman','ms.marvel'}\n",
    "Marvel_charecter = input(\"Name your favrite marvel super star:\"\n",
    "if Marvel_Charecter.issuperset(Marvel_charecter):\n",
    "    print(\"{} is part of marvel cenematic universe\".format(Marvel_charecter))\n",
    "else:\n",
    "    print(\"{} is not in our marvelcenemetic universe\".format(Marvel_charecter))\n",
    "\n"
   ]
  },
  {
   "cell_type": "code",
   "execution_count": null,
   "id": "3ea9d95a-d529-41e9-b40b-08edba290fd4",
   "metadata": {},
   "outputs": [],
   "source": []
  },
  {
   "cell_type": "code",
   "execution_count": null,
   "id": "3b00e926-3171-4d72-978b-1b535e40b623",
   "metadata": {},
   "outputs": [],
   "source": []
  }
 ],
 "metadata": {
  "kernelspec": {
   "display_name": "Python 3 (ipykernel)",
   "language": "python",
   "name": "python3"
  },
  "language_info": {
   "codemirror_mode": {
    "name": "ipython",
    "version": 3
   },
   "file_extension": ".py",
   "mimetype": "text/x-python",
   "name": "python",
   "nbconvert_exporter": "python",
   "pygments_lexer": "ipython3",
   "version": "3.9.12"
  }
 },
 "nbformat": 4,
 "nbformat_minor": 5
}
