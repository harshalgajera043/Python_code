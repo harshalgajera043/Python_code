{
 "cells": [
  {
   "cell_type": "code",
   "execution_count": 5,
   "id": "6b6ed817-ff14-4a9b-94a1-e45e05f55436",
   "metadata": {},
   "outputs": [
    {
     "name": "stdin",
     "output_type": "stream",
     "text": [
      "Enter your age 7\n"
     ]
    },
    {
     "name": "stdout",
     "output_type": "stream",
     "text": [
      "You are in school\n"
     ]
    }
   ],
   "source": [
    "Age = input(\"Enter your age\")\n",
    "Your_age= int(Age)\n",
    "\n",
    "if (Your_age>=15 and Your_age<=18):\n",
    "    print(\"You are in university\")\n",
    "elif (Your_age<15):\n",
    "    print(\"You are in school\")\n",
    "else:\n",
    "    print(\"You are doing job\")"
   ]
  },
  {
   "cell_type": "code",
   "execution_count": 12,
   "id": "2a81d907-b8d2-4b31-b888-c43370cfe36b",
   "metadata": {},
   "outputs": [
    {
     "name": "stdout",
     "output_type": "stream",
     "text": [
      "1\n",
      "2\n",
      "4\n",
      "5\n",
      "6\n",
      "7\n",
      "8\n",
      "9\n"
     ]
    }
   ],
   "source": [
    "lst = [1,2,3,4,5,6,7,8,9]\n",
    "for x in lst:\n",
    "    if (x==3):\n",
    "        continue\n",
    "    print(x)"
   ]
  },
  {
   "cell_type": "code",
   "execution_count": 6,
   "id": "804de3c3-c215-4dee-92c0-c11163b28030",
   "metadata": {},
   "outputs": [
    {
     "name": "stdout",
     "output_type": "stream",
     "text": [
      "Harshal2\n",
      "Harshal2\n",
      "Harshal2\n"
     ]
    }
   ],
   "source": [
    "Harshal = [\"H\",\"A\",\"R\"]\n",
    "Harshal1=[\"S\",\"H\",\"A\"]\n",
    "Harshal2=[\"A\",\"L\",\"R\"]\n",
    "lst1=[\"Harshal\",\"Harshal1\",\"Harshal2\"]\n",
    "\n",
    "for L in lst1:\n",
    "    print(\"Harshal2\")"
   ]
  },
  {
   "cell_type": "code",
   "execution_count": 7,
   "id": "672fbc95-e6b6-4a25-b0cb-5ce18576a46d",
   "metadata": {},
   "outputs": [
    {
     "name": "stdout",
     "output_type": "stream",
     "text": [
      "['Harshal', 'Harshal1', 'Harshal2']\n"
     ]
    }
   ],
   "source": [
    "print(lst1)"
   ]
  },
  {
   "cell_type": "code",
   "execution_count": 9,
   "id": "18d51b1b-1204-419a-a265-c54e9ef4f5ac",
   "metadata": {},
   "outputs": [
    {
     "data": {
      "text/plain": [
       "list"
      ]
     },
     "execution_count": 9,
     "metadata": {},
     "output_type": "execute_result"
    }
   ],
   "source": [
    "type(lst1)\n",
    "\n"
   ]
  },
  {
   "cell_type": "markdown",
   "id": "e02b0c1a-e673-42f8-80b5-f090e5e91c01",
   "metadata": {},
   "source": [
    "## Arithmetic operators"
   ]
  },
  {
   "cell_type": "code",
   "execution_count": 10,
   "id": "a8f2d1d4-9fba-482e-8443-e1a49b56e206",
   "metadata": {},
   "outputs": [
    {
     "data": {
      "text/plain": [
       "42.02320940239183"
      ]
     },
     "execution_count": 10,
     "metadata": {},
     "output_type": "execute_result"
    }
   ],
   "source": [
    "abs(42.02320940239183080000000000000000000)"
   ]
  },
  {
   "cell_type": "code",
   "execution_count": 11,
   "id": "1266756c-01e7-4f2d-b770-5071d2581948",
   "metadata": {},
   "outputs": [
    {
     "ename": "NameError",
     "evalue": "name 'ceil' is not defined",
     "output_type": "error",
     "traceback": [
      "\u001b[1;31m---------------------------------------------------------------------------\u001b[0m",
      "\u001b[1;31mNameError\u001b[0m                                 Traceback (most recent call last)",
      "Input \u001b[1;32mIn [11]\u001b[0m, in \u001b[0;36m<cell line: 1>\u001b[1;34m()\u001b[0m\n\u001b[1;32m----> 1\u001b[0m \u001b[43mceil\u001b[49m(\u001b[38;5;241m2.13\u001b[39m)\n",
      "\u001b[1;31mNameError\u001b[0m: name 'ceil' is not defined"
     ]
    }
   ],
   "source": [
    "ceil(2.13)"
   ]
  },
  {
   "cell_type": "code",
   "execution_count": 12,
   "id": "a5dad452-6e38-4a35-9e5f-6d94b06d09cd",
   "metadata": {},
   "outputs": [
    {
     "ename": "ModuleNotFoundError",
     "evalue": "No module named 'mathlib'",
     "output_type": "error",
     "traceback": [
      "\u001b[1;31m---------------------------------------------------------------------------\u001b[0m",
      "\u001b[1;31mModuleNotFoundError\u001b[0m                       Traceback (most recent call last)",
      "Input \u001b[1;32mIn [12]\u001b[0m, in \u001b[0;36m<cell line: 1>\u001b[1;34m()\u001b[0m\n\u001b[1;32m----> 1\u001b[0m \u001b[38;5;28;01mimport\u001b[39;00m \u001b[38;5;21;01mmathlib\u001b[39;00m \u001b[38;5;28;01mas\u001b[39;00m \u001b[38;5;21;01mmt\u001b[39;00m\n",
      "\u001b[1;31mModuleNotFoundError\u001b[0m: No module named 'mathlib'"
     ]
    }
   ],
   "source": [
    "import mathlib as mt"
   ]
  },
  {
   "cell_type": "code",
   "execution_count": 13,
   "id": "bcdd79da-2378-4b32-bab3-1a7c26a274e4",
   "metadata": {},
   "outputs": [],
   "source": [
    "import math"
   ]
  },
  {
   "cell_type": "code",
   "execution_count": 14,
   "id": "34da3a35-9118-4502-aa60-50a2fe4304d7",
   "metadata": {},
   "outputs": [
    {
     "ename": "NameError",
     "evalue": "name 'ceil' is not defined",
     "output_type": "error",
     "traceback": [
      "\u001b[1;31m---------------------------------------------------------------------------\u001b[0m",
      "\u001b[1;31mNameError\u001b[0m                                 Traceback (most recent call last)",
      "Input \u001b[1;32mIn [14]\u001b[0m, in \u001b[0;36m<cell line: 1>\u001b[1;34m()\u001b[0m\n\u001b[1;32m----> 1\u001b[0m \u001b[43mceil\u001b[49m (\u001b[38;5;241m3.121\u001b[39m)\n",
      "\u001b[1;31mNameError\u001b[0m: name 'ceil' is not defined"
     ]
    }
   ],
   "source": [
    "ceil (3.121)"
   ]
  },
  {
   "cell_type": "code",
   "execution_count": 16,
   "id": "f42eb7f6-977d-413b-b9b0-288f6c0bf8d1",
   "metadata": {},
   "outputs": [
    {
     "data": {
      "text/plain": [
       "4"
      ]
     },
     "execution_count": 16,
     "metadata": {},
     "output_type": "execute_result"
    }
   ],
   "source": [
    "import math\n",
    "math.ceil(3.1224)"
   ]
  },
  {
   "cell_type": "code",
   "execution_count": 19,
   "id": "999bb98e-c568-4cbd-89fe-2e4240329607",
   "metadata": {},
   "outputs": [
    {
     "data": {
      "text/plain": [
       "array([0, 1, 2, 3, 4, 5, 6, 7, 8, 9])"
      ]
     },
     "execution_count": 19,
     "metadata": {},
     "output_type": "execute_result"
    }
   ],
   "source": [
    "import numpy as np\n",
    "a=np.arange(10)\n",
    "a"
   ]
  },
  {
   "cell_type": "code",
   "execution_count": 26,
   "id": "eb42b70e-648b-4c37-b062-bab0ebb00da0",
   "metadata": {},
   "outputs": [
    {
     "data": {
      "text/plain": [
       "array([[1, 1, 1, 1],\n",
       "       [1, 1, 1, 1],\n",
       "       [1, 1, 1, 1],\n",
       "       [1, 1, 1, 1]])"
      ]
     },
     "execution_count": 26,
     "metadata": {},
     "output_type": "execute_result"
    }
   ],
   "source": [
    "b=np.ones((4,4),int)\n",
    "b"
   ]
  },
  {
   "cell_type": "code",
   "execution_count": 54,
   "id": "4f125967-8743-4e68-9b24-9cbfa37b5a3d",
   "metadata": {},
   "outputs": [
    {
     "data": {
      "text/plain": [
       "<bound method NDFrame.head of        Unnamed: 0  carat        cut color clarity  depth  table  price     x  \\\n",
       "0               1   0.23      Ideal     E     SI2   61.5   55.0    326  3.95   \n",
       "1               2   0.21    Premium     E     SI1   59.8   61.0    326  3.89   \n",
       "2               3   0.23       Good     E     VS1   56.9   65.0    327  4.05   \n",
       "3               4   0.29    Premium     I     VS2   62.4   58.0    334  4.20   \n",
       "4               5   0.31       Good     J     SI2   63.3   58.0    335  4.34   \n",
       "...           ...    ...        ...   ...     ...    ...    ...    ...   ...   \n",
       "53935       53936   0.72      Ideal     D     SI1   60.8   57.0   2757  5.75   \n",
       "53936       53937   0.72       Good     D     SI1   63.1   55.0   2757  5.69   \n",
       "53937       53938   0.70  Very Good     D     SI1   62.8   60.0   2757  5.66   \n",
       "53938       53939   0.86    Premium     H     SI2   61.0   58.0   2757  6.15   \n",
       "53939       53940   0.75      Ideal     D     SI2   62.2   55.0   2757  5.83   \n",
       "\n",
       "          y     z  \n",
       "0      3.98  2.43  \n",
       "1      3.84  2.31  \n",
       "2      4.07  2.31  \n",
       "3      4.23  2.63  \n",
       "4      4.35  2.75  \n",
       "...     ...   ...  \n",
       "53935  5.76  3.50  \n",
       "53936  5.75  3.61  \n",
       "53937  5.68  3.56  \n",
       "53938  6.12  3.74  \n",
       "53939  5.87  3.64  \n",
       "\n",
       "[53940 rows x 11 columns]>"
      ]
     },
     "execution_count": 54,
     "metadata": {},
     "output_type": "execute_result"
    }
   ],
   "source": [
    "import pandas as pd\n",
    "ds1= pd.read_csv(r'C:\\Users\\hgaje\\Downloads\\diamond.csv')\n",
    "ds1.head"
   ]
  },
  {
   "cell_type": "code",
   "execution_count": 55,
   "id": "9afecb28-37da-4481-a56a-62150aafe20f",
   "metadata": {},
   "outputs": [],
   "source": [
    "import matplotlib.pyplot as plt\n"
   ]
  },
  {
   "cell_type": "code",
   "execution_count": 56,
   "id": "1c4ee785-a108-428d-ac2b-bb329c825efc",
   "metadata": {},
   "outputs": [
    {
     "data": {
      "text/plain": [
       "-42"
      ]
     },
     "execution_count": 56,
     "metadata": {},
     "output_type": "execute_result"
    }
   ],
   "source": [
    "import math\n",
    "math.ceil(-42.132)"
   ]
  },
  {
   "cell_type": "code",
   "execution_count": 57,
   "id": "31348bab-5b83-4ca7-8d5a-d6cd62dab943",
   "metadata": {},
   "outputs": [
    {
     "data": {
      "text/plain": [
       "44"
      ]
     },
     "execution_count": 57,
     "metadata": {},
     "output_type": "execute_result"
    }
   ],
   "source": [
    "math.ceil(43.13)"
   ]
  },
  {
   "cell_type": "code",
   "execution_count": 58,
   "id": "13bdb965-74a0-46e4-80db-670ced05f98d",
   "metadata": {},
   "outputs": [
    {
     "data": {
      "text/plain": [
       "64"
      ]
     },
     "execution_count": 58,
     "metadata": {},
     "output_type": "execute_result"
    }
   ],
   "source": [
    "##floor\n",
    "math.floor(64.232)"
   ]
  },
  {
   "cell_type": "code",
   "execution_count": 67,
   "id": "cf91bc62-8465-4b20-b0ac-640c4bcd7ce6",
   "metadata": {},
   "outputs": [
    {
     "ename": "NameError",
     "evalue": "name 'fsum' is not defined",
     "output_type": "error",
     "traceback": [
      "\u001b[1;31m---------------------------------------------------------------------------\u001b[0m",
      "\u001b[1;31mNameError\u001b[0m                                 Traceback (most recent call last)",
      "Input \u001b[1;32mIn [67]\u001b[0m, in \u001b[0;36m<cell line: 1>\u001b[1;34m()\u001b[0m\n\u001b[1;32m----> 1\u001b[0m \u001b[38;5;28mtype\u001b[39m(\u001b[43mfsum\u001b[49m)\n",
      "\u001b[1;31mNameError\u001b[0m: name 'fsum' is not defined"
     ]
    }
   ],
   "source": [
    "type(fsum)"
   ]
  },
  {
   "cell_type": "code",
   "execution_count": 68,
   "id": "1333a21b-6f63-4d3f-825a-082cc72d2827",
   "metadata": {},
   "outputs": [
    {
     "data": {
      "text/plain": [
       "4231"
      ]
     },
     "execution_count": 68,
     "metadata": {},
     "output_type": "execute_result"
    }
   ],
   "source": [
    "math.floor(4231.2423)"
   ]
  },
  {
   "cell_type": "code",
   "execution_count": 69,
   "id": "99744758-411b-4824-988e-607fb997db87",
   "metadata": {},
   "outputs": [
    {
     "data": {
      "text/plain": [
       "-233"
      ]
     },
     "execution_count": 69,
     "metadata": {},
     "output_type": "execute_result"
    }
   ],
   "source": [
    "math.floor(-232.64332)"
   ]
  },
  {
   "cell_type": "code",
   "execution_count": 85,
   "id": "c67c07cd-cc6f-49c9-b693-14380d4fb17c",
   "metadata": {},
   "outputs": [
    {
     "ename": "TypeError",
     "evalue": "math.acosh() takes exactly one argument (0 given)",
     "output_type": "error",
     "traceback": [
      "\u001b[1;31m---------------------------------------------------------------------------\u001b[0m",
      "\u001b[1;31mTypeError\u001b[0m                                 Traceback (most recent call last)",
      "Input \u001b[1;32mIn [85]\u001b[0m, in \u001b[0;36m<cell line: 1>\u001b[1;34m()\u001b[0m\n\u001b[1;32m----> 1\u001b[0m \u001b[43mmath\u001b[49m\u001b[38;5;241;43m.\u001b[39;49m\u001b[43macosh\u001b[49m\u001b[43m(\u001b[49m\u001b[43m)\u001b[49m\n",
      "\u001b[1;31mTypeError\u001b[0m: math.acosh() takes exactly one argument (0 given)"
     ]
    }
   ],
   "source": [
    "math.acosh()"
   ]
  },
  {
   "cell_type": "code",
   "execution_count": null,
   "id": "0fe971a6-9613-4b8c-93bd-6820a8f16166",
   "metadata": {},
   "outputs": [],
   "source": [
    "a = input()\n",
    "p = input()\n",
    "for p ==a:\n",
    "    print(\"Same\")\n",
    "else:\n",
    "    print(\"a and p should be same\")"
   ]
  },
  {
   "cell_type": "code",
   "execution_count": null,
   "id": "721b33fb-29b7-4221-8159-7d0f4fe9aaf3",
   "metadata": {},
   "outputs": [],
   "source": [
    "lst = [1,2,3,4,5,6,7,8,9,10]\n",
    "lst1 = [\"1\",\"2\",\"3\",\"4\",\"5\",\"6\",\"7\"]\n",
    "lst1_int = int(lst1)"
   ]
  },
  {
   "cell_type": "code",
   "execution_count": null,
   "id": "c10a1e64-96fb-43cd-9839-f7de3a63ae23",
   "metadata": {},
   "outputs": [],
   "source": [
    "type(lst1_int)"
   ]
  },
  {
   "cell_type": "code",
   "execution_count": null,
   "id": "eb308670-d3cf-495a-935c-0629b4b4b690",
   "metadata": {},
   "outputs": [],
   "source": []
  }
 ],
 "metadata": {
  "kernelspec": {
   "display_name": "Python 3 (ipykernel)",
   "language": "python",
   "name": "python3"
  },
  "language_info": {
   "codemirror_mode": {
    "name": "ipython",
    "version": 3
   },
   "file_extension": ".py",
   "mimetype": "text/x-python",
   "name": "python",
   "nbconvert_exporter": "python",
   "pygments_lexer": "ipython3",
   "version": "3.9.12"
  }
 },
 "nbformat": 4,
 "nbformat_minor": 5
}
