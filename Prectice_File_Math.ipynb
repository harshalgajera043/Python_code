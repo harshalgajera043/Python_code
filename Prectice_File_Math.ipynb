{
 "cells": [
  {
   "cell_type": "code",
   "execution_count": 1,
   "id": "c92d7294-f118-4dd5-81d6-506a1a60a9a1",
   "metadata": {},
   "outputs": [],
   "source": [
    "import math"
   ]
  },
  {
   "cell_type": "code",
   "execution_count": 2,
   "id": "4927e4dd-ce9d-4f8c-b1d8-ea7971860f00",
   "metadata": {},
   "outputs": [
    {
     "data": {
      "text/plain": [
       "5"
      ]
     },
     "execution_count": 2,
     "metadata": {},
     "output_type": "execute_result"
    }
   ],
   "source": [
    "math.ceil(4.342)"
   ]
  },
  {
   "cell_type": "code",
   "execution_count": 6,
   "id": "85f784dd-f331-4b5d-bbb8-5513a32fd724",
   "metadata": {},
   "outputs": [
    {
     "data": {
      "text/plain": [
       "43.0"
      ]
     },
     "execution_count": 6,
     "metadata": {},
     "output_type": "execute_result"
    }
   ],
   "source": [
    "math.fabs(43)"
   ]
  },
  {
   "cell_type": "markdown",
   "id": "9f126e97-12a3-4717-82ef-033880ba3896",
   "metadata": {},
   "source": [
    "# Log(x) function"
   ]
  },
  {
   "cell_type": "code",
   "execution_count": 12,
   "id": "586e820a-1768-4df9-87a7-ab359fd24cd8",
   "metadata": {},
   "outputs": [
    {
     "data": {
      "text/plain": [
       "0.0"
      ]
     },
     "execution_count": 12,
     "metadata": {},
     "output_type": "execute_result"
    }
   ],
   "source": [
    "math.log(1)"
   ]
  },
  {
   "cell_type": "code",
   "execution_count": 10,
   "id": "2489c07a-f398-48a7-9526-9b3e55a2dd82",
   "metadata": {},
   "outputs": [
    {
     "data": {
      "text/plain": [
       "0.0"
      ]
     },
     "execution_count": 10,
     "metadata": {},
     "output_type": "execute_result"
    }
   ],
   "source": [
    "math.log10(1)"
   ]
  },
  {
   "cell_type": "code",
   "execution_count": 11,
   "id": "1565475f-b895-45d7-9bd1-879bf82596cf",
   "metadata": {},
   "outputs": [
    {
     "data": {
      "text/plain": [
       "1.0"
      ]
     },
     "execution_count": 11,
     "metadata": {},
     "output_type": "execute_result"
    }
   ],
   "source": [
    "math.log10(10)"
   ]
  },
  {
   "cell_type": "code",
   "execution_count": 21,
   "id": "36753334-123a-49ad-ac34-beac8292ad05",
   "metadata": {},
   "outputs": [
    {
     "name": "stdin",
     "output_type": "stream",
     "text": [
      "Enter the value of x: 45\n"
     ]
    },
    {
     "name": "stdout",
     "output_type": "stream",
     "text": [
      "1\n"
     ]
    }
   ],
   "source": [
    "# use of log and input\n",
    "x1 = input(\"Enter the value of x:\")\n",
    "x = int(x)\n",
    "X = math.log(x,45)\n",
    "Int_number = math.ceil(X)\n",
    "print(Int_number)"
   ]
  },
  {
   "cell_type": "code",
   "execution_count": 24,
   "id": "549de127-11d8-4857-9f22-b44e8a945dab",
   "metadata": {},
   "outputs": [
    {
     "data": {
      "text/plain": [
       "1.6532125137753437"
      ]
     },
     "execution_count": 24,
     "metadata": {},
     "output_type": "execute_result"
    }
   ],
   "source": [
    "math.log10(45)"
   ]
  },
  {
   "cell_type": "code",
   "execution_count": 25,
   "id": "1db1e2c3-4086-4036-a8a0-bd3a8a542947",
   "metadata": {},
   "outputs": [
    {
     "data": {
      "text/plain": [
       "5.0"
      ]
     },
     "execution_count": 25,
     "metadata": {},
     "output_type": "execute_result"
    }
   ],
   "source": [
    "math.sqrt(25)"
   ]
  },
  {
   "cell_type": "code",
   "execution_count": 27,
   "id": "e500384b-8a41-4678-97de-6df88c4ce2ca",
   "metadata": {},
   "outputs": [
    {
     "data": {
      "text/plain": [
       "25.0"
      ]
     },
     "execution_count": 27,
     "metadata": {},
     "output_type": "execute_result"
    }
   ],
   "source": [
    "math.pow(5,2)"
   ]
  },
  {
   "cell_type": "code",
   "execution_count": 28,
   "id": "b7cc8a49-fbe9-4ea0-ba9c-b71f3221fc96",
   "metadata": {},
   "outputs": [
    {
     "data": {
      "text/plain": [
       "5.0"
      ]
     },
     "execution_count": 28,
     "metadata": {},
     "output_type": "execute_result"
    }
   ],
   "source": [
    "math.pow(25,0.5)"
   ]
  },
  {
   "cell_type": "code",
   "execution_count": 30,
   "id": "8f54e3b2-8630-4bd6-a42d-95dc56f105e0",
   "metadata": {},
   "outputs": [
    {
     "data": {
      "text/plain": [
       "1.0"
      ]
     },
     "execution_count": 30,
     "metadata": {},
     "output_type": "execute_result"
    }
   ],
   "source": [
    "math.fmod(5,4)"
   ]
  },
  {
   "cell_type": "code",
   "execution_count": 31,
   "id": "50ef83c7-cd47-4884-bf2b-386ebc12be2b",
   "metadata": {},
   "outputs": [
    {
     "data": {
      "text/plain": [
       "(0.75, 2)"
      ]
     },
     "execution_count": 31,
     "metadata": {},
     "output_type": "execute_result"
    }
   ],
   "source": [
    "math.frexp(3)"
   ]
  },
  {
   "cell_type": "code",
   "execution_count": 32,
   "id": "c112f5c2-f40d-44e3-a34a-f243d668fb16",
   "metadata": {},
   "outputs": [
    {
     "data": {
      "text/plain": [
       "2.117000016612675"
      ]
     },
     "execution_count": 32,
     "metadata": {},
     "output_type": "execute_result"
    }
   ],
   "source": [
    "math.exp(0.75)"
   ]
  },
  {
   "cell_type": "code",
   "execution_count": 35,
   "id": "2b4f05e5-a57e-47ef-9609-9a9437999c13",
   "metadata": {},
   "outputs": [
    {
     "data": {
      "text/plain": [
       "1.718281828459045"
      ]
     },
     "execution_count": 35,
     "metadata": {},
     "output_type": "execute_result"
    }
   ],
   "source": [
    "math.expm1(1)"
   ]
  },
  {
   "cell_type": "code",
   "execution_count": 39,
   "id": "21d5ea60-4a4b-4fda-8c41-512d89d9f004",
   "metadata": {},
   "outputs": [
    {
     "data": {
      "text/plain": [
       "6.0"
      ]
     },
     "execution_count": 39,
     "metadata": {},
     "output_type": "execute_result"
    }
   ],
   "source": [
    "math.copysign(6,3)"
   ]
  },
  {
   "cell_type": "code",
   "execution_count": 47,
   "id": "fd12e4c6-720c-4351-8801-7b332534373e",
   "metadata": {},
   "outputs": [
    {
     "data": {
      "text/plain": [
       "-1.0"
      ]
     },
     "execution_count": 47,
     "metadata": {},
     "output_type": "execute_result"
    }
   ],
   "source": [
    "math.cos(math.pi)"
   ]
  },
  {
   "cell_type": "code",
   "execution_count": 51,
   "id": "3258268f-28a1-4cc8-8ca4-b976f681c34a",
   "metadata": {},
   "outputs": [
    {
     "data": {
      "text/plain": [
       "45.0"
      ]
     },
     "execution_count": 51,
     "metadata": {},
     "output_type": "execute_result"
    }
   ],
   "source": [
    "math.degrees(math.pi/4)"
   ]
  },
  {
   "cell_type": "code",
   "execution_count": 52,
   "id": "0bbabd44-6b48-4117-8992-ba3ebbfb1f4b",
   "metadata": {},
   "outputs": [
    {
     "data": {
      "text/plain": [
       "10.0"
      ]
     },
     "execution_count": 52,
     "metadata": {},
     "output_type": "execute_result"
    }
   ],
   "source": [
    "math.dist((4,3),(10,11))"
   ]
  },
  {
   "cell_type": "code",
   "execution_count": 55,
   "id": "96740363-cd02-452b-a5ec-a9f41c5731a0",
   "metadata": {},
   "outputs": [
    {
     "ename": "TypeError",
     "evalue": "'float' object is not callable",
     "output_type": "error",
     "traceback": [
      "\u001b[1;31m---------------------------------------------------------------------------\u001b[0m",
      "\u001b[1;31mTypeError\u001b[0m                                 Traceback (most recent call last)",
      "Input \u001b[1;32mIn [55]\u001b[0m, in \u001b[0;36m<cell line: 1>\u001b[1;34m()\u001b[0m\n\u001b[1;32m----> 1\u001b[0m \u001b[43mmath\u001b[49m\u001b[38;5;241;43m.\u001b[39;49m\u001b[43minf\u001b[49m\u001b[43m(\u001b[49m\u001b[38;5;241;43m10.0343\u001b[39;49m\u001b[43m)\u001b[49m\n",
      "\u001b[1;31mTypeError\u001b[0m: 'float' object is not callable"
     ]
    }
   ],
   "source": [
    "math.inf(10.0343)"
   ]
  },
  {
   "cell_type": "code",
   "execution_count": 61,
   "id": "ffcf69be-3232-47fd-8223-622c8033f7b8",
   "metadata": {},
   "outputs": [
    {
     "data": {
      "text/plain": [
       "1.0"
      ]
     },
     "execution_count": 61,
     "metadata": {},
     "output_type": "execute_result"
    }
   ],
   "source": [
    "math.sin(math.pi/2)"
   ]
  },
  {
   "cell_type": "code",
   "execution_count": 62,
   "id": "652e904e-d459-4bd1-b784-61330a589477",
   "metadata": {},
   "outputs": [
    {
     "data": {
      "text/plain": [
       "0.8427007929497149"
      ]
     },
     "execution_count": 62,
     "metadata": {},
     "output_type": "execute_result"
    }
   ],
   "source": [
    "math.erf(1)"
   ]
  },
  {
   "cell_type": "code",
   "execution_count": 63,
   "id": "664eb22f-40eb-4b95-8097-a5741dc4c70e",
   "metadata": {},
   "outputs": [
    {
     "data": {
      "text/plain": [
       "0.1572992070502851"
      ]
     },
     "execution_count": 63,
     "metadata": {},
     "output_type": "execute_result"
    }
   ],
   "source": [
    "math.erfc(1)"
   ]
  },
  {
   "cell_type": "code",
   "execution_count": 64,
   "id": "bfaa3a72-1c7e-4002-9fc0-bf0e38682f9f",
   "metadata": {},
   "outputs": [
    {
     "data": {
      "text/plain": [
       "(0.75, 2)"
      ]
     },
     "execution_count": 64,
     "metadata": {},
     "output_type": "execute_result"
    }
   ],
   "source": [
    "math.frexp(3)"
   ]
  },
  {
   "cell_type": "code",
   "execution_count": 68,
   "id": "f72d34b3-707c-4c94-99f6-91417ba6965d",
   "metadata": {},
   "outputs": [
    {
     "data": {
      "text/plain": [
       "3.0"
      ]
     },
     "execution_count": 68,
     "metadata": {},
     "output_type": "execute_result"
    }
   ],
   "source": [
    ".75*2**2"
   ]
  },
  {
   "cell_type": "code",
   "execution_count": null,
   "id": "89849ef3-5523-48d3-995a-0025f9efb65c",
   "metadata": {},
   "outputs": [],
   "source": []
  },
  {
   "cell_type": "code",
   "execution_count": null,
   "id": "3190c85f-5c5a-4258-bba6-e24dbe293646",
   "metadata": {},
   "outputs": [],
   "source": []
  },
  {
   "cell_type": "code",
   "execution_count": 90,
   "id": "b589f8a6-b986-4926-be67-bbb63d495fb3",
   "metadata": {},
   "outputs": [
    {
     "data": {
      "text/plain": [
       "True"
      ]
     },
     "execution_count": 90,
     "metadata": {},
     "output_type": "execute_result"
    }
   ],
   "source": [
    "math.isclose(32,32.00000000323235)"
   ]
  },
  {
   "cell_type": "code",
   "execution_count": 93,
   "id": "62156783-5a9a-4742-a530-2182fc3a1c35",
   "metadata": {},
   "outputs": [
    {
     "data": {
      "text/plain": [
       "0.00012340980408667956"
      ]
     },
     "execution_count": 93,
     "metadata": {},
     "output_type": "execute_result"
    }
   ],
   "source": [
    "math.exp(-9)"
   ]
  },
  {
   "cell_type": "code",
   "execution_count": 75,
   "id": "4afa309e-ab83-4827-aabd-fe198da4f5eb",
   "metadata": {},
   "outputs": [
    {
     "ename": "NameError",
     "evalue": "name 'a' is not defined",
     "output_type": "error",
     "traceback": [
      "\u001b[1;31m---------------------------------------------------------------------------\u001b[0m",
      "\u001b[1;31mNameError\u001b[0m                                 Traceback (most recent call last)",
      "Input \u001b[1;32mIn [75]\u001b[0m, in \u001b[0;36m<cell line: 1>\u001b[1;34m()\u001b[0m\n\u001b[1;32m----> 1\u001b[0m \u001b[38;5;28mtype\u001b[39m(\u001b[43ma\u001b[49m)\n",
      "\u001b[1;31mNameError\u001b[0m: name 'a' is not defined"
     ]
    }
   ],
   "source": []
  },
  {
   "cell_type": "code",
   "execution_count": 98,
   "id": "e2f9d026-75a6-42b6-a20b-b5bb8b5bff12",
   "metadata": {},
   "outputs": [
    {
     "name": "stdin",
     "output_type": "stream",
     "text": [
      "Enter the value of first number: 1\n",
      "Enter the value of second number: 2\n",
      "Enter the value of third number: 3\n"
     ]
    },
    {
     "name": "stdout",
     "output_type": "stream",
     "text": [
      "3\n"
     ]
    }
   ],
   "source": [
    "# program to check the max of 3 number\n",
    "First_number = input(\"Enter the value of first number:\")\n",
    "Second_number = input(\"Enter the value of second number:\")\n",
    "Third_number = input(\"Enter the value of third number:\")\n",
    "first_number = int(First_number)\n",
    "second_number = int(Second_number)\n",
    "third_number = int(Third_number)\n",
    "\n",
    "print(max(first_number,second_number,third_number))"
   ]
  },
  {
   "cell_type": "code",
   "execution_count": null,
   "id": "bf8d93a2-e6e2-4eff-b0bb-13f7cf580163",
   "metadata": {},
   "outputs": [],
   "source": [
    "#program to check prime number\n",
    "X = input(\"enter the value of x\")\n",
    "x = int(X)\n",
    "a=1\n",
    "while (int(a)>=1):\n",
    "    a = a+1\n",
    "    if x%a!=0:\n",
    "        print(\"X is prime number\")\n",
    "else:\n",
    "    print(\"X is not a prime number\")"
   ]
  },
  {
   "cell_type": "code",
   "execution_count": null,
   "id": "ac49b980-1eb0-4af1-a796-50a82afbbe92",
   "metadata": {},
   "outputs": [],
   "source": []
  }
 ],
 "metadata": {
  "kernelspec": {
   "display_name": "Python 3 (ipykernel)",
   "language": "python",
   "name": "python3"
  },
  "language_info": {
   "codemirror_mode": {
    "name": "ipython",
    "version": 3
   },
   "file_extension": ".py",
   "mimetype": "text/x-python",
   "name": "python",
   "nbconvert_exporter": "python",
   "pygments_lexer": "ipython3",
   "version": "3.9.12"
  }
 },
 "nbformat": 4,
 "nbformat_minor": 5
}
