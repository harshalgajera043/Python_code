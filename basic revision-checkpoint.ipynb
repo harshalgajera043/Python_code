{
 "cells": [
  {
   "cell_type": "code",
   "execution_count": 1,
   "id": "e136474b",
   "metadata": {},
   "outputs": [
    {
     "name": "stdout",
     "output_type": "stream",
     "text": [
      "\n"
     ]
    }
   ],
   "source": [
    "print()"
   ]
  },
  {
   "cell_type": "code",
   "execution_count": 2,
   "id": "04176c01",
   "metadata": {},
   "outputs": [
    {
     "name": "stdout",
     "output_type": "stream",
     "text": [
      "Harshal\n"
     ]
    }
   ],
   "source": [
    "print(\"Harshal\")"
   ]
  },
  {
   "cell_type": "code",
   "execution_count": 5,
   "id": "eddd43a4",
   "metadata": {},
   "outputs": [
    {
     "name": "stdout",
     "output_type": "stream",
     "text": [
      "3\n",
      "-1\n",
      "2\n",
      "0.5\n",
      "2.0\n",
      "1\n"
     ]
    }
   ],
   "source": [
    "# veriables\n",
    "a = 1\n",
    "b = 2\n",
    "print(a+b)\n",
    "print(a-b)\n",
    "print(a*b)\n",
    "print(a/b)\n",
    "print(b/a)\n",
    "print(a**b)"
   ]
  },
  {
   "cell_type": "code",
   "execution_count": 8,
   "id": "455fd333",
   "metadata": {},
   "outputs": [
    {
     "ename": "SyntaxError",
     "evalue": "invalid syntax (1767241042.py, line 2)",
     "output_type": "error",
     "traceback": [
      "\u001b[1;36m  Input \u001b[1;32mIn [8]\u001b[1;36m\u001b[0m\n\u001b[1;33m    if x**2-2*x+1 == 0;\u001b[0m\n\u001b[1;37m                      ^\u001b[0m\n\u001b[1;31mSyntaxError\u001b[0m\u001b[1;31m:\u001b[0m invalid syntax\n"
     ]
    }
   ],
   "source": []
  },
  {
   "cell_type": "code",
   "execution_count": 10,
   "id": "14a841e6",
   "metadata": {},
   "outputs": [
    {
     "data": {
      "text/plain": [
       "str"
      ]
     },
     "execution_count": 10,
     "metadata": {},
     "output_type": "execute_result"
    }
   ],
   "source": [
    "type(\"Harshal\")"
   ]
  },
  {
   "cell_type": "code",
   "execution_count": 11,
   "id": "e4839ba2",
   "metadata": {},
   "outputs": [],
   "source": [
    "lst = [1,2,3,\"1\",\"2\",\"3\",\"Harshal\"]"
   ]
  },
  {
   "cell_type": "code",
   "execution_count": 12,
   "id": "fbfca22b",
   "metadata": {},
   "outputs": [
    {
     "data": {
      "text/plain": [
       "list"
      ]
     },
     "execution_count": 12,
     "metadata": {},
     "output_type": "execute_result"
    }
   ],
   "source": [
    "type(lst)"
   ]
  },
  {
   "cell_type": "code",
   "execution_count": 14,
   "id": "06f7c9a6",
   "metadata": {},
   "outputs": [
    {
     "data": {
      "text/plain": [
       "{list}"
      ]
     },
     "execution_count": 14,
     "metadata": {},
     "output_type": "execute_result"
    }
   ],
   "source": [
    "{type(lst)}"
   ]
  },
  {
   "cell_type": "code",
   "execution_count": 15,
   "id": "5ea09f42",
   "metadata": {},
   "outputs": [
    {
     "name": "stdout",
     "output_type": "stream",
     "text": [
      "<class 'list'>\n"
     ]
    }
   ],
   "source": [
    "print(type(lst))"
   ]
  },
  {
   "cell_type": "code",
   "execution_count": 16,
   "id": "c7974a2b",
   "metadata": {},
   "outputs": [
    {
     "name": "stdout",
     "output_type": "stream",
     "text": [
      "[1, 2, 3, '1', '2', '3', 'Harshal']\n"
     ]
    }
   ],
   "source": [
    "print(lst)"
   ]
  },
  {
   "cell_type": "code",
   "execution_count": 19,
   "id": "39bfb23f",
   "metadata": {},
   "outputs": [],
   "source": [
    "lst.append(\"b\")"
   ]
  },
  {
   "cell_type": "code",
   "execution_count": 20,
   "id": "0c59d2a2",
   "metadata": {},
   "outputs": [
    {
     "data": {
      "text/plain": [
       "[1, 2, 3, '1', '2', '3', 'Harshal', 2, 'b']"
      ]
     },
     "execution_count": 20,
     "metadata": {},
     "output_type": "execute_result"
    }
   ],
   "source": [
    "lst"
   ]
  },
  {
   "cell_type": "code",
   "execution_count": 22,
   "id": "f6a775f7",
   "metadata": {},
   "outputs": [
    {
     "data": {
      "text/plain": [
       "2"
      ]
     },
     "execution_count": 22,
     "metadata": {},
     "output_type": "execute_result"
    }
   ],
   "source": [
    "lst.count(2)"
   ]
  },
  {
   "cell_type": "code",
   "execution_count": 24,
   "id": "f5b4f232",
   "metadata": {},
   "outputs": [],
   "source": [
    "lst.extend(\"1\")"
   ]
  },
  {
   "cell_type": "code",
   "execution_count": 25,
   "id": "4525bf34",
   "metadata": {},
   "outputs": [
    {
     "data": {
      "text/plain": [
       "[1, 2, 3, '1', '2', '3', 'Harshal', 2, 'b', '1']"
      ]
     },
     "execution_count": 25,
     "metadata": {},
     "output_type": "execute_result"
    }
   ],
   "source": [
    "lst"
   ]
  },
  {
   "cell_type": "code",
   "execution_count": 26,
   "id": "757f53c8",
   "metadata": {},
   "outputs": [],
   "source": [
    "lst.insert(4,\"5\")"
   ]
  },
  {
   "cell_type": "code",
   "execution_count": 27,
   "id": "511cd224",
   "metadata": {},
   "outputs": [
    {
     "data": {
      "text/plain": [
       "[1, 2, 3, '1', '5', '2', '3', 'Harshal', 2, 'b', '1']"
      ]
     },
     "execution_count": 27,
     "metadata": {},
     "output_type": "execute_result"
    }
   ],
   "source": [
    "lst"
   ]
  },
  {
   "cell_type": "code",
   "execution_count": 28,
   "id": "223d07b4",
   "metadata": {},
   "outputs": [
    {
     "data": {
      "text/plain": [
       "'1'"
      ]
     },
     "execution_count": 28,
     "metadata": {},
     "output_type": "execute_result"
    }
   ],
   "source": [
    "lst.pop(3)"
   ]
  },
  {
   "cell_type": "code",
   "execution_count": 29,
   "id": "de6e3ecb",
   "metadata": {},
   "outputs": [
    {
     "data": {
      "text/plain": [
       "[1, 2, 3, '5', '2', '3', 'Harshal', 2, 'b', '1']"
      ]
     },
     "execution_count": 29,
     "metadata": {},
     "output_type": "execute_result"
    }
   ],
   "source": [
    "lst"
   ]
  },
  {
   "cell_type": "code",
   "execution_count": 30,
   "id": "b5a2d23d",
   "metadata": {},
   "outputs": [],
   "source": [
    "lst.remove(1)"
   ]
  },
  {
   "cell_type": "code",
   "execution_count": 31,
   "id": "48b14a83",
   "metadata": {},
   "outputs": [
    {
     "data": {
      "text/plain": [
       "[2, 3, '5', '2', '3', 'Harshal', 2, 'b', '1']"
      ]
     },
     "execution_count": 31,
     "metadata": {},
     "output_type": "execute_result"
    }
   ],
   "source": [
    "lst"
   ]
  },
  {
   "cell_type": "code",
   "execution_count": 34,
   "id": "a9f52679",
   "metadata": {},
   "outputs": [],
   "source": [
    "lst.remove(2)"
   ]
  },
  {
   "cell_type": "code",
   "execution_count": 35,
   "id": "76246381",
   "metadata": {},
   "outputs": [
    {
     "data": {
      "text/plain": [
       "['5', '3', 'Harshal', 2, 'b', '1']"
      ]
     },
     "execution_count": 35,
     "metadata": {},
     "output_type": "execute_result"
    }
   ],
   "source": [
    "lst"
   ]
  },
  {
   "cell_type": "code",
   "execution_count": 36,
   "id": "c32fa4be",
   "metadata": {},
   "outputs": [],
   "source": [
    "lst.reverse()"
   ]
  },
  {
   "cell_type": "code",
   "execution_count": 37,
   "id": "4fd458b4",
   "metadata": {},
   "outputs": [
    {
     "data": {
      "text/plain": [
       "['1', 'b', 2, 'Harshal', '3', '5']"
      ]
     },
     "execution_count": 37,
     "metadata": {},
     "output_type": "execute_result"
    }
   ],
   "source": [
    "lst"
   ]
  },
  {
   "cell_type": "code",
   "execution_count": 52,
   "id": "69cff8d5",
   "metadata": {},
   "outputs": [],
   "source": [
    "Set_marvel = {\"Hulk\",\"She Hulk\",\"Hukkling\",\"Sakaar\",\"Sakaar\",\"Abomination\"}\n",
    "Set_marvel_1 = {\"Hulk\",\"Sakaar\"}"
   ]
  },
  {
   "cell_type": "code",
   "execution_count": 53,
   "id": "932f1823",
   "metadata": {},
   "outputs": [
    {
     "data": {
      "text/plain": [
       "set"
      ]
     },
     "execution_count": 53,
     "metadata": {},
     "output_type": "execute_result"
    }
   ],
   "source": [
    "type(Set_marvel)"
   ]
  },
  {
   "cell_type": "code",
   "execution_count": 54,
   "id": "d95c9687",
   "metadata": {},
   "outputs": [
    {
     "name": "stdout",
     "output_type": "stream",
     "text": [
      "{'Abomination', 'Hukkling', 'She Hulk', 'Sakaar', 'Hulk'}\n",
      "{'Sakaar', 'Hulk'}\n"
     ]
    }
   ],
   "source": [
    "print(Set_marvel)\n",
    "print(Set_marvel_1)"
   ]
  },
  {
   "cell_type": "code",
   "execution_count": 58,
   "id": "9fe8f7fc",
   "metadata": {},
   "outputs": [
    {
     "name": "stdout",
     "output_type": "stream",
     "text": [
      "{'Abomination', 'Hukkling', 'She Hulk'}\n",
      "{'Sakaar', 'Hulk'}\n",
      "{'Abomination', 'Hukkling', 'She Hulk'}\n"
     ]
    }
   ],
   "source": [
    "print(Set_marvel.difference(Set_marvel_1))\n",
    "print(Set_marvel_1)\n",
    "print(Set_marvel)"
   ]
  },
  {
   "cell_type": "code",
   "execution_count": 56,
   "id": "ffadf994",
   "metadata": {},
   "outputs": [
    {
     "name": "stdout",
     "output_type": "stream",
     "text": [
      "None\n"
     ]
    }
   ],
   "source": [
    "print(Set_marvel.difference_update(Set_marvel_1))"
   ]
  },
  {
   "cell_type": "code",
   "execution_count": 59,
   "id": "25e68644",
   "metadata": {},
   "outputs": [],
   "source": [
    "Set_marvel = {\"Hulk\",\"She Hulk\",\"Hukkling\",\"Sakaar\",\"Sakaar\",\"Abomination\"}\n",
    "Set_marvel_1 = {\"Hulk\",\"Sakaar\"}"
   ]
  },
  {
   "cell_type": "code",
   "execution_count": 60,
   "id": "ec8a2984",
   "metadata": {},
   "outputs": [
    {
     "name": "stdout",
     "output_type": "stream",
     "text": [
      "{'Abomination', 'Hukkling', 'She Hulk', 'Sakaar', 'Hulk'}\n"
     ]
    }
   ],
   "source": [
    "print(Set_marvel)"
   ]
  },
  {
   "cell_type": "code",
   "execution_count": 61,
   "id": "560cd083",
   "metadata": {},
   "outputs": [
    {
     "name": "stdout",
     "output_type": "stream",
     "text": [
      "{'Sakaar', 'Hulk'}\n"
     ]
    }
   ],
   "source": [
    "print(Set_marvel_1)"
   ]
  },
  {
   "cell_type": "code",
   "execution_count": 63,
   "id": "7ef290d1",
   "metadata": {},
   "outputs": [
    {
     "name": "stdout",
     "output_type": "stream",
     "text": [
      "{'Sakaar', 'Hulk'}\n"
     ]
    }
   ],
   "source": [
    "print(Set_marvel_1.intersection(Set_marvel))"
   ]
  },
  {
   "cell_type": "code",
   "execution_count": 64,
   "id": "5c04b282",
   "metadata": {},
   "outputs": [
    {
     "data": {
      "text/plain": [
       "{'Hulk', 'Sakaar'}"
      ]
     },
     "execution_count": 64,
     "metadata": {},
     "output_type": "execute_result"
    }
   ],
   "source": [
    "Set_marvel_1"
   ]
  },
  {
   "cell_type": "code",
   "execution_count": 65,
   "id": "f420b697",
   "metadata": {},
   "outputs": [
    {
     "data": {
      "text/plain": [
       "{'Abomination', 'Hukkling', 'Hulk', 'Sakaar', 'She Hulk'}"
      ]
     },
     "execution_count": 65,
     "metadata": {},
     "output_type": "execute_result"
    }
   ],
   "source": [
    "Set_marvel"
   ]
  },
  {
   "cell_type": "code",
   "execution_count": 66,
   "id": "2be936e3",
   "metadata": {},
   "outputs": [
    {
     "data": {
      "text/plain": [
       "['1', 'b', 2, 'Harshal', '3', '5']"
      ]
     },
     "execution_count": 66,
     "metadata": {},
     "output_type": "execute_result"
    }
   ],
   "source": [
    "lst"
   ]
  },
  {
   "cell_type": "code",
   "execution_count": 67,
   "id": "050fd9ea",
   "metadata": {},
   "outputs": [
    {
     "ename": "SyntaxError",
     "evalue": "invalid syntax (3274050523.py, line 1)",
     "output_type": "error",
     "traceback": [
      "\u001b[1;36m  Input \u001b[1;32mIn [67]\u001b[1;36m\u001b[0m\n\u001b[1;33m    lst[]\u001b[0m\n\u001b[1;37m        ^\u001b[0m\n\u001b[1;31mSyntaxError\u001b[0m\u001b[1;31m:\u001b[0m invalid syntax\n"
     ]
    }
   ],
   "source": [
    "lst[]"
   ]
  },
  {
   "cell_type": "code",
   "execution_count": 68,
   "id": "3f0c1886",
   "metadata": {},
   "outputs": [
    {
     "data": {
      "text/plain": [
       "['1', 'b', 2, 'Harshal', '3', '5']"
      ]
     },
     "execution_count": 68,
     "metadata": {},
     "output_type": "execute_result"
    }
   ],
   "source": [
    "lst[:]"
   ]
  },
  {
   "cell_type": "code",
   "execution_count": 69,
   "id": "871eb38e",
   "metadata": {},
   "outputs": [
    {
     "data": {
      "text/plain": [
       "['b', 2]"
      ]
     },
     "execution_count": 69,
     "metadata": {},
     "output_type": "execute_result"
    }
   ],
   "source": [
    "lst[1:3]"
   ]
  },
  {
   "cell_type": "code",
   "execution_count": 72,
   "id": "06a1de6d",
   "metadata": {},
   "outputs": [
    {
     "data": {
      "text/plain": [
       "{'Abomination', 'Hukkling', 'Hulk', 'Sakaar', 'She Hulk'}"
      ]
     },
     "execution_count": 72,
     "metadata": {},
     "output_type": "execute_result"
    }
   ],
   "source": [
    "Set_marvel"
   ]
  },
  {
   "cell_type": "code",
   "execution_count": 77,
   "id": "58227855",
   "metadata": {},
   "outputs": [],
   "source": [
    "My_Dict = {\"car1\" : \"BMW\", \"car2\" : \"Audi\" , \"car3\" : \"KGF\"}"
   ]
  },
  {
   "cell_type": "code",
   "execution_count": 78,
   "id": "416087a7",
   "metadata": {},
   "outputs": [
    {
     "data": {
      "text/plain": [
       "dict"
      ]
     },
     "execution_count": 78,
     "metadata": {},
     "output_type": "execute_result"
    }
   ],
   "source": [
    "type(My_Dict)"
   ]
  },
  {
   "cell_type": "code",
   "execution_count": 80,
   "id": "6506eac0",
   "metadata": {},
   "outputs": [
    {
     "ename": "SyntaxError",
     "evalue": "invalid syntax (1254954457.py, line 2)",
     "output_type": "error",
     "traceback": [
      "\u001b[1;36m  Input \u001b[1;32mIn [80]\u001b[1;36m\u001b[0m\n\u001b[1;33m    df = pd.read_excel(C:\\Users\\hgaje\\Desktop\\admission application)\u001b[0m\n\u001b[1;37m                        ^\u001b[0m\n\u001b[1;31mSyntaxError\u001b[0m\u001b[1;31m:\u001b[0m invalid syntax\n"
     ]
    }
   ],
   "source": [
    "import pandas as pd\n",
    "df = pd.read_excel()"
   ]
  },
  {
   "cell_type": "code",
   "execution_count": 81,
   "id": "237e64b0",
   "metadata": {},
   "outputs": [],
   "source": [
    "My_tuple = ()"
   ]
  },
  {
   "cell_type": "code",
   "execution_count": 82,
   "id": "dfeeb567",
   "metadata": {},
   "outputs": [
    {
     "data": {
      "text/plain": [
       "tuple"
      ]
     },
     "execution_count": 82,
     "metadata": {},
     "output_type": "execute_result"
    }
   ],
   "source": [
    "type(My_tuple)"
   ]
  },
  {
   "cell_type": "code",
   "execution_count": 84,
   "id": "985da442",
   "metadata": {},
   "outputs": [
    {
     "data": {
      "text/plain": [
       "{2, 3, 4}"
      ]
     },
     "execution_count": 84,
     "metadata": {},
     "output_type": "execute_result"
    }
   ],
   "source": [
    "a = {1,2,3}\n",
    "b = {2,3,4}\n",
    "a and b"
   ]
  },
  {
   "cell_type": "code",
   "execution_count": 85,
   "id": "7424658a",
   "metadata": {},
   "outputs": [
    {
     "data": {
      "text/plain": [
       "{1, 2, 3}"
      ]
     },
     "execution_count": 85,
     "metadata": {},
     "output_type": "execute_result"
    }
   ],
   "source": [
    "a or b"
   ]
  },
  {
   "cell_type": "code",
   "execution_count": 86,
   "id": "f4a077d0",
   "metadata": {},
   "outputs": [
    {
     "data": {
      "text/plain": [
       "False"
      ]
     },
     "execution_count": 86,
     "metadata": {},
     "output_type": "execute_result"
    }
   ],
   "source": [
    "a == b"
   ]
  },
  {
   "cell_type": "code",
   "execution_count": 87,
   "id": "e30a942b",
   "metadata": {},
   "outputs": [
    {
     "name": "stdout",
     "output_type": "stream",
     "text": [
      "False\n"
     ]
    }
   ],
   "source": [
    "print( a == b)"
   ]
  },
  {
   "cell_type": "code",
   "execution_count": 88,
   "id": "d7ce5909",
   "metadata": {},
   "outputs": [
    {
     "name": "stdout",
     "output_type": "stream",
     "text": [
      "False\n"
     ]
    }
   ],
   "source": [
    "print(a is b)"
   ]
  },
  {
   "cell_type": "code",
   "execution_count": 91,
   "id": "69ee6a08",
   "metadata": {},
   "outputs": [
    {
     "name": "stdout",
     "output_type": "stream",
     "text": [
      "True\n"
     ]
    }
   ],
   "source": [
    "print(a is not b)"
   ]
  },
  {
   "cell_type": "code",
   "execution_count": 92,
   "id": "5922e592",
   "metadata": {},
   "outputs": [
    {
     "data": {
      "text/plain": [
       "False"
      ]
     },
     "execution_count": 92,
     "metadata": {},
     "output_type": "execute_result"
    }
   ],
   "source": [
    "a == b"
   ]
  },
  {
   "cell_type": "code",
   "execution_count": 93,
   "id": "71096530",
   "metadata": {},
   "outputs": [
    {
     "data": {
      "text/plain": [
       "True"
      ]
     },
     "execution_count": 93,
     "metadata": {},
     "output_type": "execute_result"
    }
   ],
   "source": [
    "a !=  b"
   ]
  },
  {
   "cell_type": "code",
   "execution_count": 94,
   "id": "7f6b2468",
   "metadata": {},
   "outputs": [
    {
     "data": {
      "text/plain": [
       "False"
      ]
     },
     "execution_count": 94,
     "metadata": {},
     "output_type": "execute_result"
    }
   ],
   "source": [
    "a < b"
   ]
  },
  {
   "cell_type": "code",
   "execution_count": 95,
   "id": "896ce4db",
   "metadata": {},
   "outputs": [
    {
     "data": {
      "text/plain": [
       "False"
      ]
     },
     "execution_count": 95,
     "metadata": {},
     "output_type": "execute_result"
    }
   ],
   "source": [
    "b > a"
   ]
  },
  {
   "cell_type": "code",
   "execution_count": 96,
   "id": "252c1ba8",
   "metadata": {},
   "outputs": [
    {
     "data": {
      "text/plain": [
       "False"
      ]
     },
     "execution_count": 96,
     "metadata": {},
     "output_type": "execute_result"
    }
   ],
   "source": [
    "a > b"
   ]
  },
  {
   "cell_type": "code",
   "execution_count": 98,
   "id": "b50198f1",
   "metadata": {},
   "outputs": [
    {
     "name": "stdout",
     "output_type": "stream",
     "text": [
      "1.25\n",
      "1\n"
     ]
    }
   ],
   "source": [
    "a = 5\n",
    "b = 4 \n",
    "print(a / b)\n",
    "print(a // b)"
   ]
  },
  {
   "cell_type": "code",
   "execution_count": 118,
   "id": "9be3ea62",
   "metadata": {},
   "outputs": [
    {
     "ename": "SyntaxError",
     "evalue": "cannot assign to function call (2313000433.py, line 2)",
     "output_type": "error",
     "traceback": [
      "\u001b[1;36m  Input \u001b[1;32mIn [118]\u001b[1;36m\u001b[0m\n\u001b[1;33m    mt.isfinite() = 0\u001b[0m\n\u001b[1;37m    ^\u001b[0m\n\u001b[1;31mSyntaxError\u001b[0m\u001b[1;31m:\u001b[0m cannot assign to function call\n"
     ]
    }
   ],
   "source": [
    "import math as mt #math_function_ceil_floor\n",
    "mt.isfinite() = 0\n",
    "while(print(mt.isfinite())):\n",
    "    if mt.isfinite()==0:\n",
    "        continue\n",
    "print(mt.ceil(1.23420124000000))\n",
    "print(mt.floor(1.2132))"
   ]
  },
  {
   "cell_type": "code",
   "execution_count": 124,
   "id": "df55ae83",
   "metadata": {},
   "outputs": [
    {
     "data": {
      "text/plain": [
       "7.38905609893065"
      ]
     },
     "execution_count": 124,
     "metadata": {},
     "output_type": "execute_result"
    }
   ],
   "source": [
    "mt.fabs(mt.exp(2))"
   ]
  },
  {
   "cell_type": "code",
   "execution_count": 125,
   "id": "245643ba",
   "metadata": {},
   "outputs": [
    {
     "data": {
      "text/plain": [
       "3.141592653589793"
      ]
     },
     "execution_count": 125,
     "metadata": {},
     "output_type": "execute_result"
    }
   ],
   "source": [
    "mt.pi"
   ]
  },
  {
   "cell_type": "code",
   "execution_count": 128,
   "id": "aef40137",
   "metadata": {},
   "outputs": [
    {
     "data": {
      "text/plain": [
       "4.0"
      ]
     },
     "execution_count": 128,
     "metadata": {},
     "output_type": "execute_result"
    }
   ],
   "source": [
    "mt.fabs(mt.ceil(mt.pi))"
   ]
  },
  {
   "cell_type": "code",
   "execution_count": null,
   "id": "4fa3fcbd",
   "metadata": {},
   "outputs": [],
   "source": []
  }
 ],
 "metadata": {
  "kernelspec": {
   "display_name": "Python 3 (ipykernel)",
   "language": "python",
   "name": "python3"
  },
  "language_info": {
   "codemirror_mode": {
    "name": "ipython",
    "version": 3
   },
   "file_extension": ".py",
   "mimetype": "text/x-python",
   "name": "python",
   "nbconvert_exporter": "python",
   "pygments_lexer": "ipython3",
   "version": "3.9.12"
  }
 },
 "nbformat": 4,
 "nbformat_minor": 5
}
