{
 "cells": [
  {
   "cell_type": "code",
   "execution_count": 1,
   "id": "9c000266",
   "metadata": {},
   "outputs": [],
   "source": [
    "import numpy as np"
   ]
  },
  {
   "cell_type": "code",
   "execution_count": 2,
   "id": "dcdc4105",
   "metadata": {},
   "outputs": [],
   "source": [
    "arr = np.arange(1,100,2.5)"
   ]
  },
  {
   "cell_type": "code",
   "execution_count": 3,
   "id": "0bd39533",
   "metadata": {},
   "outputs": [
    {
     "name": "stdout",
     "output_type": "stream",
     "text": [
      "[ 1.   3.5  6.   8.5 11.  13.5 16.  18.5 21.  23.5 26.  28.5 31.  33.5\n",
      " 36.  38.5 41.  43.5 46.  48.5 51.  53.5 56.  58.5 61.  63.5 66.  68.5\n",
      " 71.  73.5 76.  78.5 81.  83.5 86.  88.5 91.  93.5 96.  98.5]\n"
     ]
    }
   ],
   "source": [
    "print(arr)"
   ]
  },
  {
   "cell_type": "code",
   "execution_count": 4,
   "id": "8654e356",
   "metadata": {},
   "outputs": [
    {
     "data": {
      "text/plain": [
       "40"
      ]
     },
     "execution_count": 4,
     "metadata": {},
     "output_type": "execute_result"
    }
   ],
   "source": [
    "arr.size"
   ]
  },
  {
   "cell_type": "code",
   "execution_count": 6,
   "id": "045a160c",
   "metadata": {},
   "outputs": [],
   "source": [
    "arr1 = arr.reshape(2,2,2,5)"
   ]
  },
  {
   "cell_type": "code",
   "execution_count": 7,
   "id": "acda80a8",
   "metadata": {},
   "outputs": [
    {
     "name": "stdout",
     "output_type": "stream",
     "text": [
      "[[[[ 1.   3.5  6.   8.5 11. ]\n",
      "   [13.5 16.  18.5 21.  23.5]]\n",
      "\n",
      "  [[26.  28.5 31.  33.5 36. ]\n",
      "   [38.5 41.  43.5 46.  48.5]]]\n",
      "\n",
      "\n",
      " [[[51.  53.5 56.  58.5 61. ]\n",
      "   [63.5 66.  68.5 71.  73.5]]\n",
      "\n",
      "  [[76.  78.5 81.  83.5 86. ]\n",
      "   [88.5 91.  93.5 96.  98.5]]]]\n"
     ]
    }
   ],
   "source": [
    "print(arr1)"
   ]
  },
  {
   "cell_type": "code",
   "execution_count": 8,
   "id": "ca3195c3",
   "metadata": {},
   "outputs": [
    {
     "name": "stdout",
     "output_type": "stream",
     "text": [
      "4\n"
     ]
    }
   ],
   "source": [
    "print(arr1.ndim)"
   ]
  },
  {
   "cell_type": "code",
   "execution_count": 9,
   "id": "480d64ae",
   "metadata": {},
   "outputs": [
    {
     "data": {
      "text/plain": [
       "43.5"
      ]
     },
     "execution_count": 9,
     "metadata": {},
     "output_type": "execute_result"
    }
   ],
   "source": [
    "arr1[0,1,1,2]"
   ]
  },
  {
   "cell_type": "code",
   "execution_count": 11,
   "id": "81fd29d2",
   "metadata": {},
   "outputs": [
    {
     "data": {
      "text/plain": [
       "array([[[[31. , 33.5],\n",
       "         [43.5, 46. ]]],\n",
       "\n",
       "\n",
       "       [[[81. , 83.5],\n",
       "         [93.5, 96. ]]]])"
      ]
     },
     "execution_count": 11,
     "metadata": {},
     "output_type": "execute_result"
    }
   ],
   "source": [
    "arr1[:,1:,:,2:4]"
   ]
  },
  {
   "cell_type": "code",
   "execution_count": 12,
   "id": "7f5268a4",
   "metadata": {},
   "outputs": [
    {
     "data": {
      "text/plain": [
       "array([[[[ 1. ,  6. ],\n",
       "         [13.5, 18.5]],\n",
       "\n",
       "        [[26. , 31. ],\n",
       "         [38.5, 43.5]]],\n",
       "\n",
       "\n",
       "       [[[51. , 56. ],\n",
       "         [63.5, 68.5]],\n",
       "\n",
       "        [[76. , 81. ],\n",
       "         [88.5, 93.5]]]])"
      ]
     },
     "execution_count": 12,
     "metadata": {},
     "output_type": "execute_result"
    }
   ],
   "source": [
    "arr1[:,:,:,0:4:2]"
   ]
  },
  {
   "cell_type": "code",
   "execution_count": 15,
   "id": "3babd1b1",
   "metadata": {},
   "outputs": [
    {
     "data": {
      "text/plain": [
       "array([[0, 0, 0],\n",
       "       [0, 0, 0]])"
      ]
     },
     "execution_count": 15,
     "metadata": {},
     "output_type": "execute_result"
    }
   ],
   "source": [
    "np.zeros((2,3), dtype = np.int32)"
   ]
  },
  {
   "cell_type": "code",
   "execution_count": 17,
   "id": "3ee351ae",
   "metadata": {},
   "outputs": [],
   "source": [
    "a = np.full((2,3),8,dtype = np.float32)"
   ]
  },
  {
   "cell_type": "code",
   "execution_count": 18,
   "id": "d4046a62",
   "metadata": {},
   "outputs": [
    {
     "name": "stdout",
     "output_type": "stream",
     "text": [
      "[[8. 8. 8.]\n",
      " [8. 8. 8.]]\n"
     ]
    }
   ],
   "source": [
    "print(a)"
   ]
  },
  {
   "cell_type": "code",
   "execution_count": 19,
   "id": "5e31041c",
   "metadata": {},
   "outputs": [],
   "source": [
    "a[:,1:] = 4"
   ]
  },
  {
   "cell_type": "code",
   "execution_count": 20,
   "id": "895cf0a3",
   "metadata": {},
   "outputs": [
    {
     "data": {
      "text/plain": [
       "array([[8., 4., 4.],\n",
       "       [8., 4., 4.]], dtype=float32)"
      ]
     },
     "execution_count": 20,
     "metadata": {},
     "output_type": "execute_result"
    }
   ],
   "source": [
    "a"
   ]
  },
  {
   "cell_type": "code",
   "execution_count": 31,
   "id": "816af0a1",
   "metadata": {},
   "outputs": [],
   "source": [
    "b = np.random.randint(0, 100,(3,4,5,6), dtype = np.int64)"
   ]
  },
  {
   "cell_type": "code",
   "execution_count": 32,
   "id": "f127c3e9",
   "metadata": {},
   "outputs": [
    {
     "data": {
      "text/plain": [
       "array([[[[60, 71, 99, 24, 67, 83],\n",
       "         [76, 54, 19, 29, 34, 74],\n",
       "         [25, 81, 13, 37, 19, 40],\n",
       "         [21, 25,  2,  4, 61, 36],\n",
       "         [96, 70, 21, 93, 75, 31]],\n",
       "\n",
       "        [[16, 42, 65, 25, 27, 43],\n",
       "         [10, 11, 65, 91, 17, 34],\n",
       "         [77, 67, 24, 13, 67, 70],\n",
       "         [27, 58, 82, 16, 60, 32],\n",
       "         [88, 70, 44, 95, 89,  8]],\n",
       "\n",
       "        [[71, 73, 94, 64, 77, 90],\n",
       "         [20, 87, 89, 13, 91,  8],\n",
       "         [63, 65, 31, 12, 79, 38],\n",
       "         [29, 47,  6, 96, 91, 83],\n",
       "         [ 3, 30, 32,  4, 12, 22]],\n",
       "\n",
       "        [[81, 99, 47, 37, 39,  1],\n",
       "         [ 9, 10, 96, 94, 58, 21],\n",
       "         [43, 68, 89, 95, 15, 81],\n",
       "         [53, 10, 33, 86, 61, 95],\n",
       "         [56, 29, 60, 93, 98, 72]]],\n",
       "\n",
       "\n",
       "       [[[55, 32, 39, 48, 61, 42],\n",
       "         [69, 59, 26,  1, 36, 30],\n",
       "         [ 2, 99, 65, 55, 26, 99],\n",
       "         [ 1, 59, 39, 72,  7, 66],\n",
       "         [19,  7, 68, 71, 95, 93]],\n",
       "\n",
       "        [[37, 11, 96, 60, 54, 55],\n",
       "         [99, 55,  6, 97, 79, 19],\n",
       "         [33, 98, 52,  7, 48, 92],\n",
       "         [66, 72, 29, 51, 44, 79],\n",
       "         [61, 61, 10, 26, 93, 61]],\n",
       "\n",
       "        [[83, 39, 49,  6, 57, 89],\n",
       "         [44, 49, 39, 22, 63,  8],\n",
       "         [67, 15, 80, 29, 48, 86],\n",
       "         [99,  0, 48, 62, 54, 25],\n",
       "         [69, 40, 74, 24, 36, 85]],\n",
       "\n",
       "        [[39, 52, 90, 54, 35, 22],\n",
       "         [47, 28, 42, 20, 89, 71],\n",
       "         [52, 58, 83,  9, 20, 88],\n",
       "         [69, 30, 89, 18, 83, 64],\n",
       "         [44, 26, 92, 82, 55, 91]]],\n",
       "\n",
       "\n",
       "       [[[90, 89, 91, 65,  1, 96],\n",
       "         [ 4, 79, 73, 18, 33, 34],\n",
       "         [61, 12, 10, 48, 67,  7],\n",
       "         [84,  9, 81, 79, 66, 22],\n",
       "         [89,  4, 75, 37, 30, 38]],\n",
       "\n",
       "        [[71, 97, 24, 67, 90, 66],\n",
       "         [46, 44,  2, 44, 11, 60],\n",
       "         [49, 80, 68, 58,  9, 48],\n",
       "         [35, 90, 48, 93, 24, 91],\n",
       "         [57,  0, 88, 65, 95, 95]],\n",
       "\n",
       "        [[21, 60, 75, 26,  7, 46],\n",
       "         [62, 56, 87, 54, 82, 69],\n",
       "         [62, 37, 34,  8, 58, 93],\n",
       "         [79, 72, 38, 16,  4, 22],\n",
       "         [58, 80, 56, 17, 39, 49]],\n",
       "\n",
       "        [[ 6, 19, 40, 45, 33,  9],\n",
       "         [42, 84, 23, 74,  1, 89],\n",
       "         [ 2, 48, 42, 34, 28, 86],\n",
       "         [41, 45, 77,  2, 85, 21],\n",
       "         [17, 22, 95, 31, 80, 73]]]], dtype=int64)"
      ]
     },
     "execution_count": 32,
     "metadata": {},
     "output_type": "execute_result"
    }
   ],
   "source": [
    "b"
   ]
  },
  {
   "cell_type": "code",
   "execution_count": 33,
   "id": "9a8499fd",
   "metadata": {},
   "outputs": [
    {
     "data": {
      "text/plain": [
       "360"
      ]
     },
     "execution_count": 33,
     "metadata": {},
     "output_type": "execute_result"
    }
   ],
   "source": [
    "b.size"
   ]
  },
  {
   "cell_type": "code",
   "execution_count": null,
   "id": "ba356051",
   "metadata": {},
   "outputs": [],
   "source": []
  },
  {
   "cell_type": "code",
   "execution_count": null,
   "id": "8e5c5b43",
   "metadata": {},
   "outputs": [],
   "source": []
  }
 ],
 "metadata": {
  "kernelspec": {
   "display_name": "Python 3 (ipykernel)",
   "language": "python",
   "name": "python3"
  },
  "language_info": {
   "codemirror_mode": {
    "name": "ipython",
    "version": 3
   },
   "file_extension": ".py",
   "mimetype": "text/x-python",
   "name": "python",
   "nbconvert_exporter": "python",
   "pygments_lexer": "ipython3",
   "version": "3.9.12"
  }
 },
 "nbformat": 4,
 "nbformat_minor": 5
}
