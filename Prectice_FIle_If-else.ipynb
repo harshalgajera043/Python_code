{
 "cells": [
  {
   "cell_type": "code",
   "execution_count": 1,
   "id": "153ca9af-cfcd-4d82-99b9-252785ee0979",
   "metadata": {},
   "outputs": [
    {
     "ename": "NameError",
     "evalue": "name 'h' is not defined",
     "output_type": "error",
     "traceback": [
      "\u001b[1;31m---------------------------------------------------------------------------\u001b[0m",
      "\u001b[1;31mNameError\u001b[0m                                 Traceback (most recent call last)",
      "Input \u001b[1;32mIn [1]\u001b[0m, in \u001b[0;36m<cell line: 1>\u001b[1;34m()\u001b[0m\n\u001b[1;32m----> 1\u001b[0m \u001b[43mh\u001b[49m\n",
      "\u001b[1;31mNameError\u001b[0m: name 'h' is not defined"
     ]
    }
   ],
   "source": [
    "h"
   ]
  },
  {
   "cell_type": "code",
   "execution_count": 2,
   "id": "23e06cee-6fbf-479e-8437-c9790f5d0a82",
   "metadata": {},
   "outputs": [],
   "source": [
    "a= 1"
   ]
  },
  {
   "cell_type": "code",
   "execution_count": 3,
   "id": "a00e88c0-a995-444c-b4ef-9b11ec4a6618",
   "metadata": {},
   "outputs": [
    {
     "data": {
      "text/plain": [
       "1"
      ]
     },
     "execution_count": 3,
     "metadata": {},
     "output_type": "execute_result"
    }
   ],
   "source": [
    "a"
   ]
  },
  {
   "cell_type": "code",
   "execution_count": null,
   "id": "a66ab5a7-b849-4a25-9d42-9a4230576685",
   "metadata": {},
   "outputs": [],
   "source": [
    "i=0\n",
    "even_sum=0\n",
    "odd_sum=0\n",
    "\n",
    "while(i<=10):\n",
    "    if(i%2==0):\n",
    "        even_sum=even_sum+i\n",
    "    else:\n",
    "        odd_sum=odd_sum+i\n",
    "print(even_sum,odd_sum)\n",
    "print(\"your even_sum is {} and odd_sum is {}\".format(even_sum,odd_sum))"
   ]
  },
  {
   "cell_type": "code",
   "execution_count": null,
   "id": "a2fbd765-34d3-4cfd-9105-fe4b631a80d0",
   "metadata": {},
   "outputs": [],
   "source": [
    "i=0\n",
    "while(i<=15):\n",
    "  i=i+1\n",
    "  print(i)"
   ]
  },
  {
   "cell_type": "code",
   "execution_count": 1,
   "id": "0a783ef3-6d4d-48cf-89f1-3d5ac9645603",
   "metadata": {},
   "outputs": [
    {
     "data": {
      "text/plain": [
       "True"
      ]
     },
     "execution_count": 1,
     "metadata": {},
     "output_type": "execute_result"
    }
   ],
   "source": [
    "True"
   ]
  },
  {
   "cell_type": "code",
   "execution_count": 2,
   "id": "5ea1456d-8afd-4e04-8967-66928ee410b0",
   "metadata": {},
   "outputs": [
    {
     "ename": "NameError",
     "evalue": "name 'FLSE' is not defined",
     "output_type": "error",
     "traceback": [
      "\u001b[1;31m---------------------------------------------------------------------------\u001b[0m",
      "\u001b[1;31mNameError\u001b[0m                                 Traceback (most recent call last)",
      "Input \u001b[1;32mIn [2]\u001b[0m, in \u001b[0;36m<cell line: 1>\u001b[1;34m()\u001b[0m\n\u001b[1;32m----> 1\u001b[0m \u001b[43mFLSE\u001b[49m\n",
      "\u001b[1;31mNameError\u001b[0m: name 'FLSE' is not defined"
     ]
    }
   ],
   "source": [
    "FLSE"
   ]
  },
  {
   "cell_type": "code",
   "execution_count": 3,
   "id": "2e82ae4e-34e2-4459-9254-39d664b434b7",
   "metadata": {},
   "outputs": [
    {
     "data": {
      "text/plain": [
       "False"
      ]
     },
     "execution_count": 3,
     "metadata": {},
     "output_type": "execute_result"
    }
   ],
   "source": [
    "False"
   ]
  },
  {
   "cell_type": "code",
   "execution_count": 4,
   "id": "164df286-0b19-4d55-b438-142470b1074d",
   "metadata": {},
   "outputs": [
    {
     "data": {
      "text/plain": [
       "bool"
      ]
     },
     "execution_count": 4,
     "metadata": {},
     "output_type": "execute_result"
    }
   ],
   "source": [
    "type(True)"
   ]
  },
  {
   "cell_type": "code",
   "execution_count": 5,
   "id": "0022ef2a-2383-4cfa-ae89-03958e178775",
   "metadata": {},
   "outputs": [
    {
     "data": {
      "text/plain": [
       "bool"
      ]
     },
     "execution_count": 5,
     "metadata": {},
     "output_type": "execute_result"
    }
   ],
   "source": [
    "type(False)"
   ]
  },
  {
   "cell_type": "code",
   "execution_count": 6,
   "id": "8252a79e-8a60-4799-a4a3-34d379fc4773",
   "metadata": {},
   "outputs": [
    {
     "ename": "SyntaxError",
     "evalue": "invalid syntax (561218340.py, line 1)",
     "output_type": "error",
     "traceback": [
      "\u001b[1;36m  Input \u001b[1;32mIn [6]\u001b[1;36m\u001b[0m\n\u001b[1;33m    type(and)\u001b[0m\n\u001b[1;37m         ^\u001b[0m\n\u001b[1;31mSyntaxError\u001b[0m\u001b[1;31m:\u001b[0m invalid syntax\n"
     ]
    }
   ],
   "source": [
    "type(and)"
   ]
  },
  {
   "cell_type": "code",
   "execution_count": 7,
   "id": "5346c000-9d0c-46b6-b96e-d5acce294d54",
   "metadata": {},
   "outputs": [
    {
     "ename": "SyntaxError",
     "evalue": "invalid syntax (192420000.py, line 1)",
     "output_type": "error",
     "traceback": [
      "\u001b[1;36m  Input \u001b[1;32mIn [7]\u001b[1;36m\u001b[0m\n\u001b[1;33m    and\u001b[0m\n\u001b[1;37m    ^\u001b[0m\n\u001b[1;31mSyntaxError\u001b[0m\u001b[1;31m:\u001b[0m invalid syntax\n"
     ]
    }
   ],
   "source": [
    "and"
   ]
  },
  {
   "cell_type": "code",
   "execution_count": 8,
   "id": "ac047028-facd-45ae-a287-1e661ce6220a",
   "metadata": {},
   "outputs": [
    {
     "ename": "NameError",
     "evalue": "name 'i' is not defined",
     "output_type": "error",
     "traceback": [
      "\u001b[1;31m---------------------------------------------------------------------------\u001b[0m",
      "\u001b[1;31mNameError\u001b[0m                                 Traceback (most recent call last)",
      "Input \u001b[1;32mIn [8]\u001b[0m, in \u001b[0;36m<cell line: 1>\u001b[1;34m()\u001b[0m\n\u001b[1;32m----> 1\u001b[0m \u001b[43mi\u001b[49m \u001b[38;5;129;01mand\u001b[39;00m e\n",
      "\u001b[1;31mNameError\u001b[0m: name 'i' is not defined"
     ]
    }
   ],
   "source": [
    "i and e"
   ]
  },
  {
   "cell_type": "code",
   "execution_count": 9,
   "id": "e7fbd67e-3ac8-42ff-901f-150bedcc139c",
   "metadata": {},
   "outputs": [],
   "source": [
    "i=0\n",
    "e=0"
   ]
  },
  {
   "cell_type": "code",
   "execution_count": 10,
   "id": "04cabe0c-62c3-44b6-8fc3-a7462a118ff3",
   "metadata": {},
   "outputs": [
    {
     "data": {
      "text/plain": [
       "0"
      ]
     },
     "execution_count": 10,
     "metadata": {},
     "output_type": "execute_result"
    }
   ],
   "source": [
    "i and e"
   ]
  },
  {
   "cell_type": "code",
   "execution_count": 22,
   "id": "41df82b9-f046-406f-ae57-bcef49a452aa",
   "metadata": {},
   "outputs": [
    {
     "name": "stdin",
     "output_type": "stream",
     "text": [
      "enter the age: 12\n"
     ]
    },
    {
     "name": "stdout",
     "output_type": "stream",
     "text": [
      "You may cross your maturation period\n"
     ]
    }
   ],
   "source": [
    "age=input(\"enter the age:\")\n",
    "Your_age = int(age)\n",
    "if Your_age<=18 and  not  Your_age>=10:\n",
    "    print(\"You are about to be mature\")\n",
    "else:\n",
    "    print(\"You may cross your maturation period\")"
   ]
  },
  {
   "cell_type": "code",
   "execution_count": 29,
   "id": "f41c0be1-f86a-401f-a324-008dbfbf7a91",
   "metadata": {},
   "outputs": [
    {
     "data": {
      "text/plain": [
       "False"
      ]
     },
     "execution_count": 29,
     "metadata": {},
     "output_type": "execute_result"
    }
   ],
   "source": [
    "#logical equality operations\n",
    "First_name = \"Harshal\"\n",
    "last_name = \"Harshal\"\n",
    "Last_name = str(last_name)\n",
    "\n",
    "First_name != Last_name"
   ]
  },
  {
   "cell_type": "code",
   "execution_count": 33,
   "id": "eb24b5fd-047f-47af-99b0-a22bf8c9f04f",
   "metadata": {},
   "outputs": [
    {
     "data": {
      "text/plain": [
       "2169853505200"
      ]
     },
     "execution_count": 33,
     "metadata": {},
     "output_type": "execute_result"
    }
   ],
   "source": [
    "id (last_name)"
   ]
  },
  {
   "cell_type": "code",
   "execution_count": null,
   "id": "7b0d7d63-e005-4b37-8381-3ddadc9cc5d5",
   "metadata": {},
   "outputs": [],
   "source": [
    "#if-else-while-for\n",
    "Age = input(\"Enter your age\")\n",
    "Your_age = int(Age)\n",
    "\n",
    "while(Your_age<=18):\n",
    "    if (Your_age<=18 and Your_age>=15):\n",
    "        print(\"You are in university\")\n",
    "    else:\n",
    "        print(\"You are in school\")\n",
    "else:\n",
    "    print(\"You are doing job\")"
   ]
  },
  {
   "cell_type": "code",
   "execution_count": null,
   "id": "7b6e1f1c-c9a9-472d-93ef-0f71bf816f7d",
   "metadata": {},
   "outputs": [],
   "source": []
  }
 ],
 "metadata": {
  "kernelspec": {
   "display_name": "Python 3 (ipykernel)",
   "language": "python",
   "name": "python3"
  },
  "language_info": {
   "codemirror_mode": {
    "name": "ipython",
    "version": 3
   },
   "file_extension": ".py",
   "mimetype": "text/x-python",
   "name": "python",
   "nbconvert_exporter": "python",
   "pygments_lexer": "ipython3",
   "version": "3.9.12"
  }
 },
 "nbformat": 4,
 "nbformat_minor": 5
}
