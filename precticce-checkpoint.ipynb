{
 "cells": [
  {
   "cell_type": "code",
   "execution_count": 2,
   "id": "8c5b3ebd",
   "metadata": {},
   "outputs": [],
   "source": [
    "import numpy as np"
   ]
  },
  {
   "cell_type": "code",
   "execution_count": 14,
   "id": "725edef5",
   "metadata": {},
   "outputs": [],
   "source": [
    "arr = np.linspace(15,16, dtype = np.float32)"
   ]
  },
  {
   "cell_type": "code",
   "execution_count": 15,
   "id": "f41b8158",
   "metadata": {},
   "outputs": [
    {
     "data": {
      "text/plain": [
       "array([15.      , 15.020409, 15.040816, 15.061225, 15.081633, 15.102041,\n",
       "       15.122449, 15.142858, 15.163265, 15.183674, 15.204082, 15.22449 ,\n",
       "       15.244898, 15.265306, 15.285714, 15.306123, 15.32653 , 15.346939,\n",
       "       15.367347, 15.387755, 15.408163, 15.428572, 15.448979, 15.469388,\n",
       "       15.489796, 15.510204, 15.530612, 15.551021, 15.571428, 15.591837,\n",
       "       15.612245, 15.632653, 15.653061, 15.67347 , 15.693877, 15.714286,\n",
       "       15.734694, 15.755102, 15.77551 , 15.795918, 15.816326, 15.836735,\n",
       "       15.857142, 15.877551, 15.897959, 15.918367, 15.938775, 15.959184,\n",
       "       15.979591, 16.      ], dtype=float32)"
      ]
     },
     "execution_count": 15,
     "metadata": {},
     "output_type": "execute_result"
    }
   ],
   "source": [
    "arr"
   ]
  },
  {
   "cell_type": "code",
   "execution_count": 16,
   "id": "327b9f7d",
   "metadata": {},
   "outputs": [
    {
     "data": {
      "text/plain": [
       "4"
      ]
     },
     "execution_count": 16,
     "metadata": {},
     "output_type": "execute_result"
    }
   ],
   "source": [
    "arr.itemsize"
   ]
  },
  {
   "cell_type": "code",
   "execution_count": 17,
   "id": "65db23e5",
   "metadata": {},
   "outputs": [
    {
     "data": {
      "text/plain": [
       "50"
      ]
     },
     "execution_count": 17,
     "metadata": {},
     "output_type": "execute_result"
    }
   ],
   "source": [
    "arr.size"
   ]
  },
  {
   "cell_type": "code",
   "execution_count": 19,
   "id": "7da73d9b",
   "metadata": {},
   "outputs": [
    {
     "data": {
      "text/plain": [
       "array([ 4.0269114e-41, -2.7327785e-24,  3.0456884e-10, -1.2822451e+05,\n",
       "        3.7189356e+18, -1.6372204e+33, -1.5126556e-30,  1.7472682e-16,\n",
       "       -1.9097449e-02,  8.2616721e+12, -2.3628481e+26, -8.9014433e-37,\n",
       "        9.7379925e-23, -1.1085889e-08,  1.1997521e+06, -5.2908517e+20,\n",
       "        1.5046142e+34,  5.5795352e-29, -6.2299616e-15,  7.0492941e-01,\n",
       "       -7.4470983e+13,  3.3960089e+28,  8.2503639e-36, -3.4534019e-21,\n",
       "        3.9947375e-07, -4.4425476e+07,  4.6756915e+21, -2.1648736e+36,\n",
       "       -5.1898732e-28,  2.2068893e-13, -2.5434206e+01,  2.8055588e+15,\n",
       "       -3.0017267e+29, -1.1945433e-33,  3.2712722e-20, -1.4154998e-05,\n",
       "        1.6230401e+09, -1.7530058e+23,  1.9314129e+37,  7.6128633e-26,\n",
       "       -2.0391052e-12,  9.0995709e+02, -1.0273233e+17,  1.0972560e+31,\n",
       "        1.0712657e-32, -4.8109623e-18,  1.2731274e-04, -5.8115494e+10,\n",
       "        6.5167556e+24,  4.6008832e-41], dtype=float32)"
      ]
     },
     "execution_count": 19,
     "metadata": {},
     "output_type": "execute_result"
    }
   ],
   "source": [
    "arr.byteswap()"
   ]
  },
  {
   "cell_type": "code",
   "execution_count": 23,
   "id": "ae2cba1b",
   "metadata": {},
   "outputs": [
    {
     "data": {
      "text/plain": [
       "<function ndarray.item>"
      ]
     },
     "execution_count": 23,
     "metadata": {},
     "output_type": "execute_result"
    }
   ],
   "source": [
    "arr.item"
   ]
  },
  {
   "cell_type": "raw",
   "id": "30506194",
   "metadata": {},
   "source": [
    "arr"
   ]
  },
  {
   "cell_type": "raw",
   "id": "8f7f0dce",
   "metadata": {},
   "source": []
  },
  {
   "cell_type": "code",
   "execution_count": 25,
   "id": "128940df",
   "metadata": {},
   "outputs": [
    {
     "data": {
      "text/plain": [
       "1"
      ]
     },
     "execution_count": 25,
     "metadata": {},
     "output_type": "execute_result"
    }
   ],
   "source": [
    "arr.ndim"
   ]
  },
  {
   "cell_type": "code",
   "execution_count": 26,
   "id": "1d9abb07",
   "metadata": {},
   "outputs": [],
   "source": [
    "arr1 = arr.reshape((2,5,5))"
   ]
  },
  {
   "cell_type": "code",
   "execution_count": 27,
   "id": "be5113e6",
   "metadata": {},
   "outputs": [
    {
     "data": {
      "text/plain": [
       "array([[[15.      , 15.020409, 15.040816, 15.061225, 15.081633],\n",
       "        [15.102041, 15.122449, 15.142858, 15.163265, 15.183674],\n",
       "        [15.204082, 15.22449 , 15.244898, 15.265306, 15.285714],\n",
       "        [15.306123, 15.32653 , 15.346939, 15.367347, 15.387755],\n",
       "        [15.408163, 15.428572, 15.448979, 15.469388, 15.489796]],\n",
       "\n",
       "       [[15.510204, 15.530612, 15.551021, 15.571428, 15.591837],\n",
       "        [15.612245, 15.632653, 15.653061, 15.67347 , 15.693877],\n",
       "        [15.714286, 15.734694, 15.755102, 15.77551 , 15.795918],\n",
       "        [15.816326, 15.836735, 15.857142, 15.877551, 15.897959],\n",
       "        [15.918367, 15.938775, 15.959184, 15.979591, 16.      ]]],\n",
       "      dtype=float32)"
      ]
     },
     "execution_count": 27,
     "metadata": {},
     "output_type": "execute_result"
    }
   ],
   "source": [
    "arr1"
   ]
  },
  {
   "cell_type": "code",
   "execution_count": 28,
   "id": "f8a05df2",
   "metadata": {},
   "outputs": [
    {
     "data": {
      "text/plain": [
       "(2, 5, 5)"
      ]
     },
     "execution_count": 28,
     "metadata": {},
     "output_type": "execute_result"
    }
   ],
   "source": [
    "arr1.shape"
   ]
  },
  {
   "cell_type": "code",
   "execution_count": 31,
   "id": "6e7747cf",
   "metadata": {},
   "outputs": [
    {
     "data": {
      "text/plain": [
       "3"
      ]
     },
     "execution_count": 31,
     "metadata": {},
     "output_type": "execute_result"
    }
   ],
   "source": [
    "arr1.ndim"
   ]
  },
  {
   "cell_type": "code",
   "execution_count": 32,
   "id": "e53625fa",
   "metadata": {},
   "outputs": [
    {
     "data": {
      "text/plain": [
       "array([[15.408163, 15.428572, 15.448979, 15.469388, 15.489796],\n",
       "       [15.918367, 15.938775, 15.959184, 15.979591, 16.      ]],\n",
       "      dtype=float32)"
      ]
     },
     "execution_count": 32,
     "metadata": {},
     "output_type": "execute_result"
    }
   ],
   "source": [
    "arr1.max(1)"
   ]
  },
  {
   "cell_type": "code",
   "execution_count": 33,
   "id": "42bc8a9f",
   "metadata": {},
   "outputs": [
    {
     "data": {
      "text/plain": [
       "array([[15.      , 15.020409, 15.040816, 15.061225, 15.081633],\n",
       "       [15.102041, 15.122449, 15.142858, 15.163265, 15.183674],\n",
       "       [15.204082, 15.22449 , 15.244898, 15.265306, 15.285714],\n",
       "       [15.306123, 15.32653 , 15.346939, 15.367347, 15.387755],\n",
       "       [15.408163, 15.428572, 15.448979, 15.469388, 15.489796]],\n",
       "      dtype=float32)"
      ]
     },
     "execution_count": 33,
     "metadata": {},
     "output_type": "execute_result"
    }
   ],
   "source": [
    "arr1[0]"
   ]
  },
  {
   "cell_type": "code",
   "execution_count": 34,
   "id": "38e43538",
   "metadata": {},
   "outputs": [
    {
     "data": {
      "text/plain": [
       "array([[[15.      , 15.020409, 15.040816, 15.061225, 15.081633],\n",
       "        [15.102041, 15.122449, 15.142858, 15.163265, 15.183674],\n",
       "        [15.204082, 15.22449 , 15.244898, 15.265306, 15.285714],\n",
       "        [15.306123, 15.32653 , 15.346939, 15.367347, 15.387755],\n",
       "        [15.408163, 15.428572, 15.448979, 15.469388, 15.489796]],\n",
       "\n",
       "       [[15.510204, 15.530612, 15.551021, 15.571428, 15.591837],\n",
       "        [15.612245, 15.632653, 15.653061, 15.67347 , 15.693877],\n",
       "        [15.714286, 15.734694, 15.755102, 15.77551 , 15.795918],\n",
       "        [15.816326, 15.836735, 15.857142, 15.877551, 15.897959],\n",
       "        [15.918367, 15.938775, 15.959184, 15.979591, 16.      ]]],\n",
       "      dtype=float32)"
      ]
     },
     "execution_count": 34,
     "metadata": {},
     "output_type": "execute_result"
    }
   ],
   "source": [
    "arr1[0:]"
   ]
  },
  {
   "cell_type": "code",
   "execution_count": 38,
   "id": "0aa84936",
   "metadata": {},
   "outputs": [
    {
     "data": {
      "text/plain": [
       "array([[15.      , 15.020409, 15.040816, 15.061225, 15.081633],\n",
       "       [15.204082, 15.22449 , 15.244898, 15.265306, 15.285714],\n",
       "       [15.408163, 15.428572, 15.448979, 15.469388, 15.489796]],\n",
       "      dtype=float32)"
      ]
     },
     "execution_count": 38,
     "metadata": {},
     "output_type": "execute_result"
    }
   ],
   "source": [
    "#Indexing and stepping using startpoint and endpoint\n",
    "arr1[0, 0:25:2]"
   ]
  },
  {
   "cell_type": "code",
   "execution_count": null,
   "id": "3e2da9ff",
   "metadata": {},
   "outputs": [],
   "source": []
  }
 ],
 "metadata": {
  "kernelspec": {
   "display_name": "Python 3 (ipykernel)",
   "language": "python",
   "name": "python3"
  },
  "language_info": {
   "codemirror_mode": {
    "name": "ipython",
    "version": 3
   },
   "file_extension": ".py",
   "mimetype": "text/x-python",
   "name": "python",
   "nbconvert_exporter": "python",
   "pygments_lexer": "ipython3",
   "version": "3.9.12"
  }
 },
 "nbformat": 4,
 "nbformat_minor": 5
}
